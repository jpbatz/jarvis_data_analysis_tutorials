{
 "cells": [
  {
   "cell_type": "markdown",
   "metadata": {
    "slideshow": {
     "slide_type": "slide"
    }
   },
   "source": [
    "# Welcome to the Dark Art of Coding:\n",
    "## Introduction to Python\n",
    "Lists\n",
    "\n",
    "<img src='../images/dark_art_logo.600px.png' width='300' style=\"float:right\">"
   ]
  },
  {
   "cell_type": "markdown",
   "metadata": {},
   "source": [
    "# Objectives\n",
    "---"
   ]
  },
  {
   "cell_type": "markdown",
   "metadata": {},
   "source": [
    "In this session, students should expect to:\n",
    "\n",
    "* Understand what a Python list is\n",
    "* Use indexing and slicing in lists to extract specific items\n",
    "* Learn which methods are associated with lists\n",
    "* Use representative list methods, such as .append() and .extend()"
   ]
  },
  {
   "cell_type": "markdown",
   "metadata": {
    "slideshow": {
     "slide_type": "-"
    }
   },
   "source": [
    "# What is a list?\n",
    "---"
   ]
  },
  {
   "cell_type": "markdown",
   "metadata": {},
   "source": [
    "* Lists are a collection of objects\n",
    "* Lists may contain any number of objects OR may be empty\n",
    "* They do not need to be defined or initialized beforehand\n",
    "* They may contain any Python object, including other lists\n",
    "* Lists may be assigned a label OR they may be used as constants\n",
    "* Lists may be changed (i.e. they are mutable)"
   ]
  },
  {
   "cell_type": "code",
   "execution_count": null,
   "metadata": {
    "collapsed": true,
    "slideshow": {
     "slide_type": "-"
    }
   },
   "outputs": [],
   "source": [
    "cities = ['São Paulo', 'Paris', 'London', 'San Fransokyo']\n",
    "print(cities)\n"
   ]
  },
  {
   "cell_type": "markdown",
   "metadata": {},
   "source": [
    "# Indexing and slicing\n",
    "---"
   ]
  },
  {
   "cell_type": "code",
   "execution_count": 31,
   "metadata": {
    "collapsed": true,
    "slideshow": {
     "slide_type": "-"
    }
   },
   "outputs": [],
   "source": [
    "# Much like strings, lists are indexed, starting at 0.\n",
    "\n",
    "cities = ['São Paulo', 'Paris', 'London', 'San Fransokyo']\n",
    "#             ^           ^        ^         ^\n",
    "#             0           1        2         3\n"
   ]
  },
  {
   "cell_type": "code",
   "execution_count": 32,
   "metadata": {
    "collapsed": true,
    "slideshow": {
     "slide_type": "-"
    }
   },
   "outputs": [],
   "source": [
    "# Again, like strings, lists are reverse indexed, starting at -1.\n",
    "\n",
    "cities = ['São Paulo', 'Paris', 'London', 'San Fransokyo']\n",
    "#             ^           ^        ^         ^\n",
    "#             0           1        2         3\n",
    "#            -4          -3       -2        -1"
   ]
  },
  {
   "cell_type": "code",
   "execution_count": 33,
   "metadata": {
    "slideshow": {
     "slide_type": "-"
    }
   },
   "outputs": [
    {
     "name": "stdout",
     "output_type": "stream",
     "text": [
      "São Paulo\n",
      "Paris\n",
      "London\n",
      "San Fransokyo\n"
     ]
    }
   ],
   "source": [
    "# Referencing the name of the list and the index will return the\n",
    "#     value at that index\n",
    "\n",
    "print(cities[0])\n",
    "print(cities[1])\n",
    "print(cities[2])\n",
    "print(cities[-1])"
   ]
  },
  {
   "cell_type": "code",
   "execution_count": 34,
   "metadata": {
    "slideshow": {
     "slide_type": "-"
    }
   },
   "outputs": [
    {
     "name": "stdout",
     "output_type": "stream",
     "text": [
      "You traveled to London and San Fransokyo\n"
     ]
    }
   ],
   "source": [
    "# Indexing can be used directly within other Python statements/functions\n",
    "#     ... provided the extracted value is appropriate for \n",
    "#     the statement or function\n",
    "#     Here, each value in the list is a string, so they can be concatenated\n",
    "#     to other strings.     \n",
    "\n",
    "print('You traveled to ' + cities[2] + ' and ' + cities[-1])"
   ]
  },
  {
   "cell_type": "code",
   "execution_count": 35,
   "metadata": {
    "slideshow": {
     "slide_type": "-"
    }
   },
   "outputs": [
    {
     "ename": "TypeError",
     "evalue": "list indices must be integers or slices, not float",
     "output_type": "error",
     "traceback": [
      "\u001b[0;31m---------------------------------------------------------------------------\u001b[0m",
      "\u001b[0;31mTypeError\u001b[0m                                 Traceback (most recent call last)",
      "\u001b[0;32m<ipython-input-35-7bb14b64a508>\u001b[0m in \u001b[0;36m<module>\u001b[0;34m()\u001b[0m\n\u001b[1;32m      1\u001b[0m \u001b[0;31m# Indexing requires integers\u001b[0m\u001b[0;34m\u001b[0m\u001b[0;34m\u001b[0m\u001b[0m\n\u001b[1;32m      2\u001b[0m \u001b[0;34m\u001b[0m\u001b[0m\n\u001b[0;32m----> 3\u001b[0;31m \u001b[0mcities\u001b[0m\u001b[0;34m[\u001b[0m\u001b[0;36m1.0\u001b[0m\u001b[0;34m]\u001b[0m\u001b[0;34m\u001b[0m\u001b[0m\n\u001b[0m",
      "\u001b[0;31mTypeError\u001b[0m: list indices must be integers or slices, not float"
     ]
    }
   ],
   "source": [
    "# Indexing requires integers\n",
    "\n",
    "cities[1.0]"
   ]
  },
  {
   "cell_type": "code",
   "execution_count": 36,
   "metadata": {
    "slideshow": {
     "slide_type": "-"
    }
   },
   "outputs": [
    {
     "ename": "IndexError",
     "evalue": "list index out of range",
     "output_type": "error",
     "traceback": [
      "\u001b[0;31m---------------------------------------------------------------------------\u001b[0m",
      "\u001b[0;31mIndexError\u001b[0m                                Traceback (most recent call last)",
      "\u001b[0;32m<ipython-input-36-23f4ec67724c>\u001b[0m in \u001b[0;36m<module>\u001b[0;34m()\u001b[0m\n\u001b[1;32m      2\u001b[0m \u001b[0;31m# the list, Python returns an IndexError.\u001b[0m\u001b[0;34m\u001b[0m\u001b[0;34m\u001b[0m\u001b[0m\n\u001b[1;32m      3\u001b[0m \u001b[0;34m\u001b[0m\u001b[0m\n\u001b[0;32m----> 4\u001b[0;31m \u001b[0mcities\u001b[0m\u001b[0;34m[\u001b[0m\u001b[0;36m42\u001b[0m\u001b[0;34m]\u001b[0m\u001b[0;34m\u001b[0m\u001b[0m\n\u001b[0m",
      "\u001b[0;31mIndexError\u001b[0m: list index out of range"
     ]
    }
   ],
   "source": [
    "# Like strings, if our index exceeds the number of elements in \n",
    "# the list, Python returns an IndexError.\n",
    "\n",
    "cities[42]"
   ]
  },
  {
   "cell_type": "code",
   "execution_count": 37,
   "metadata": {
    "collapsed": true,
    "slideshow": {
     "slide_type": "-"
    }
   },
   "outputs": [],
   "source": [
    "# Lists can contain any Python object and unlike many languages, \n",
    "#     you can mix or match items (i.e. heterogenous elements are ok!)\n",
    "# NOTE: despite this, homogeneous elements are the norm...\n",
    "\n",
    "randomStuff = ['name', 7, 'food']\n",
    "\n",
    "# As noted above, homogeneous element types are the norm\n",
    "# see tuples if you want to store heterogeneous records ..."
   ]
  },
  {
   "cell_type": "code",
   "execution_count": 38,
   "metadata": {
    "collapsed": true,
    "slideshow": {
     "slide_type": "-"
    }
   },
   "outputs": [],
   "source": [
    "# Nested lists are fine\n",
    "\n",
    "microbe = [['bacteria', 'archaea', 'fungi', 'protists'], \n",
    "           ['single-celled', 'multicellular'],\n",
    "           ['0.3 μm', '0.6 μm', '1.5 μm', '4 μm', '60 μm', '500 μm']]"
   ]
  },
  {
   "cell_type": "code",
   "execution_count": 39,
   "metadata": {},
   "outputs": [
    {
     "data": {
      "text/plain": [
       "'μ'"
      ]
     },
     "execution_count": 39,
     "metadata": {},
     "output_type": "execute_result"
    }
   ],
   "source": [
    "microbe[2][2][4]"
   ]
  },
  {
   "cell_type": "code",
   "execution_count": 40,
   "metadata": {},
   "outputs": [
    {
     "data": {
      "text/plain": [
       "'a'"
      ]
     },
     "execution_count": 40,
     "metadata": {},
     "output_type": "execute_result"
    }
   ],
   "source": [
    "s = 'joanne'\n",
    "s[2]\n"
   ]
  },
  {
   "cell_type": "code",
   "execution_count": 41,
   "metadata": {
    "slideshow": {
     "slide_type": "-"
    }
   },
   "outputs": [
    {
     "data": {
      "text/plain": [
       "'multicellular'"
      ]
     },
     "execution_count": 41,
     "metadata": {},
     "output_type": "execute_result"
    }
   ],
   "source": [
    "# Accessing elements from sublists is also accomplished \n",
    "# via indexing\n",
    "\n",
    "microbe[1][1]"
   ]
  },
  {
   "cell_type": "code",
   "execution_count": 42,
   "metadata": {
    "slideshow": {
     "slide_type": "-"
    }
   },
   "outputs": [
    {
     "data": {
      "text/plain": [
       "'fungi'"
      ]
     },
     "execution_count": 42,
     "metadata": {},
     "output_type": "execute_result"
    }
   ],
   "source": [
    "microbe[0][2]"
   ]
  },
  {
   "cell_type": "code",
   "execution_count": 43,
   "metadata": {
    "slideshow": {
     "slide_type": "-"
    }
   },
   "outputs": [
    {
     "name": "stdout",
     "output_type": "stream",
     "text": [
      "The original list:\n",
      "['São Paulo', 'Paris', 'London', 'San Fransokyo']\n",
      "------------------------------------------------------------\n",
      "Sliced from 0 up to but NOT including 3:\n",
      "['São Paulo', 'Paris', 'London']\n"
     ]
    }
   ],
   "source": [
    "# Want more items from a list?\n",
    "# use slices...\n",
    "\n",
    "print('The original list:', cities, sep='\\n')\n",
    "print('-' * 60)\n",
    "print('Sliced from 0 up to but NOT including 3:')\n",
    "print(cities[0:3])"
   ]
  },
  {
   "cell_type": "code",
   "execution_count": 44,
   "metadata": {
    "scrolled": true,
    "slideshow": {
     "slide_type": "-"
    }
   },
   "outputs": [
    {
     "name": "stdout",
     "output_type": "stream",
     "text": [
      "Sliced from 0 up to but NOT including 9000:\n",
      "['São Paulo', 'Paris', 'London', 'San Fransokyo']\n"
     ]
    }
   ],
   "source": [
    "# Slice behavior when given a value out of bounds is slightly different\n",
    "#     than index behavior.\n",
    "#     Anything out of bounds is allowed... Python simply returns\n",
    "#     the values up to the limit...\n",
    "\n",
    "print('Sliced from 0 up to but NOT including 9000:')\n",
    "print(cities[0:9000])"
   ]
  },
  {
   "cell_type": "code",
   "execution_count": 45,
   "metadata": {
    "slideshow": {
     "slide_type": "-"
    }
   },
   "outputs": [
    {
     "name": "stdout",
     "output_type": "stream",
     "text": [
      "Sliced from 0 up to but NOT including -1:\n",
      "['São Paulo', 'Paris', 'London']\n"
     ]
    }
   ],
   "source": [
    "# Mixing and matching positive and negative indexes is acceptable\n",
    "\n",
    "print('Sliced from 0 up to but NOT including -1:')\n",
    "print(cities[0:-1])"
   ]
  },
  {
   "cell_type": "code",
   "execution_count": 46,
   "metadata": {
    "slideshow": {
     "slide_type": "-"
    }
   },
   "outputs": [
    {
     "name": "stdout",
     "output_type": "stream",
     "text": [
      "Sliced from 0 up to but NOT including 4:\n",
      "['São Paulo', 'Paris', 'London', 'San Fransokyo']\n"
     ]
    }
   ],
   "source": [
    "# The same shortcut used in string indexing applies to list indexing\n",
    "#     You can skip the starting index OR the ending index OR both.\n",
    "\n",
    "print('Sliced from 0 up to but NOT including 4:')\n",
    "print(cities[:4])"
   ]
  },
  {
   "cell_type": "code",
   "execution_count": 47,
   "metadata": {
    "slideshow": {
     "slide_type": "-"
    }
   },
   "outputs": [
    {
     "name": "stdout",
     "output_type": "stream",
     "text": [
      "['São Paulo', 'Paris', 'London', 'San Fransokyo']\n"
     ]
    }
   ],
   "source": [
    "# this syntax is often used to make a copy of a list\n",
    "\n",
    "cities_copy = cities[:     ]   \n",
    "print(cities_copy)"
   ]
  },
  {
   "cell_type": "code",
   "execution_count": 48,
   "metadata": {},
   "outputs": [
    {
     "data": {
      "text/plain": [
       "['São Paulo', 'Paris']"
      ]
     },
     "execution_count": 48,
     "metadata": {},
     "output_type": "execute_result"
    }
   ],
   "source": [
    "cities[:2]"
   ]
  },
  {
   "cell_type": "code",
   "execution_count": 49,
   "metadata": {},
   "outputs": [
    {
     "data": {
      "text/plain": [
       "['São Paulo', 'London']"
      ]
     },
     "execution_count": 49,
     "metadata": {},
     "output_type": "execute_result"
    }
   ],
   "source": [
    "# Like strings and ranges, we can use increment values in slices\n",
    "# ['São Paulo', 'Paris', 'London', 'San Fransokyo']\n",
    "\n",
    "cities[::2]\n",
    "    "
   ]
  },
  {
   "cell_type": "code",
   "execution_count": 50,
   "metadata": {
    "slideshow": {
     "slide_type": "-"
    }
   },
   "outputs": [
    {
     "name": "stdout",
     "output_type": "stream",
     "text": [
      "['São Paulo', 'Paris', 'London', 'San Fransokyo']\n",
      "['São Paulo', 'Paris', ['Seoul', 42, 13, 'bob'], 'San Fransokyo']\n"
     ]
    }
   ],
   "source": [
    "# Lists are mutable: we can change them when desired.\n",
    "#     Here we re-assign the index at 2 to a new value stored in memory\n",
    "#     In this case, changing 'London' to 'Seoul'\n",
    "\n",
    "print(cities)\n",
    "cities[2] = ['Seoul', 42, 13, 'bob']\n",
    "print(cities)"
   ]
  },
  {
   "cell_type": "code",
   "execution_count": 51,
   "metadata": {
    "scrolled": true,
    "slideshow": {
     "slide_type": "-"
    }
   },
   "outputs": [
    {
     "ename": "IndexError",
     "evalue": "list assignment index out of range",
     "output_type": "error",
     "traceback": [
      "\u001b[0;31m---------------------------------------------------------------------------\u001b[0m",
      "\u001b[0;31mIndexError\u001b[0m                                Traceback (most recent call last)",
      "\u001b[0;32m<ipython-input-51-4cba46b5149b>\u001b[0m in \u001b[0;36m<module>\u001b[0;34m()\u001b[0m\n\u001b[1;32m      1\u001b[0m \u001b[0;31m# Assignment to a list index out of bounds will fail.\u001b[0m\u001b[0;34m\u001b[0m\u001b[0;34m\u001b[0m\u001b[0m\n\u001b[1;32m      2\u001b[0m \u001b[0;34m\u001b[0m\u001b[0m\n\u001b[0;32m----> 3\u001b[0;31m \u001b[0mcities\u001b[0m\u001b[0;34m[\u001b[0m\u001b[0;36m100\u001b[0m\u001b[0;34m]\u001b[0m \u001b[0;34m=\u001b[0m \u001b[0;34m'food'\u001b[0m\u001b[0;34m\u001b[0m\u001b[0m\n\u001b[0m\u001b[1;32m      4\u001b[0m \u001b[0mprint\u001b[0m\u001b[0;34m(\u001b[0m\u001b[0mcities\u001b[0m\u001b[0;34m)\u001b[0m\u001b[0;34m\u001b[0m\u001b[0m\n",
      "\u001b[0;31mIndexError\u001b[0m: list assignment index out of range"
     ]
    }
   ],
   "source": [
    "# Assignment to a list index out of bounds will fail.\n",
    "\n",
    "cities[100] = 'food'\n",
    "print(cities)"
   ]
  },
  {
   "cell_type": "markdown",
   "metadata": {},
   "source": [
    "# Experience Points!\n",
    "---"
   ]
  },
  {
   "cell_type": "markdown",
   "metadata": {
    "collapsed": true
   },
   "source": [
    "On the **IPython interpreter** do each of the following:\n",
    "\n",
    "Task | Sample Object(s)\n",
    ":---|:---\n",
    "Assign the label `extensions` to a list of these strings | 'txt', 'rtf', 'csv', 'tsv'\n",
    "`print()` `extensions`|\n",
    "Overwrite the item at index 2 of `extensions` with this string | 'pdf'\n",
    "`print()` `extensions`|\n",
    "Assign the label `nested` to a nested list of these integers | 1, 2, 3, 4\n",
    "| with a nested list of 11, 22, 33, 44\n",
    "`print()` `nested`|\n",
    "Assign a label `nested_copy` to a copy of `nested`|\n",
    "`print()` `nested_copy`|"
   ]
  },
  {
   "cell_type": "markdown",
   "metadata": {},
   "source": [
    "When you complete this exercise, please put your green post-it on your monitor. \n",
    "\n",
    "If you want to continue on at your own-pace, please feel free to do so.\n",
    "\n",
    "<img src='../images/green_sticky.300px.png' width='200' style='float:left'>"
   ]
  },
  {
   "cell_type": "markdown",
   "metadata": {},
   "source": [
    "# Miscellaneousness\n",
    "---"
   ]
  },
  {
   "cell_type": "code",
   "execution_count": 52,
   "metadata": {
    "slideshow": {
     "slide_type": "-"
    }
   },
   "outputs": [
    {
     "data": {
      "text/plain": [
       "4"
      ]
     },
     "execution_count": 52,
     "metadata": {},
     "output_type": "execute_result"
    }
   ],
   "source": [
    "# To determine the length of a list, we use the builtin function:\n",
    "#     len()\n",
    "\n",
    "len(cities)"
   ]
  },
  {
   "cell_type": "code",
   "execution_count": 53,
   "metadata": {
    "slideshow": {
     "slide_type": "-"
    }
   },
   "outputs": [
    {
     "data": {
      "text/plain": [
       "list"
      ]
     },
     "execution_count": 53,
     "metadata": {},
     "output_type": "execute_result"
    }
   ],
   "source": [
    "# To confirm that you have a list, we use the builtin function:\n",
    "#     type()\n",
    "\n",
    "type(cities)"
   ]
  },
  {
   "cell_type": "code",
   "execution_count": 54,
   "metadata": {
    "slideshow": {
     "slide_type": "-"
    }
   },
   "outputs": [
    {
     "data": {
      "text/plain": [
       "[1, 2, 3, 'Z', 'Y', 'X']"
      ]
     },
     "execution_count": 54,
     "metadata": {},
     "output_type": "execute_result"
    }
   ],
   "source": [
    "# Lists can be concatenated using a plus operator...\n",
    "\n",
    "[1, 2, 3] + ['Z', 'Y', 'X']"
   ]
  },
  {
   "cell_type": "code",
   "execution_count": 55,
   "metadata": {
    "slideshow": {
     "slide_type": "-"
    }
   },
   "outputs": [
    {
     "data": {
      "text/plain": [
       "[1, 2, 3, 1, 2, 3, 1, 2, 3, 1, 2, 3]"
      ]
     },
     "execution_count": 55,
     "metadata": {},
     "output_type": "execute_result"
    }
   ],
   "source": [
    "# Lists can be repetitively concatenated using a \n",
    "#     multiplication operator\n",
    "\n",
    "[1, 2, 3] * 4"
   ]
  },
  {
   "cell_type": "code",
   "execution_count": 56,
   "metadata": {
    "collapsed": true
   },
   "outputs": [],
   "source": [
    "# Lists may be empty\n",
    "\n",
    "empty = []"
   ]
  },
  {
   "cell_type": "code",
   "execution_count": 57,
   "metadata": {
    "slideshow": {
     "slide_type": "-"
    }
   },
   "outputs": [
    {
     "name": "stdout",
     "output_type": "stream",
     "text": [
      "10\n",
      "20\n",
      "30\n",
      "40\n"
     ]
    }
   ],
   "source": [
    "# Lists can be iterated over, using the for loop construct\n",
    "# In this case, this list is considered a list literal OR a constant:\n",
    "#     there is no label to reference the list.\n",
    "\n",
    "for number in [10, 20, 30, 40]:\n",
    "    print(number)"
   ]
  },
  {
   "cell_type": "code",
   "execution_count": 58,
   "metadata": {
    "slideshow": {
     "slide_type": "-"
    }
   },
   "outputs": [
    {
     "data": {
      "text/plain": [
       "True"
      ]
     },
     "execution_count": 58,
     "metadata": {},
     "output_type": "execute_result"
    }
   ],
   "source": [
    "# It is trivial to test for inclusion, using the\n",
    "#     in operator\n",
    "\n",
    "'San Fransokyo' in cities"
   ]
  },
  {
   "cell_type": "code",
   "execution_count": 59,
   "metadata": {
    "slideshow": {
     "slide_type": "-"
    }
   },
   "outputs": [
    {
     "data": {
      "text/plain": [
       "True"
      ]
     },
     "execution_count": 59,
     "metadata": {},
     "output_type": "execute_result"
    }
   ],
   "source": [
    "# And for exclusion, using the not operator\n",
    "\n",
    "'Shanghai' not in cities"
   ]
  },
  {
   "cell_type": "code",
   "execution_count": 61,
   "metadata": {
    "slideshow": {
     "slide_type": "-"
    }
   },
   "outputs": [
    {
     "name": "stdout",
     "output_type": "stream",
     "text": [
      "What is your favorite food? escargot\n",
      "Well, I suppose that is probably tasty as well!\n"
     ]
    }
   ],
   "source": [
    "# Here is an example of such a test...\n",
    "\n",
    "fav_food = input('What is your favorite food? ')\n",
    "\n",
    "\n",
    "if fav_food in ['pizza', 'steak', 'ice cream', 'sushi']:\n",
    "\n",
    "    print('You like ' + fav_food + '?')\n",
    "    print('Me too!')\n",
    "\n",
    "else:\n",
    "    print('Well, I suppose that is probably tasty as well!')"
   ]
  },
  {
   "cell_type": "code",
   "execution_count": 64,
   "metadata": {},
   "outputs": [
    {
     "name": "stdout",
     "output_type": "stream",
     "text": [
      "range(0, 10)\n",
      "[0, 1, 2, 3, 4, 5, 6, 7, 8, 9]\n"
     ]
    },
    {
     "data": {
      "text/plain": [
       "['h', 'e', 'l', 'l', 'o']"
      ]
     },
     "execution_count": 64,
     "metadata": {},
     "output_type": "execute_result"
    }
   ],
   "source": [
    "# Making a list of sequential numbers...\n",
    "# In older versions of Python, the range() function\n",
    "#     returns a list.\n",
    "# This is NOT true in Python 3. In version 3, range()\n",
    "#     produces a range object that produces new values\n",
    "#     on demand...\n",
    "# If you want to get a legit list, use the list() factory\n",
    "#     function\n",
    "\n",
    "# list(  whatever you put in here...     )\n",
    "\n",
    "my_range = range(10)\n",
    "print(my_range)\n",
    "\n",
    "my_list = list(range(10))\n",
    "print(my_list)\n",
    "\n",
    "list('hello')\n"
   ]
  },
  {
   "cell_type": "code",
   "execution_count": 65,
   "metadata": {},
   "outputs": [
    {
     "name": "stdout",
     "output_type": "stream",
     "text": [
      "['a', 'l', 'o', 'h', 'a', ' ', 'w', 'o', 'r', 'l', 'd']\n"
     ]
    }
   ],
   "source": [
    "# The list() factory function can convert just\n",
    "#     about ANY sequence to a list object\n",
    "# For example, you can convert each character in a string\n",
    "#     a single elements stored in a list.\n",
    "\n",
    "my_chars = list('aloha world')\n",
    "print(my_chars)"
   ]
  },
  {
   "cell_type": "markdown",
   "metadata": {},
   "source": [
    "# Experience Points!\n",
    "---"
   ]
  },
  {
   "cell_type": "markdown",
   "metadata": {
    "collapsed": true
   },
   "source": [
    "In your **text editor** create a simple script called:\n",
    "\n",
    "```bash\n",
    "my_lists_01.py```\n",
    "\n",
    "Execute your script in the **IPython interpreter** using the command:\n",
    "\n",
    "```bash\n",
    "run my_lists_01.py```\n",
    "\n",
    "\n",
    "Task | Sample Object(s)\n",
    ":---|:---\n",
    "Assign the label `nums` to this list of integers | 42, 13, 7, 9000\n",
    "Assign the label `test_42` to the result of a test to see if 42 is in `nums`|\n",
    "`print()` `test_42`|\n",
    "Assign the label `test_2001` to the result of a test to see if 2001 is in `nums`|\n",
    "`print()` `test_2001`|\n",
    "Assign the label `range_obj` to the result of converting a range object to a list | range(10, 21)\n",
    "`print()` `range_obj`|\n",
    "\n",
    "\n",
    "\n"
   ]
  },
  {
   "cell_type": "markdown",
   "metadata": {},
   "source": [
    "When you complete this exercise, please put your green post-it on your monitor. \n",
    "\n",
    "If you want to continue on at your own-pace, please feel free to do so.\n",
    "\n",
    "<img src='../images/green_sticky.300px.png' width='200' style='float:left'>"
   ]
  },
  {
   "cell_type": "code",
   "execution_count": 70,
   "metadata": {},
   "outputs": [
    {
     "name": "stdout",
     "output_type": "stream",
     "text": [
      "test for 42ness: True\n",
      "test for 2001ness: False\n",
      "[10, 11, 12, 13, 14, 15, 16, 17, 18, 19, 20]\n"
     ]
    }
   ],
   "source": [
    "nums = [1, 13, 42, 9000]\n",
    "\n",
    "test_42 = 42 in nums\n",
    "print('test for 42ness:', test_42)\n",
    "\n",
    "test_2001 = 2001 in nums\n",
    "print('test for 2001ness:', test_2001)\n",
    "\n",
    "print(list(range(10, 21)))\n"
   ]
  },
  {
   "cell_type": "markdown",
   "metadata": {},
   "source": [
    "# Deleting details\n",
    "---"
   ]
  },
  {
   "cell_type": "code",
   "execution_count": 71,
   "metadata": {
    "scrolled": true,
    "slideshow": {
     "slide_type": "-"
    }
   },
   "outputs": [
    {
     "name": "stdout",
     "output_type": "stream",
     "text": [
      "['São Paulo', 'Paris', ['Seoul', 42, 13, 'bob'], 'San Fransokyo']\n",
      "------------------------------------------------------------\n",
      "['São Paulo', ['Seoul', 42, 13, 'bob'], 'San Fransokyo']\n"
     ]
    }
   ],
   "source": [
    "# It is possible to delete specific list items using del:\n",
    "\n",
    "print(cities)\n",
    "print('-' * 60)\n",
    "\n",
    "\n",
    "del cities[1]\n",
    "print(cities)"
   ]
  },
  {
   "cell_type": "code",
   "execution_count": 72,
   "metadata": {
    "scrolled": true,
    "slideshow": {
     "slide_type": "-"
    }
   },
   "outputs": [
    {
     "ename": "NameError",
     "evalue": "name 'cities' is not defined",
     "output_type": "error",
     "traceback": [
      "\u001b[0;31m---------------------------------------------------------------------------\u001b[0m",
      "\u001b[0;31mNameError\u001b[0m                                 Traceback (most recent call last)",
      "\u001b[0;32m<ipython-input-72-2a976df25dab>\u001b[0m in \u001b[0;36m<module>\u001b[0;34m()\u001b[0m\n\u001b[1;32m      2\u001b[0m \u001b[0;34m\u001b[0m\u001b[0m\n\u001b[1;32m      3\u001b[0m \u001b[0;32mdel\u001b[0m \u001b[0mcities\u001b[0m\u001b[0;34m\u001b[0m\u001b[0m\n\u001b[0;32m----> 4\u001b[0;31m \u001b[0mprint\u001b[0m\u001b[0;34m(\u001b[0m\u001b[0mcities\u001b[0m\u001b[0;34m)\u001b[0m\u001b[0;34m\u001b[0m\u001b[0m\n\u001b[0m",
      "\u001b[0;31mNameError\u001b[0m: name 'cities' is not defined"
     ]
    }
   ],
   "source": [
    "# We can even delete entire lists using del\n",
    "\n",
    "del cities\n",
    "print(cities)"
   ]
  },
  {
   "cell_type": "markdown",
   "metadata": {},
   "source": [
    "# Enumerating items in a list\n",
    "---"
   ]
  },
  {
   "cell_type": "code",
   "execution_count": 73,
   "metadata": {},
   "outputs": [
    {
     "name": "stdout",
     "output_type": "stream",
     "text": [
      "Weapon: sword\t Indexed as 0\n",
      "Weapon: axe\t Indexed as 1\n",
      "Weapon: bow\t Indexed as 2\n",
      "Weapon: dagger\t Indexed as 3\n"
     ]
    }
   ],
   "source": [
    "# When cycling through a list, sometimes you want to \n",
    "#     know the index for an element...\n",
    "#     this is possible using a somewhat convoluted range(len()) \n",
    "#     construct, but\n",
    "\n",
    "#     there is a built-in function enumerate()\n",
    "#     that does this better: \n",
    "\n",
    "weapons = ['sword', 'axe', 'bow', 'dagger']\n",
    "\n",
    "for index in range(len(weapons)):\n",
    "    print('Weapon: ' + weapons[index] + '\\t Indexed as ' + str(index))"
   ]
  },
  {
   "cell_type": "code",
   "execution_count": 77,
   "metadata": {
    "slideshow": {
     "slide_type": "slide"
    }
   },
   "outputs": [
    {
     "name": "stdout",
     "output_type": "stream",
     "text": [
      "WEAPON: sword\t INDEXED as 0\n",
      "WEAPON: axe\t INDEXED as 1\n",
      "WEAPON: bow\t INDEXED as 2\n",
      "WEAPON: dagger\t INDEXED as 3\n"
     ]
    }
   ],
   "source": [
    " \n",
    "for index, weapon in enumerate(weapons):\n",
    "    print('WEAPON: ' + weapon + '\\t INDEXED as ' + str(index))\n",
    "    "
   ]
  },
  {
   "cell_type": "markdown",
   "metadata": {},
   "source": [
    "# Extracting values\n",
    "---"
   ]
  },
  {
   "cell_type": "code",
   "execution_count": 78,
   "metadata": {
    "slideshow": {
     "slide_type": "slide"
    }
   },
   "outputs": [
    {
     "name": "stdout",
     "output_type": "stream",
     "text": [
      "Arthur in England with a sword\n",
      "Arthur in England with a sword\n"
     ]
    }
   ],
   "source": [
    "# extracting and naming particular fields\n",
    "# is often used to make code more readable and maintainable\n",
    "\n",
    "hero = ['Arthur', 'sword', 'England', 'chainmail armor']\n",
    "\n",
    "name = hero[0]\n",
    "weapon = hero[1]\n",
    "country = hero[2]\n",
    "armor = hero[3]\n",
    "\n",
    "print(name, 'in', country, 'with a', weapon)\n",
    "print(hero[0], 'in', hero[2], 'with a', hero[1])\n"
   ]
  },
  {
   "cell_type": "code",
   "execution_count": 86,
   "metadata": {
    "slideshow": {
     "slide_type": "fragment"
    }
   },
   "outputs": [
    {
     "name": "stdout",
     "output_type": "stream",
     "text": [
      "Arthur\n",
      "sword\n",
      "['England', 'chainmail armor']\n",
      "sword and chainmail armor\n"
     ]
    }
   ],
   "source": [
    "# If the list is short enough, UNPACKING it all in one fell swoop is \n",
    "# often better:\n",
    "\n",
    "hero = ['Arthur', 'sword', 'England', 'chainmail armor']\n",
    "\n",
    "name, weapon, country, armor = hero        # list/tuple unpacking \n",
    "\n",
    "print(weapon, 'and', armor)\n",
    "\n",
    "\n",
    "# This is often called tuple or list unpacking\n",
    "#     or unpacking, for short"
   ]
  },
  {
   "cell_type": "code",
   "execution_count": 87,
   "metadata": {
    "slideshow": {
     "slide_type": "fragment"
    }
   },
   "outputs": [
    {
     "name": "stdout",
     "output_type": "stream",
     "text": [
      "['Diana', 'Diana', 'Diana', 'Diana']\n"
     ]
    }
   ],
   "source": [
    "# Augmented assignment also works...\n",
    "\n",
    "heroine = ['Diana']\n",
    "heroine *= 4\n",
    "print(heroine)"
   ]
  },
  {
   "cell_type": "markdown",
   "metadata": {},
   "source": [
    "# Experience Points!\n",
    "---"
   ]
  },
  {
   "cell_type": "markdown",
   "metadata": {
    "collapsed": true
   },
   "source": [
    "In your **text editor** create a simple script called:\n",
    "\n",
    "```bash\n",
    "my_lists_02.py```\n",
    "\n",
    "Execute your script in the **IPython interpreter** using the command:\n",
    "\n",
    "```bash\n",
    "run my_lists_02.py```\n",
    "\n",
    "Task | Sample Object(s)\n",
    ":---|:---\n",
    "Assign a label `biglist` to the concatenation of two smaller lists| [1, 2, 3]\n",
    "|[97, 98, 99]\n",
    "Iterate over `biglist` using `enumerate()`|\n",
    "`print()` the index and each number from `biglist`|\n"
   ]
  },
  {
   "cell_type": "code",
   "execution_count": 94,
   "metadata": {},
   "outputs": [
    {
     "name": "stdout",
     "output_type": "stream",
     "text": [
      "0 1\n",
      "the index was:0the number was1\n",
      "1 2\n",
      "the index was:1the number was2\n",
      "2 3\n",
      "the index was:2the number was3\n",
      "3 97\n",
      "the index was:3the number was97\n",
      "4 98\n",
      "the index was:4the number was98\n",
      "5 99\n",
      "the index was:5the number was99\n"
     ]
    }
   ],
   "source": [
    "biglist = [1, 2, 3] + [97, 98, 99]\n",
    "\n",
    "for index, number in enumerate(biglist):\n",
    "    print(index, biglist[index])\n",
    "    \n",
    "    output = 'the index was:' + str(index) + 'the number was' + str(biglist[index])\n",
    "    \n",
    "    print(output)"
   ]
  },
  {
   "cell_type": "code",
   "execution_count": null,
   "metadata": {
    "collapsed": true
   },
   "outputs": [],
   "source": []
  },
  {
   "cell_type": "markdown",
   "metadata": {},
   "source": [
    "When you complete this exercise, please put your green post-it on your monitor. \n",
    "\n",
    "If you want to continue on at your own-pace, please feel free to do so.\n",
    "\n",
    "<img src='../images/green_sticky.300px.png' width='200' style='float:left'>"
   ]
  },
  {
   "cell_type": "code",
   "execution_count": null,
   "metadata": {
    "collapsed": true
   },
   "outputs": [],
   "source": []
  },
  {
   "cell_type": "markdown",
   "metadata": {
    "slideshow": {
     "slide_type": "slide"
    }
   },
   "source": [
    "<h2>Methods!</h2>"
   ]
  },
  {
   "cell_type": "code",
   "execution_count": 102,
   "metadata": {
    "slideshow": {
     "slide_type": "slide"
    }
   },
   "outputs": [
    {
     "data": {
      "text/plain": [
       "1"
      ]
     },
     "execution_count": 102,
     "metadata": {},
     "output_type": "execute_result"
    }
   ],
   "source": [
    "# Methods are the real workhorse for lists and give you \n",
    "#     great power.\n",
    "\n",
    "# If you need to find out the index for an object, you can use the\n",
    "#     .index() function\n",
    "\n",
    "items = ['sword', 'shield', 'health potion', 'armor', 'boots']\n",
    "\n",
    "items.index('shield')"
   ]
  },
  {
   "cell_type": "markdown",
   "metadata": {
    "slideshow": {
     "slide_type": "slide"
    }
   },
   "source": [
    "## lists have 11 methods...\n",
    "\n",
    "```python\n",
    "items.append()\n",
    "items.clear()\n",
    "items.copy()\n",
    "items.count()\n",
    "items.extend()\n",
    "items.index()\n",
    "items.insert()\n",
    "items.pop()\n",
    "items.remove()\n",
    "items.reverse()\n",
    "items.sort()\n",
    "```\n",
    "\n",
    "We will look at several, but will leave examination of the remainder as an exercise for the student"
   ]
  },
  {
   "cell_type": "code",
   "execution_count": 110,
   "metadata": {
    "collapsed": true
   },
   "outputs": [],
   "source": [
    "items.reverse?"
   ]
  },
  {
   "cell_type": "code",
   "execution_count": 107,
   "metadata": {},
   "outputs": [
    {
     "data": {
      "text/plain": [
       "['boots', 'armor', 'health potion', 'shield', 'sword']"
      ]
     },
     "execution_count": 107,
     "metadata": {},
     "output_type": "execute_result"
    }
   ],
   "source": [
    "items"
   ]
  },
  {
   "cell_type": "code",
   "execution_count": 112,
   "metadata": {},
   "outputs": [
    {
     "data": {
      "text/plain": [
       "'sword'"
      ]
     },
     "execution_count": 112,
     "metadata": {},
     "output_type": "execute_result"
    }
   ],
   "source": [
    "items.pop()"
   ]
  },
  {
   "cell_type": "code",
   "execution_count": 113,
   "metadata": {},
   "outputs": [
    {
     "data": {
      "text/plain": [
       "['boots', 'armor', 'health potion', 'shield']"
      ]
     },
     "execution_count": 113,
     "metadata": {},
     "output_type": "execute_result"
    }
   ],
   "source": [
    "items"
   ]
  },
  {
   "cell_type": "code",
   "execution_count": 114,
   "metadata": {},
   "outputs": [
    {
     "data": {
      "text/plain": [
       "'boots'"
      ]
     },
     "execution_count": 114,
     "metadata": {},
     "output_type": "execute_result"
    }
   ],
   "source": [
    "items.pop(0)"
   ]
  },
  {
   "cell_type": "code",
   "execution_count": 115,
   "metadata": {},
   "outputs": [
    {
     "data": {
      "text/plain": [
       "['armor', 'health potion', 'shield']"
      ]
     },
     "execution_count": 115,
     "metadata": {},
     "output_type": "execute_result"
    }
   ],
   "source": [
    "items"
   ]
  },
  {
   "cell_type": "code",
   "execution_count": null,
   "metadata": {
    "collapsed": true
   },
   "outputs": [],
   "source": [
    "items"
   ]
  },
  {
   "cell_type": "markdown",
   "metadata": {
    "slideshow": {
     "slide_type": "slide"
    }
   },
   "source": [
    "```python\n",
    "help(items.append)\n",
    "\n",
    "L.append(object) -> None -- append object to end\n",
    "```\n",
    "\n",
    "Helpful hints...\n",
    "\n",
    "```\n",
    "* 'L' stands for your variable name\n",
    "* '->' shows what this function returns as a return value\n",
    "* everything after the '--' is the help documentation\n",
    "```"
   ]
  },
  {
   "cell_type": "code",
   "execution_count": null,
   "metadata": {
    "collapsed": true
   },
   "outputs": [],
   "source": [
    "# What does it mean that this method returns None?\n",
    "\n",
    "# It results in two things:\n",
    "#     * the list gets changed in place \n",
    "#     * you don't get a copy back of the new, improved list\n",
    "\n",
    "# This leads to confusion regularly... we will talk about that later..."
   ]
  },
  {
   "cell_type": "code",
   "execution_count": 129,
   "metadata": {
    "collapsed": true
   },
   "outputs": [],
   "source": [
    "items = ['sword', 'shield', 'health potion', 'armor', 'boots']\n"
   ]
  },
  {
   "cell_type": "code",
   "execution_count": 117,
   "metadata": {
    "slideshow": {
     "slide_type": "slide"
    }
   },
   "outputs": [
    {
     "name": "stdout",
     "output_type": "stream",
     "text": [
      "['sword', 'shield', 'health potion', 'armor', 'boots', 'armor']\n"
     ]
    }
   ],
   "source": [
    "# Append places an object at the end of the list.\n",
    "\n",
    "items.append('armor')\n",
    "print(items)"
   ]
  },
  {
   "cell_type": "code",
   "execution_count": 118,
   "metadata": {
    "slideshow": {
     "slide_type": "slide"
    }
   },
   "outputs": [
    {
     "name": "stdout",
     "output_type": "stream",
     "text": [
      "['sword', 'shield', 'health potion', 'armor', 'boots', 'armor', ['food', 'map']]\n"
     ]
    }
   ],
   "source": [
    "# .append() is atomic: any object is appended as is, versus as individual \n",
    "#     elements.\n",
    "\n",
    "items.append(['food', 'map'])\n",
    "print(items)"
   ]
  },
  {
   "cell_type": "code",
   "execution_count": 119,
   "metadata": {
    "slideshow": {
     "slide_type": "fragment"
    }
   },
   "outputs": [
    {
     "name": "stdout",
     "output_type": "stream",
     "text": [
      "['sword', 'shield', 'health potion', 'armor', 'boots', 'armor']\n"
     ]
    }
   ],
   "source": [
    "# Let's delete that nested list.\n",
    "\n",
    "del items[6]\n",
    "print(items)"
   ]
  },
  {
   "cell_type": "code",
   "execution_count": 120,
   "metadata": {
    "scrolled": true,
    "slideshow": {
     "slide_type": "fragment"
    }
   },
   "outputs": [
    {
     "name": "stdout",
     "output_type": "stream",
     "text": [
      "['sword', 'shield', 'health potion', 'armor', 'boots', 'armor', 'food', 'map']\n"
     ]
    }
   ],
   "source": [
    "# .extend(), on the other hand, essentially appends the elements \n",
    "#     of the object, one by one to the end of the list\n",
    "\n",
    "items.extend(['food', 'map'])\n",
    "print(items)"
   ]
  },
  {
   "cell_type": "code",
   "execution_count": 121,
   "metadata": {
    "collapsed": true
   },
   "outputs": [],
   "source": [
    "items.extend?"
   ]
  },
  {
   "cell_type": "code",
   "execution_count": 122,
   "metadata": {
    "collapsed": true,
    "slideshow": {
     "slide_type": "slide"
    }
   },
   "outputs": [],
   "source": [
    "# let's look at the sort() method:\n",
    "\n",
    "items.sort?"
   ]
  },
  {
   "cell_type": "code",
   "execution_count": 123,
   "metadata": {},
   "outputs": [
    {
     "name": "stdout",
     "output_type": "stream",
     "text": [
      "['abc', 'efg', 'efgh', 'wert', 'qwer', 'defr']\n"
     ]
    }
   ],
   "source": [
    "myl = ['abc', 'efgh','wert', 'qwer', 'efg', 'defr']\n",
    "myl.sort(key=len)\n",
    "print(myl)"
   ]
  },
  {
   "cell_type": "code",
   "execution_count": null,
   "metadata": {
    "collapsed": true
   },
   "outputs": [],
   "source": []
  },
  {
   "cell_type": "code",
   "execution_count": 126,
   "metadata": {},
   "outputs": [
    {
     "name": "stdout",
     "output_type": "stream",
     "text": [
      "['health potion', 'shield', 'armor', 'armor', 'boots', 'sword', 'food', 'map']\n"
     ]
    }
   ],
   "source": [
    "# If we call the .sort() method, the item gets changed in memory\n",
    "#     ie. it gets changed **in place**.\n",
    "\n",
    "items.sort(key=len, reverse=True)\n",
    "print(items)"
   ]
  },
  {
   "cell_type": "markdown",
   "metadata": {},
   "source": [
    "# What could go wrong?\n",
    "---"
   ]
  },
  {
   "cell_type": "code",
   "execution_count": 130,
   "metadata": {},
   "outputs": [],
   "source": [
    "# It is a very common error for students AND pros\n",
    "#     to do this:\n",
    "\n",
    "items = items.sort()"
   ]
  },
  {
   "cell_type": "code",
   "execution_count": 134,
   "metadata": {},
   "outputs": [
    {
     "data": {
      "text/plain": [
       "'DARK LORD'"
      ]
     },
     "execution_count": 134,
     "metadata": {},
     "output_type": "execute_result"
    }
   ],
   "source": [
    "name = 'dark lord'\n",
    "name = name.upper()\n",
    "name"
   ]
  },
  {
   "cell_type": "code",
   "execution_count": 132,
   "metadata": {},
   "outputs": [
    {
     "name": "stdout",
     "output_type": "stream",
     "text": [
      "None\n"
     ]
    }
   ],
   "source": [
    "print(items)\n"
   ]
  },
  {
   "cell_type": "code",
   "execution_count": null,
   "metadata": {
    "collapsed": true
   },
   "outputs": [],
   "source": [
    "# OR \n",
    "\n",
    "items = items.append(object)"
   ]
  },
  {
   "cell_type": "code",
   "execution_count": 127,
   "metadata": {
    "scrolled": true
   },
   "outputs": [
    {
     "ename": "AttributeError",
     "evalue": "'NoneType' object has no attribute 'append'",
     "output_type": "error",
     "traceback": [
      "\u001b[0;31m---------------------------------------------------------------------------\u001b[0m",
      "\u001b[0;31mAttributeError\u001b[0m                            Traceback (most recent call last)",
      "\u001b[0;32m<ipython-input-127-16ec336df051>\u001b[0m in \u001b[0;36m<module>\u001b[0;34m()\u001b[0m\n\u001b[1;32m      6\u001b[0m \u001b[0;31m# OR\u001b[0m\u001b[0;34m\u001b[0m\u001b[0;34m\u001b[0m\u001b[0m\n\u001b[1;32m      7\u001b[0m \u001b[0;34m\u001b[0m\u001b[0m\n\u001b[0;32m----> 8\u001b[0;31m \u001b[0mitems\u001b[0m \u001b[0;34m=\u001b[0m \u001b[0mitems\u001b[0m\u001b[0;34m.\u001b[0m\u001b[0mappend\u001b[0m\u001b[0;34m(\u001b[0m\u001b[0mobject\u001b[0m\u001b[0;34m)\u001b[0m\u001b[0;34m\u001b[0m\u001b[0m\n\u001b[0m\u001b[1;32m      9\u001b[0m \u001b[0;34m\u001b[0m\u001b[0m\n\u001b[1;32m     10\u001b[0m \u001b[0;31m# OR\u001b[0m\u001b[0;34m\u001b[0m\u001b[0;34m\u001b[0m\u001b[0m\n",
      "\u001b[0;31mAttributeError\u001b[0m: 'NoneType' object has no attribute 'append'"
     ]
    }
   ],
   "source": [
    "# OR\n",
    "\n",
    "items = items.extend([object1, object2])\n",
    "\n",
    "# In each case above, you end up converting items\n",
    "#     to point to the value None \n",
    "#     AND when you want to refer to your list again\n",
    "#     you will find it is gone.\n",
    "\n",
    "# You get an Error that looks similar to this:\n",
    "\n",
    "#     AttributeError: 'NoneType' object has no attribute 'append'"
   ]
  },
  {
   "cell_type": "code",
   "execution_count": null,
   "metadata": {
    "collapsed": true,
    "slideshow": {
     "slide_type": "fragment"
    }
   },
   "outputs": [],
   "source": [
    "# NOTE: remember... .sort() does its work in\n",
    "#     ascii-betical (or lexigraphical) order"
   ]
  },
  {
   "cell_type": "markdown",
   "metadata": {
    "slideshow": {
     "slide_type": "subslide"
    }
   },
   "source": [
    "ID:|Char:|ID:|Char:|ID:|Char:|ID:|Char\n",
    "---|-----|---|-----|---|-----|---|-----\n",
    "033| !   |048| 0   |065| A   |097| a\n",
    "034| \"   |049| 1   |066| B   |098| b\n",
    "036| $   |050| 2   |067| C   |099| c\n",
    "039| '   |051| 3   |068| D   |100| d\n",
    "040| (   |052| 4   |069| E   |101| e\n",
    "041| )   |053| 5   |---| ... |---| ...\n",
    "043| +   |054| 6   |087| W   |119| w\n",
    "044| ,   |055| 7   |088| X   |120| x\n",
    "045| -   |056| 8   |089| Y   |121| y\n",
    "046| .   |057| 9   |090| Z   |122| z"
   ]
  },
  {
   "cell_type": "code",
   "execution_count": 136,
   "metadata": {
    "slideshow": {
     "slide_type": "subslide"
    }
   },
   "outputs": [
    {
     "name": "stdout",
     "output_type": "stream",
     "text": [
      "['1', '2', 'a', 'b', 'C', 'd', 'E']\n"
     ]
    }
   ],
   "source": [
    "junk = ['a', 'b', 'C', 'd', 'E', '1', '2']\n",
    "junk.sort(key=str.upper)\n",
    "print(junk)"
   ]
  },
  {
   "cell_type": "code",
   "execution_count": null,
   "metadata": {
    "collapsed": true
   },
   "outputs": [],
   "source": [
    "# Sort algorithms can be modified using a sorting key\n",
    "#     key functions should:\n",
    "#         * take in one value as an argument\n",
    "#         * return one value\n",
    "#     you do not include the parens\n",
    "#     the return values are USED to assign a sort order\n",
    "\n",
    "# To get us started, let's look at a function:\n",
    "\n",
    "print(len('hello'))"
   ]
  },
  {
   "cell_type": "code",
   "execution_count": 137,
   "metadata": {
    "slideshow": {
     "slide_type": "fragment"
    }
   },
   "outputs": [
    {
     "name": "stdout",
     "output_type": "stream",
     "text": [
      "['a', 'aaaaaaa', 'aaa', 'aaaaaaaa', 'aa']\n",
      "------------------------------------------------------------\n",
      "['a', 'aa', 'aaa', 'aaaaaaa', 'aaaaaaaa']\n"
     ]
    }
   ],
   "source": [
    "junk = ['a', 'aaaaaaa', 'aaa', 'aaaaaaaa', 'aa']\n",
    "\n",
    "print(junk)\n",
    "\n",
    "print('-' * 60)\n",
    "\n",
    "junk.sort(key=len)\n",
    "print(junk)"
   ]
  },
  {
   "cell_type": "code",
   "execution_count": 138,
   "metadata": {
    "slideshow": {
     "slide_type": "fragment"
    }
   },
   "outputs": [
    {
     "name": "stdout",
     "output_type": "stream",
     "text": [
      "['B', 'C', 'D', 'a', 'e']\n",
      "------------------------------------------------------------\n",
      "['a', 'B', 'C', 'D', 'e']\n"
     ]
    }
   ],
   "source": [
    "junk = ['B', 'e', 'D', 'C', 'a']\n",
    "\n",
    "junk.sort()\n",
    "print(junk)\n",
    "print('-' * 60)\n",
    "\n",
    "junk.sort(key=str.upper)\n",
    "print(junk)\n"
   ]
  },
  {
   "cell_type": "markdown",
   "metadata": {},
   "source": [
    "# Experience Points!\n",
    "---"
   ]
  },
  {
   "cell_type": "markdown",
   "metadata": {
    "collapsed": true
   },
   "source": [
    "In your **text editor** create a simple script called:\n",
    "\n",
    "```bash\n",
    "my_lists_03.py```\n",
    "\n",
    "Execute your script in the **IPython interpreter** using the command:\n",
    "\n",
    "```bash\n",
    "run my_lists_03.py```\n",
    "\n",
    "Task | Sample Object(s)\n",
    ":---|:---\n",
    "Assign a label `alphalist` to the concatenation of two smaller lists| ['a', 'b', 'c']\n",
    "|['x', 'y', 'z']\n",
    "`.append()` a nested list to `alphalist`| ['o', 'p', 'q']\n",
    "`del` the list you just nested|\n",
    "`.extend()` `alphalist` with this list| ['G', 'g', 'G']\n",
    "`.sort()` `alphalist` using this key: | `str.upper`\n",
    "|\n"
   ]
  },
  {
   "cell_type": "code",
   "execution_count": 143,
   "metadata": {},
   "outputs": [
    {
     "name": "stdout",
     "output_type": "stream",
     "text": [
      "['a', 'b', 'c', 'x', 'y', 'z', ['o', 'p', 'q']]\n",
      "['a', 'b', 'c', 'x', 'y', 'z', 'G', 'g', 'G']\n",
      "['a', 'b', 'c', 'G', 'g', 'G', 'x', 'y', 'z']\n"
     ]
    }
   ],
   "source": [
    "al = ['a', 'b', 'c'] + ['x', 'y', 'z']\n",
    "al.append(['o', 'p', 'q'])\n",
    "print(al)\n",
    "del al[6]\n",
    "al.extend(['G', 'g', 'G'])\n",
    "print(al)\n",
    "al.sort(key=str.lower)\n",
    "print(al)"
   ]
  },
  {
   "cell_type": "markdown",
   "metadata": {},
   "source": [
    "When you complete this exercise, please put your green post-it on your monitor. \n",
    "\n",
    "If you want to continue on at your own-pace, please feel free to do so.\n",
    "\n",
    "<img src='../images/green_sticky.300px.png' width='200' style='float:left'>"
   ]
  },
  {
   "cell_type": "markdown",
   "metadata": {
    "collapsed": true
   },
   "source": [
    "# Creating lists from delimited strings\n",
    "---"
   ]
  },
  {
   "cell_type": "code",
   "execution_count": 144,
   "metadata": {},
   "outputs": [
    {
     "name": "stdout",
     "output_type": "stream",
     "text": [
      "['bruce', 'selina', 'kara', 'clark', 'diana']\n"
     ]
    }
   ],
   "source": [
    "del_string = 'bruce,selina,kara,clark,diana'\n",
    "heroes = del_string.split(',')\n",
    "print(heroes)"
   ]
  },
  {
   "cell_type": "code",
   "execution_count": 145,
   "metadata": {},
   "outputs": [
    {
     "name": "stdout",
     "output_type": "stream",
     "text": [
      "['batman', 'superman', 'aquaman', 'robin', 'catwoman']\n"
     ]
    }
   ],
   "source": [
    "aliases = 'batman superman aquaman robin catwoman'\n",
    "my_heroes = aliases.split(' ')\n",
    "print(my_heroes)"
   ]
  },
  {
   "cell_type": "code",
   "execution_count": 151,
   "metadata": {},
   "outputs": [
    {
     "name": "stdout",
     "output_type": "stream",
     "text": [
      "['catwoman', 'robin', 'aquaman', 'superman batman']\n"
     ]
    }
   ],
   "source": [
    "aliases2 = 'catwoman\\nrobin     aquaman\\tsuperman batman'\n",
    "my_heroes = aliases2.split(maxsplit=3)      # Default is to split on whitespace\n",
    "                                  # \\n\n",
    "                                  # \\t\n",
    "                                  # <space> or <spaces>\n",
    "print(my_heroes)"
   ]
  },
  {
   "cell_type": "code",
   "execution_count": 148,
   "metadata": {
    "collapsed": true
   },
   "outputs": [],
   "source": [
    "aliases.split?"
   ]
  }
 ],
 "metadata": {
  "anaconda-cloud": {},
  "celltoolbar": "Slideshow",
  "kernelspec": {
   "display_name": "Python 3",
   "language": "python",
   "name": "python3"
  },
  "language_info": {
   "codemirror_mode": {
    "name": "ipython",
    "version": 3
   },
   "file_extension": ".py",
   "mimetype": "text/x-python",
   "name": "python",
   "nbconvert_exporter": "python",
   "pygments_lexer": "ipython3",
   "version": "3.6.1"
  }
 },
 "nbformat": 4,
 "nbformat_minor": 1
}
