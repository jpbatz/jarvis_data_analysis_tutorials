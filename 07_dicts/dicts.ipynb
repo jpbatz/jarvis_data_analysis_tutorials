{
 "cells": [
  {
   "cell_type": "markdown",
   "metadata": {
    "slideshow": {
     "slide_type": "slide"
    }
   },
   "source": [
    "# Welcome to the Dark Art of Coding:\n",
    "## Introduction to Python\n",
    "Dictionaries\n",
    "\n",
    "<img src='../images/dark_art_logo.600px.png' width='300' style=\"float:right\">"
   ]
  },
  {
   "cell_type": "markdown",
   "metadata": {},
   "source": [
    "# Objectives\n",
    "---"
   ]
  },
  {
   "cell_type": "markdown",
   "metadata": {},
   "source": [
    "In this session, students should expect to:\n",
    "\n",
    "* Explore the dictionary datatype\n",
    "* Understand how to add data to a dictionary\n",
    "* Understand how to modify data in a dictionary\n",
    "* Understand how to use keys to retrieve values from a dictionary\n"
   ]
  },
  {
   "cell_type": "markdown",
   "metadata": {
    "slideshow": {
     "slide_type": "slide"
    }
   },
   "source": [
    "<h1>What is a dictionary?</h1>"
   ]
  },
  {
   "cell_type": "markdown",
   "metadata": {},
   "source": [
    "A dictionary is a collection of key and value pairs.\n",
    "\n",
    "* Each key must be **unique**\n",
    "* Each key must be **hashable** (strings, tuples, etc)\n",
    "* Dictionaries are heavily optimized for speed\n",
    "* Dictionaries are generally unordered**\n",
    "\n",
    "Hashing is an algorithm that produces a unique identifier for any given input.\n",
    "The unique identifier is used by Python to enable your data to be found very quickly.\n",
    "\n",
    "**NOTE:** Changes in Python 3.6 may alter whether dictionaries are ordered/unordered..."
   ]
  },
  {
   "cell_type": "code",
   "execution_count": null,
   "metadata": {},
   "outputs": [],
   "source": [
    "# Let's make a sample dictionary.\n",
    "# This syntax produces a dictionary literal\n",
    "# There are other methods available to make dictionaries \n",
    "#     and there is a dict() factory function\n",
    "\n",
    "contact = {'name': 'Arthur', \n",
    "           'number': '867-5309',\n",
    "           'email': 'genericEmail42@gmail.com'}\n",
    "contact\n",
    "\n",
    "# NOTE: dictionaries are unordered."
   ]
  },
  {
   "cell_type": "markdown",
   "metadata": {
    "slideshow": {
     "slide_type": "slide"
    }
   },
   "source": [
    "For the curious...\n",
    "\n",
    "** https://www.youtube.com/watch?v=6WTdTwcmxyo"
   ]
  },
  {
   "cell_type": "code",
   "execution_count": null,
   "metadata": {
    "slideshow": {
     "slide_type": "slide"
    }
   },
   "outputs": [],
   "source": [
    "# If we just want one item from a dict we access it \n",
    "#     using the same index model that we saw with strings and lists:\n",
    "#\n",
    "#     object[subscript]\n",
    "\n",
    "contact['name']"
   ]
  },
  {
   "cell_type": "markdown",
   "metadata": {
    "slideshow": {
     "slide_type": "slide"
    }
   },
   "source": [
    "<h1>Lists vs. Dicts</h1>"
   ]
  },
  {
   "cell_type": "code",
   "execution_count": null,
   "metadata": {
    "slideshow": {
     "slide_type": "subslide"
    }
   },
   "outputs": [],
   "source": [
    "# For small amounts of easily understood data,\n",
    "# storing the same data in a list seems like a reasonable solution...\n",
    "# however if the data gets too large OR is too similar, \n",
    "# remembering which index goes to what item can be tough\n",
    "#\n",
    "# Also what happens if you want to put more data at the\n",
    "# beginning of a list and need to shift every item down the line?\n",
    "\n",
    "contact_list = ['Arthur', '867-5309', 'genericEmail42@gmail.com']\n",
    "\n",
    "print(contact_list[0])"
   ]
  },
  {
   "cell_type": "code",
   "execution_count": null,
   "metadata": {
    "scrolled": true,
    "slideshow": {
     "slide_type": "fragment"
    }
   },
   "outputs": [],
   "source": [
    "# Earlier we typed this same dictionary on multiple lines\n",
    "# to make it easier to read but a one-row construct is \n",
    "# just as valid\n",
    "\n",
    "contact_dict = {'name': 'Arthur', 'number': '867-5309', 'email': 'genericEmail@gmail.com'}\n",
    "\n",
    "print(contact_dict['name'])"
   ]
  },
  {
   "cell_type": "markdown",
   "metadata": {},
   "source": [
    "# XP Grind!\n",
    "---"
   ]
  },
  {
   "cell_type": "markdown",
   "metadata": {
    "slideshow": {
     "slide_type": "slide"
    }
   },
   "source": [
    "In your the **IPython interpreter** do all of the following:\n",
    "\n",
    "* Create a dictionary with the following keys. Provide a value of your choosing to each key:\n",
    "    * name\n",
    "    * food\n",
    "    * music"
   ]
  },
  {
   "cell_type": "markdown",
   "metadata": {},
   "source": [
    "When you complete this exercise, please put your green post-it on your monitor. \n",
    "\n",
    "If you want to continue on at your own-pace, please feel free to do so.\n",
    "\n",
    "<img src='../images/green_sticky.300px.png' width='200' style='float:left'>"
   ]
  },
  {
   "cell_type": "code",
   "execution_count": null,
   "metadata": {},
   "outputs": [],
   "source": [
    "dark_lord = {'name': 'dark lord',\n",
    "             'food': 'sushi',\n",
    "             'music': 'heavy metal'}\n",
    "\n",
    "dark_lord['music']"
   ]
  },
  {
   "cell_type": "code",
   "execution_count": null,
   "metadata": {
    "slideshow": {
     "slide_type": "slide"
    }
   },
   "outputs": [],
   "source": [
    "# Lists have order associated with their items so if you create\n",
    "#     a list with a different order a comparison\n",
    "#     will say they are NOT equivalent\n",
    "\n",
    "ex_list1 = ['val1', 'val2']\n",
    "ex_list2 = ['val2', 'val1']\n",
    "\n",
    "print('Are these lists equivalent: ', ex_list1 == ex_list2)"
   ]
  },
  {
   "cell_type": "code",
   "execution_count": null,
   "metadata": {
    "slideshow": {
     "slide_type": "fragment"
    }
   },
   "outputs": [],
   "source": [
    "# As noted previously... dictionaries are unordered. When\n",
    "#     creating them no order is associated with their\n",
    "#     items so you can create them in whatever\n",
    "#     order you like and the two dictionaries will \n",
    "#     still be equivalent\n",
    "\n",
    "ex_dict1 = {'key1': 'val1', 'key2': 'val2'}\n",
    "ex_dict2 = {'key2': 'val2', 'key1': 'val1'}\n",
    "\n",
    "print('Are these dicts equivalent: ', ex_dict1 == ex_dict2)"
   ]
  },
  {
   "cell_type": "code",
   "execution_count": null,
   "metadata": {},
   "outputs": [],
   "source": [
    "# Let's refresh ourselves on the content of the \n",
    "#     contact dictionary:\n",
    "\n",
    "contact"
   ]
  },
  {
   "cell_type": "code",
   "execution_count": null,
   "metadata": {
    "collapsed": true
   },
   "outputs": [],
   "source": [
    "# What happens if we try to access a key that doesn't exist?\n",
    "\n",
    "contact['naem']"
   ]
  },
  {
   "cell_type": "markdown",
   "metadata": {
    "slideshow": {
     "slide_type": "slide"
    }
   },
   "source": [
    "## KeyError\n",
    "\n",
    "A KeyError occurs when you attempt to access a key that does not exist...\n",
    "\n",
    "Either because the key you believe is there is not really present...\n",
    "\n",
    "OR\n",
    "\n",
    "because you have inadvertantly spelled the name of your key incorrectly"
   ]
  },
  {
   "cell_type": "code",
   "execution_count": null,
   "metadata": {
    "slideshow": {
     "slide_type": "subslide"
    }
   },
   "outputs": [],
   "source": [
    "# If we want to make a new key and assign it some value we can\n",
    "#     do it like this:\n",
    "\n",
    "# Also note... our values can be any Python object.\n",
    "\n",
    "contact['num'] = 42\n",
    "contact['address'] = ['42-503 Lorelana Dr.', 'Honolulu HI', '95746']\n",
    "\n",
    "print(contact['num'])\n",
    "print(contact['address'])"
   ]
  },
  {
   "cell_type": "markdown",
   "metadata": {},
   "source": [
    "# XP Grind!\n",
    "---"
   ]
  },
  {
   "cell_type": "markdown",
   "metadata": {
    "slideshow": {
     "slide_type": "slide"
    }
   },
   "source": [
    "In your the **IPython interpreter** do all of the following:\n",
    "\n",
    "Create a new dictionary with the following keys. Provide a value of your choosing for each key BUT this time incorporate multiple datatypes such as integers, lists, etc:\n",
    "\n",
    "key | value type\n",
    ":---|:---\n",
    "name | str\n",
    "age | int\n",
    "favorite_foods | list\n",
    "favorite_songs | list"
   ]
  },
  {
   "cell_type": "markdown",
   "metadata": {},
   "source": [
    "When you complete this exercise, please put your green post-it on your monitor. \n",
    "\n",
    "If you want to continue on at your own-pace, please feel free to do so.\n",
    "\n",
    "<img src='../images/green_sticky.300px.png' width='200' style='float:left'>"
   ]
  },
  {
   "cell_type": "code",
   "execution_count": null,
   "metadata": {
    "collapsed": true
   },
   "outputs": [],
   "source": []
  },
  {
   "cell_type": "markdown",
   "metadata": {
    "slideshow": {
     "slide_type": "slide"
    }
   },
   "source": [
    "# `keys(), values(), items()`"
   ]
  },
  {
   "cell_type": "markdown",
   "metadata": {},
   "source": [
    "Besides looking at a dictionary one element at a time...\n",
    "\n",
    "Sometimes we need to look at all the keys, all the values and/or all the key: value pairs at a time:\n",
    "\n",
    "* `.keys()`\n",
    "* `.values()`\n",
    "* key: value pairs >>> `.items()`\n"
   ]
  },
  {
   "cell_type": "code",
   "execution_count": null,
   "metadata": {
    "slideshow": {
     "slide_type": "slide"
    }
   },
   "outputs": [],
   "source": [
    "print(contact.keys())\n",
    "\n",
    "# the output of this is a VIEW of the keys in the contact dict\n",
    "#     it might resemble a list, but it has subtle differences..."
   ]
  },
  {
   "cell_type": "code",
   "execution_count": null,
   "metadata": {},
   "outputs": [],
   "source": [
    "# We can iterate through the keys of a given dict\n",
    "\n",
    "for key in contact:\n",
    "    print('Key:', key)"
   ]
  },
  {
   "cell_type": "code",
   "execution_count": null,
   "metadata": {
    "slideshow": {
     "slide_type": "fragment"
    }
   },
   "outputs": [],
   "source": [
    "# You will sometimes see this written in this way\n",
    "#     which is NOT wrong, but considered \n",
    "#     poor form/unnecessary/unpythonic.\n",
    "#     simply because in for loops the default behavior\n",
    "#     is to iterate over the keys() anyway\n",
    "\n",
    "for key in contact.keys():\n",
    "    print(key)    "
   ]
  },
  {
   "cell_type": "code",
   "execution_count": null,
   "metadata": {
    "slideshow": {
     "slide_type": "fragment"
    }
   },
   "outputs": [],
   "source": [
    "# There's a similar method that returns a collection of \n",
    "#     the values from the dictionary\n",
    "\n",
    "print(contact.values())"
   ]
  },
  {
   "cell_type": "code",
   "execution_count": null,
   "metadata": {
    "slideshow": {
     "slide_type": "fragment"
    }
   },
   "outputs": [],
   "source": [
    "# You can iterate through this collection as well\n",
    "# NOTE: calling the .values() method is REQUIRED, there is\n",
    "#       no default/shortcut as there was with .keys()\n",
    "\n",
    "for v in contact.values():\n",
    "    print('Value:', v)"
   ]
  },
  {
   "cell_type": "code",
   "execution_count": null,
   "metadata": {},
   "outputs": [],
   "source": [
    "# What if you want both the keys and values (as pairs)\n",
    "\n",
    "for item in contact.items():\n",
    "    print(item)\n",
    "    \n",
    "# NOTE: each item is a tuple    "
   ]
  },
  {
   "cell_type": "code",
   "execution_count": null,
   "metadata": {
    "slideshow": {
     "slide_type": "slide"
    }
   },
   "outputs": [],
   "source": [
    "# If you want to use each of the elements from the\n",
    "#     tuples independently, you can simply UNPACK\n",
    "#     the elements \n",
    "\n",
    "for col, record in contact.items():\n",
    "    print(col.ljust(9), record)"
   ]
  },
  {
   "cell_type": "markdown",
   "metadata": {},
   "source": [
    "# XP Grind!\n",
    "---"
   ]
  },
  {
   "cell_type": "markdown",
   "metadata": {
    "slideshow": {
     "slide_type": "slide"
    }
   },
   "source": [
    "On the **IPython interpreter** do each of the following:\n",
    "\n",
    "* Use your previous dictionery (with the str, int and lists)\n",
    "* For each of the methods `.keys()`, `.values()`, and `.items()`:\n",
    "\n",
    "    * use a for loop to iterate over them AND \n",
    "    * simply print them en masse."
   ]
  },
  {
   "cell_type": "markdown",
   "metadata": {},
   "source": [
    "When you complete this exercise, please put your green post-it on your monitor. \n",
    "\n",
    "If you want to continue on at your own-pace, please feel free to do so.\n",
    "\n",
    "<img src='../images/green_sticky.300px.png' width='200' style='float:left'>"
   ]
  },
  {
   "cell_type": "code",
   "execution_count": null,
   "metadata": {},
   "outputs": [],
   "source": [
    "# A sample dictionary\n",
    "\n",
    "myd = {'name': 'dark lord',\n",
    "       'age': 99,\n",
    "       'languages': ['python', 'japanese'],\n",
    "       'favorite foods': 'sushi',\n",
    "       'favorite songs': ['crazy train', 'enter sandman'],\n",
    "       'hobby': 'board games'}\n"
   ]
  },
  {
   "cell_type": "code",
   "execution_count": null,
   "metadata": {},
   "outputs": [],
   "source": [
    "print(myd.keys())\n",
    "print()\n",
    "\n",
    "for key in myd:\n",
    "    print(key)"
   ]
  },
  {
   "cell_type": "code",
   "execution_count": null,
   "metadata": {},
   "outputs": [],
   "source": [
    "print(myd.values())\n",
    "print()\n",
    "\n",
    "for value in myd.values():\n",
    "    print(value)"
   ]
  },
  {
   "cell_type": "code",
   "execution_count": null,
   "metadata": {},
   "outputs": [],
   "source": [
    "print(myd.items())\n",
    "print()\n",
    "\n",
    "for k, v in myd.items():\n",
    "    print(k, '<->', v)"
   ]
  },
  {
   "cell_type": "code",
   "execution_count": null,
   "metadata": {
    "slideshow": {
     "slide_type": "fragment"
    }
   },
   "outputs": [],
   "source": [
    "# If we want to get a value but we're not sure if\n",
    "# that key/value pair exists BUT...\n",
    "# we don't want to crash\n",
    "\n",
    "# we have an option...\n",
    "\n",
    "contact['account_status']"
   ]
  },
  {
   "cell_type": "code",
   "execution_count": null,
   "metadata": {},
   "outputs": [],
   "source": [
    "# <tab-completion> enables us to see the types of \n",
    "#     methods associated with dictionaries...\n",
    "\n",
    "contact."
   ]
  },
  {
   "cell_type": "code",
   "execution_count": null,
   "metadata": {
    "slideshow": {
     "slide_type": "fragment"
    }
   },
   "outputs": [],
   "source": [
    "# .get() allows you to _get_ a default value back... \n",
    "# \n",
    "# NOTE: .get() does NOT alter OR update the dictionary.\n",
    "\n",
    "contact.get('account_status', 'Gwen did not include this')"
   ]
  },
  {
   "cell_type": "code",
   "execution_count": null,
   "metadata": {
    "slideshow": {
     "slide_type": "fragment"
    }
   },
   "outputs": [],
   "source": [
    "# Notice how the dictionary stays the same\n",
    "#     'account_status' has NOT been added\n",
    "\n",
    "contact"
   ]
  },
  {
   "cell_type": "code",
   "execution_count": null,
   "metadata": {
    "slideshow": {
     "slide_type": "slide"
    }
   },
   "outputs": [],
   "source": [
    "# .setdefault() on the other hand, allows you to _set_ a \n",
    "#     dictionary value based on a default if the value\n",
    "#     does not already exist.\n",
    "\n",
    "contact.setdefault('account_status', 'No account')\n",
    "\n",
    "contact\n",
    "\n",
    "# NOTE: .setdefault() changes the dictionary"
   ]
  },
  {
   "cell_type": "code",
   "execution_count": null,
   "metadata": {
    "slideshow": {
     "slide_type": "fragment"
    }
   },
   "outputs": [],
   "source": [
    "# if the value exists already, the .setdefault() method simply\n",
    "# reads the existing value.\n",
    "\n",
    "contact.setdefault('number', 'Name not given')"
   ]
  },
  {
   "cell_type": "code",
   "execution_count": null,
   "metadata": {
    "slideshow": {
     "slide_type": "slide"
    }
   },
   "outputs": [],
   "source": [
    "# notice that contact now has a value for the 'account_status' key.\n",
    "\n",
    "contact"
   ]
  },
  {
   "cell_type": "markdown",
   "metadata": {},
   "source": [
    "# Counting objects using dictionaries\n",
    "---"
   ]
  },
  {
   "cell_type": "code",
   "execution_count": null,
   "metadata": {},
   "outputs": [],
   "source": [
    "# Say we get in a list of items and we want to see which letters\n",
    "#     have the highest count\n",
    "\n",
    "chars = list('this is going to be a list for us to count which letter occurs most often')\n",
    "print(chars)\n",
    "\n",
    "# supplying a string to the list() factory function will\n",
    "#     break the string into parts and create a list of characters"
   ]
  },
  {
   "cell_type": "code",
   "execution_count": null,
   "metadata": {},
   "outputs": [],
   "source": [
    "count = {} # We create our counting dict\n",
    "\n",
    "for char in chars:\n",
    "    if char in count:          # Verify we already looked at this char\n",
    "        count[char] += 1       #     add one to the tally\n",
    "    else:                      # If not seen before, we create a key\n",
    "        count[char] = 1        #     and set its value to 1\n",
    "\n",
    "count"
   ]
  },
  {
   "cell_type": "code",
   "execution_count": null,
   "metadata": {},
   "outputs": [],
   "source": [
    "# This method is a lot simpler and avoids the \n",
    "#     if/else statements\n",
    "\n",
    "chars = list('this is going to be a list for us to count which letter occurs most often')\n",
    "\n",
    "count = {}\n",
    "\n",
    "for char in chars:\n",
    "    count[char] = count.get(char, 0) + 1    # Using the get method we don't need to have a value there\n",
    "                                            # already because if it isn't there it evaluates to 0\n",
    "                                            # by default\n",
    "count            "
   ]
  },
  {
   "cell_type": "markdown",
   "metadata": {
    "slideshow": {
     "slide_type": "slide"
    }
   },
   "source": [
    "# XP Grind!\n",
    "\n",
    "In your **text editor** create a simple script called:\n",
    "\n",
    "`my_dicts_01.py`\n",
    "\n",
    "Execute your script in the **IPython interpreter** using the command:\n",
    "\n",
    "`run my_dicts_01.py`\n",
    "\n",
    "* Create a dictionary called: `user`\n",
    "* Have a for loop iterate through a list of the following strings: `['Name', 'Phone', 'City', 'State']`\n",
    "* In each iteration:\n",
    "    * use the current item from the list as a key in the dictionary `user`\n",
    "    * get `input()` from the user and store that as the value for the key\n",
    "* Print out `user`"
   ]
  },
  {
   "cell_type": "markdown",
   "metadata": {},
   "source": [
    "When you complete this exercise, please put your green post-it on your monitor. \n",
    "\n",
    "If you want to continue on at your own-pace, please feel free to do so.\n",
    "\n",
    "<img src='../images/green_sticky.300px.png' width='200' style='float:left'>"
   ]
  },
  {
   "cell_type": "code",
   "execution_count": null,
   "metadata": {
    "slideshow": {
     "slide_type": "slide"
    }
   },
   "outputs": [],
   "source": [
    "user = {}\n",
    "\n",
    "for item in ['Name', 'Phone', 'City', 'State']:\n",
    "    user[item] = input('What is your current ' + item + ': ')\n",
    "    print(user)\n",
    "    "
   ]
  },
  {
   "cell_type": "markdown",
   "metadata": {},
   "source": [
    "# Pretty Printing\n",
    "---"
   ]
  },
  {
   "cell_type": "markdown",
   "metadata": {
    "slideshow": {
     "slide_type": "slide"
    }
   },
   "source": [
    "There's a special module used to help PRINT large amounts of data that can sometimes be difficult to read"
   ]
  },
  {
   "cell_type": "code",
   "execution_count": null,
   "metadata": {},
   "outputs": [],
   "source": [
    "# When we run this it's going to take every item pair and put it on it's own\n",
    "# line making it much easier to digest\n",
    "\n",
    "contact['num'] = [1, 2,2,3,3,3,3,3,3,3,3,3,3,3,3,3,3,3,3,3]\n",
    "contact['friends'] = 'bob fred sue alex john tim todd'.split()\n",
    "\n",
    "print(contact)"
   ]
  },
  {
   "cell_type": "code",
   "execution_count": null,
   "metadata": {
    "slideshow": {
     "slide_type": "slide"
    }
   },
   "outputs": [],
   "source": [
    "import pprint\n",
    "pprint.pprint(contact)"
   ]
  },
  {
   "cell_type": "code",
   "execution_count": null,
   "metadata": {},
   "outputs": [],
   "source": [
    "# NOTE: above, we used pprint when we wanted to PRINT\n",
    "#     by default, when IPython OR Jupyter notebooks\n",
    "#     EVALUATE code and display it, pprint is used behind\n",
    "#     the scenes to display the result of the evaluation\n",
    "\n",
    "contact\n"
   ]
  },
  {
   "cell_type": "code",
   "execution_count": null,
   "metadata": {
    "slideshow": {
     "slide_type": "subslide"
    }
   },
   "outputs": [],
   "source": [
    "# .pformat() allows you to capture the pprint() formatting for later use.\n",
    "\n",
    "text = pprint.pformat(contact)\n",
    "\n",
    "print(text)"
   ]
  },
  {
   "cell_type": "markdown",
   "metadata": {},
   "source": [
    "# Bonus\n",
    "---"
   ]
  },
  {
   "cell_type": "markdown",
   "metadata": {},
   "source": [
    "There is actually a simpler means to counting items..."
   ]
  },
  {
   "cell_type": "code",
   "execution_count": null,
   "metadata": {},
   "outputs": [],
   "source": [
    "from collections import Counter\n",
    "c = Counter(mList)\n",
    "c\n",
    "\n",
    "num = [12, 12, 12, 12, 13]\n",
    "\n",
    "n = Counter(num)\n",
    "print(n)"
   ]
  },
  {
   "cell_type": "code",
   "execution_count": null,
   "metadata": {
    "collapsed": true
   },
   "outputs": [],
   "source": []
  },
  {
   "cell_type": "code",
   "execution_count": null,
   "metadata": {
    "collapsed": true
   },
   "outputs": [],
   "source": []
  }
 ],
 "metadata": {
  "anaconda-cloud": {},
  "celltoolbar": "Slideshow",
  "kernelspec": {
   "display_name": "Python 3",
   "language": "python",
   "name": "python3"
  },
  "language_info": {
   "codemirror_mode": {
    "name": "ipython",
    "version": 3
   },
   "file_extension": ".py",
   "mimetype": "text/x-python",
   "name": "python",
   "nbconvert_exporter": "python",
   "pygments_lexer": "ipython3",
   "version": "3.6.1"
  }
 },
 "nbformat": 4,
 "nbformat_minor": 1
}
