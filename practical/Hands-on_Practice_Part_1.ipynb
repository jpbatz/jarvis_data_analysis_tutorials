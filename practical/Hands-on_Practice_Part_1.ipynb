{
 "cells": [
  {
   "cell_type": "markdown",
   "metadata": {},
   "source": [
    "# Welcome to the Dark Art of Coding:\n",
    "## Introduction to Python\n",
    "Hands-on Practice, Part 1\n",
    "\n",
    "<img src='../images/dark_art_logo.600px.png' width='300' style=\"float:right\">"
   ]
  },
  {
   "cell_type": "markdown",
   "metadata": {},
   "source": [
    "# Prerequisites\n",
    "---"
   ]
  },
  {
   "cell_type": "markdown",
   "metadata": {},
   "source": [
    "These tasks should be doable with a reasonable understanding of the following skills/knowledge:\n",
    "    \n",
    "* opening and reading files\n",
    "* lists\n",
    "* strings\n",
    "* dictionaries\n",
    "* regex\n"
   ]
  },
  {
   "cell_type": "markdown",
   "metadata": {},
   "source": [
    "# scrabble\n",
    "---"
   ]
  },
  {
   "cell_type": "markdown",
   "metadata": {},
   "source": [
    "There are two files with Scrabble words in the **../dataset** folder:\n",
    "    \n",
    "* *113809of.fic*\n",
    "* *113809of.rev.2.fic*\n",
    "\n",
    "Your task is explore the data and answer questions. Some sample questions include:\n",
    "\n",
    "* These files are different lengths. \n",
    "   * Which file has the extra words? \n",
    "   * What are the extra words?\n",
    "* Using *file 113809of.fic*\n",
    "   * identify how many words start with an 'x'\n",
    "   * identify how many words have \n",
    "      * 2 or more vowels\n",
    "      * 3 or more vowels\n",
    "      * 4 or more vowels\n",
    "      * 5 or more vowels\n",
    "      * the most vowels\n",
    "      * no vowels\n",
    "   * identify how many words have a consonant-vowel pattern\n",
    "      * for any number of consonants and vowels (i.e. cv OR cvcv OR cvcvcv OR cvcvcvcv, etc)\n",
    "      * identify the longest such word(s)\n",
    "   * identify the count of letters in the words:\n",
    "      * which three letters appear most/least frequently\n",
    "      * which which letter occurs most frequently as a double (i.e. 'ee', 'oo', etc)\n"
   ]
  },
  {
   "cell_type": "markdown",
   "metadata": {},
   "source": [
    "# cash\n",
    "---"
   ]
  },
  {
   "cell_type": "markdown",
   "metadata": {},
   "source": [
    "Questions related to these datasets will be posted soon."
   ]
  },
  {
   "cell_type": "markdown",
   "metadata": {},
   "source": [
    "# old and scary\n",
    "---"
   ]
  },
  {
   "cell_type": "markdown",
   "metadata": {},
   "source": [
    "Questions related to these datasets will be posted soon."
   ]
  }
 ],
 "metadata": {
  "kernelspec": {
   "display_name": "Python 3",
   "language": "python",
   "name": "python3"
  },
  "language_info": {
   "codemirror_mode": {
    "name": "ipython",
    "version": 3
   },
   "file_extension": ".py",
   "mimetype": "text/x-python",
   "name": "python",
   "nbconvert_exporter": "python",
   "pygments_lexer": "ipython3",
   "version": "3.6.1"
  }
 },
 "nbformat": 4,
 "nbformat_minor": 2
}
