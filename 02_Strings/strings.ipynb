{
 "cells": [
  {
   "cell_type": "markdown",
   "metadata": {
    "slideshow": {
     "slide_type": "slide"
    }
   },
   "source": [
    "# Welcome to the Dark Art of Coding:\n",
    "## Introduction to Python\n",
    "Strings\n",
    "\n",
    "<img src='../images/dark_art_logo.600px.png' width='300' style=\"float:right\">"
   ]
  },
  {
   "cell_type": "markdown",
   "metadata": {
    "slideshow": {
     "slide_type": "slide"
    }
   },
   "source": [
    "# Objectives\n",
    "---"
   ]
  },
  {
   "cell_type": "markdown",
   "metadata": {
    "slideshow": {
     "slide_type": "slide"
    }
   },
   "source": [
    "In this session, students should expect to:\n",
    "\n",
    "* Learn to create strings\n",
    "* Learn to perform basic manipulations on strings...\n",
    "* Explore basic string manipulations\n",
    "* Explore using string methods\n"
   ]
  },
  {
   "cell_type": "markdown",
   "metadata": {
    "slideshow": {
     "slide_type": "slide"
    }
   },
   "source": [
    "<h1>What is a string?</h1>\n",
    "<img src='pearl_necklace.jpg'>\n",
    "\n",
    "Photo by <a href=\"https://www.flickr.com/photos/tiararama/3530304167\">tiarama</a><br>\n",
    "Attribution http://creativecommons.org/licenses/by-nd/4.0/\n"
   ]
  },
  {
   "cell_type": "markdown",
   "metadata": {
    "slideshow": {
     "slide_type": "slide"
    }
   },
   "source": [
    "# Strings\n",
    "---"
   ]
  },
  {
   "cell_type": "code",
   "execution_count": 1,
   "metadata": {
    "slideshow": {
     "slide_type": "slide"
    }
   },
   "outputs": [
    {
     "name": "stdout",
     "output_type": "stream",
     "text": [
      "python rocks\n"
     ]
    },
    {
     "data": {
      "text/plain": [
       "'python rocks'"
      ]
     },
     "execution_count": 1,
     "metadata": {},
     "output_type": "execute_result"
    }
   ],
   "source": [
    "# Using single quotes\n",
    "\n",
    "phrase = 'python rocks'\n",
    "print(phrase)           # print() displays the value on the \"screen\" and\n",
    "                        #     and will not display the quotes\n",
    "phrase                  # in Jupyter/IPython, leaving off the print() function\n",
    "                        #     simply evaluates the variable and displays it as\n",
    "                        #     a string, with quotes "
   ]
  },
  {
   "cell_type": "code",
   "execution_count": 2,
   "metadata": {
    "slideshow": {
     "slide_type": "slide"
    }
   },
   "outputs": [
    {
     "data": {
      "text/plain": [
       "'python rocks'"
      ]
     },
     "execution_count": 2,
     "metadata": {},
     "output_type": "execute_result"
    }
   ],
   "source": [
    "# Using double quotes is also fine (but physically harder to type)\n",
    "\n",
    "phrase = \"python rocks\"\n",
    "           \n",
    "phrase                  "
   ]
  },
  {
   "cell_type": "code",
   "execution_count": 3,
   "metadata": {
    "slideshow": {
     "slide_type": "slide"
    }
   },
   "outputs": [
    {
     "ename": "SyntaxError",
     "evalue": "invalid syntax (<ipython-input-3-569f8a5b8c0e>, line 3)",
     "output_type": "error",
     "traceback": [
      "\u001b[0;36m  File \u001b[0;32m\"<ipython-input-3-569f8a5b8c0e>\"\u001b[0;36m, line \u001b[0;32m3\u001b[0m\n\u001b[0;31m    apostrophe = 'You've written code'\u001b[0m\n\u001b[0m                       ^\u001b[0m\n\u001b[0;31mSyntaxError\u001b[0m\u001b[0;31m:\u001b[0m invalid syntax\n"
     ]
    }
   ],
   "source": [
    "# Watch out if mixing apostrophes and single quotes\n",
    "\n",
    "apostrophe = 'You've written code'"
   ]
  },
  {
   "cell_type": "code",
   "execution_count": 4,
   "metadata": {
    "slideshow": {
     "slide_type": "fragment"
    }
   },
   "outputs": [
    {
     "data": {
      "text/plain": [
       "\"You've written code\""
      ]
     },
     "execution_count": 4,
     "metadata": {},
     "output_type": "execute_result"
    }
   ],
   "source": [
    "# Using double quotes to encapsulate the single quote\n",
    "#     solves this problem\n",
    "\n",
    "apostrophe = \"You've written code\"\n",
    "apostrophe"
   ]
  },
  {
   "cell_type": "code",
   "execution_count": 5,
   "metadata": {
    "slideshow": {
     "slide_type": "fragment"
    }
   },
   "outputs": [
    {
     "data": {
      "text/plain": [
       "\"You've written code\""
      ]
     },
     "execution_count": 5,
     "metadata": {},
     "output_type": "execute_result"
    }
   ],
   "source": [
    "# Using a backwards slash to \"escape\" the apostrophe also works\n",
    "\n",
    "escape = 'You\\'ve written code'\n",
    "escape"
   ]
  },
  {
   "cell_type": "code",
   "execution_count": 6,
   "metadata": {},
   "outputs": [
    {
     "data": {
      "text/plain": [
       "'42'"
      ]
     },
     "execution_count": 6,
     "metadata": {},
     "output_type": "execute_result"
    }
   ],
   "source": [
    "# Numbers encapsulated by quotes are still strings:\n",
    "\n",
    "num = '42'\n",
    "num"
   ]
  },
  {
   "cell_type": "code",
   "execution_count": 7,
   "metadata": {},
   "outputs": [
    {
     "data": {
      "text/plain": [
       "42"
      ]
     },
     "execution_count": 7,
     "metadata": {},
     "output_type": "execute_result"
    }
   ],
   "source": [
    "# To convert a numeric string to an integer\n",
    "integer_form = int('42')\n",
    "integer_form"
   ]
  },
  {
   "cell_type": "code",
   "execution_count": 8,
   "metadata": {},
   "outputs": [
    {
     "data": {
      "text/plain": [
       "42.0"
      ]
     },
     "execution_count": 8,
     "metadata": {},
     "output_type": "execute_result"
    }
   ],
   "source": [
    "# Or convert a numeric string to a float\n",
    "\n",
    "float_form = float('42.0')\n",
    "float_form"
   ]
  },
  {
   "cell_type": "markdown",
   "metadata": {},
   "source": [
    "# Escape characters\n",
    "---"
   ]
  },
  {
   "cell_type": "markdown",
   "metadata": {
    "collapsed": true,
    "slideshow": {
     "slide_type": "slide"
    }
   },
   "source": [
    "Character  | Displays\n",
    "----------|----------\n",
    "\\'        | Single quote\n",
    "\\\"        | Double quote\n",
    "\\t        | Tab \n",
    "\\n        | Newline (line break, return character)\n",
    "\\\\\\\\        | Backslash"
   ]
  },
  {
   "cell_type": "code",
   "execution_count": 9,
   "metadata": {
    "slideshow": {
     "slide_type": "slide"
    }
   },
   "outputs": [
    {
     "name": "stdout",
     "output_type": "stream",
     "text": [
      "Python\n",
      "Python 3\n",
      "Python 3.6\n"
     ]
    }
   ],
   "source": [
    "# Printing using a newline escape character\n",
    "#     enables you to put content on separate lines\n",
    "\n",
    "print(\"Python\\nPython 3\\nPython 3.6\")"
   ]
  },
  {
   "cell_type": "code",
   "execution_count": 10,
   "metadata": {
    "slideshow": {
     "slide_type": "slide"
    }
   },
   "outputs": [
    {
     "name": "stdout",
     "output_type": "stream",
     "text": [
      "You\\'re gonna be a great programmer!\n"
     ]
    }
   ],
   "source": [
    "# Raw strings let you preserve a string \"as is\"\n",
    "#    escape slashes and all\n",
    "\n",
    "print(r'You\\'re gonna be a great programmer!')"
   ]
  },
  {
   "cell_type": "markdown",
   "metadata": {},
   "source": [
    "# Experience Points!\n",
    "---"
   ]
  },
  {
   "cell_type": "markdown",
   "metadata": {},
   "source": [
    "On the **IPython interpreter** do each of the following:\n",
    "\n",
    "Task | Sample Object(s)\n",
    ":---|:---\n",
    "Create a string with your first name, a tab, your last name and a newline in it; `print()` the string | `\\t`, `\\n`\n",
    "Create a string with a triple tab in it; `print()` the string | `\\t\\t\\t`\n",
    "Create a string with a single quote in it; `print()` the string | `'`\n",
    "Recreate the same string using an alternate method|"
   ]
  },
  {
   "cell_type": "markdown",
   "metadata": {},
   "source": [
    "When you complete this exercise, please put your green post-it on your monitor. \n",
    "\n",
    "If you want to continue on at your own-pace, please feel free to do so.\n",
    "\n",
    "<img src='../images/green_sticky.300px.png' width='200' style='float:left'>"
   ]
  },
  {
   "cell_type": "markdown",
   "metadata": {},
   "source": [
    "# Multiline strings\n",
    "---"
   ]
  },
  {
   "cell_type": "code",
   "execution_count": 13,
   "metadata": {
    "slideshow": {
     "slide_type": "slide"
    }
   },
   "outputs": [
    {
     "name": "stdout",
     "output_type": "stream",
     "text": [
      "Multiline Strings!\n",
      "\n",
      "multiline strings will preserve\n",
      "    the nuances\n",
      "        including the newlines and leading spaces and \n",
      "\n",
      "yes, you're still gonna be a great programmer!\n",
      "\n",
      "\n"
     ]
    }
   ],
   "source": [
    "# Multiline strings: using triple quotes (either ' OR \")\n",
    "#     preserve natural newlines and leading spaces, etc.\n",
    "\n",
    "print(\"\"\"Multiline Strings!\n",
    "\n",
    "multiline strings will preserve\n",
    "    the nuances\n",
    "        including the newlines and leading spaces and \n",
    "\n",
    "yes, you're still gonna be a great programmer!\n",
    "\n",
    "\"\"\")"
   ]
  },
  {
   "cell_type": "code",
   "execution_count": 14,
   "metadata": {
    "collapsed": true,
    "slideshow": {
     "slide_type": "slide"
    }
   },
   "outputs": [],
   "source": [
    "# One great place to use multiline quotes is as the \n",
    "#     first string in a function. This string is\n",
    "#     automatically used by Python as the documentation\n",
    "#     or Docstring for your function.\n",
    "\n",
    "def getRandomNumber():\n",
    "    '''This function returns a random number\n",
    "    \n",
    "    chosen by fair dice roll.\n",
    "    guaranteed to be random.\n",
    "    \n",
    "    hat tip to http://xkcd.com/221/'''\n",
    "    return 4"
   ]
  },
  {
   "cell_type": "code",
   "execution_count": 15,
   "metadata": {
    "slideshow": {
     "slide_type": "slide"
    }
   },
   "outputs": [
    {
     "name": "stdout",
     "output_type": "stream",
     "text": [
      "Help on function getRandomNumber in module __main__:\n",
      "\n",
      "getRandomNumber()\n",
      "    This function returns a random number\n",
      "    \n",
      "    chosen by fair dice roll.\n",
      "    guaranteed to be random.\n",
      "    \n",
      "    hat tip to http://xkcd.com/221/\n",
      "\n"
     ]
    }
   ],
   "source": [
    "help(getRandomNumber)"
   ]
  },
  {
   "cell_type": "markdown",
   "metadata": {
    "slideshow": {
     "slide_type": "slide"
    }
   },
   "source": [
    "## xkcd\n",
    "<img src='random_number.png'>\n",
    "\n",
    "Attribution http://xkcd.com/221/"
   ]
  },
  {
   "cell_type": "markdown",
   "metadata": {},
   "source": [
    "# Indexing and slicing\n",
    "---"
   ]
  },
  {
   "cell_type": "markdown",
   "metadata": {},
   "source": [
    "## Indexing"
   ]
  },
  {
   "cell_type": "markdown",
   "metadata": {},
   "source": [
    "Each character in a string has an index:\n",
    "Indexes start at zero (0)\n",
    "\n",
    "```Python\n",
    "language = 'P  Y  T  H  O  N'\n",
    "            0  1  2  3  4  5\n",
    "```"
   ]
  },
  {
   "cell_type": "markdown",
   "metadata": {},
   "source": [
    "Indexes also exist counting backwards from the end:\n",
    "NOTE: reverse indexing starts counting at -1.\n",
    "\n",
    "\n",
    "```Python\n",
    "language = 'P  Y  T  H  O  N'\n",
    "            0  1  2  3  4  5\n",
    "           -6 -5 -4 -3 -2 -1 \n",
    "```"
   ]
  },
  {
   "cell_type": "code",
   "execution_count": 16,
   "metadata": {
    "slideshow": {
     "slide_type": "slide"
    }
   },
   "outputs": [
    {
     "name": "stdout",
     "output_type": "stream",
     "text": [
      "P\n"
     ]
    }
   ],
   "source": [
    "# To reference a specific character in a string, you\n",
    "#     simply use bracket notation and the index\n",
    "#     of the character you are interested in.\n",
    "\n",
    "phrase = 'Pyladies!'\n",
    "print(phrase[0])"
   ]
  },
  {
   "cell_type": "code",
   "execution_count": 17,
   "metadata": {
    "slideshow": {
     "slide_type": "fragment"
    }
   },
   "outputs": [
    {
     "name": "stdout",
     "output_type": "stream",
     "text": [
      "!\n"
     ]
    }
   ],
   "source": [
    "print(phrase[8])"
   ]
  },
  {
   "cell_type": "code",
   "execution_count": 18,
   "metadata": {
    "slideshow": {
     "slide_type": "fragment"
    }
   },
   "outputs": [
    {
     "name": "stdout",
     "output_type": "stream",
     "text": [
      "e\n"
     ]
    }
   ],
   "source": [
    "print(phrase[-3])"
   ]
  },
  {
   "cell_type": "markdown",
   "metadata": {},
   "source": [
    "## Slicing"
   ]
  },
  {
   "cell_type": "code",
   "execution_count": 19,
   "metadata": {
    "slideshow": {
     "slide_type": "fragment"
    }
   },
   "outputs": [
    {
     "name": "stdout",
     "output_type": "stream",
     "text": [
      "Py\n"
     ]
    }
   ],
   "source": [
    "# To reference more than one character, you \n",
    "#     use the same bracketed notation and the\n",
    "#     * starting index\n",
    "#     * ending index\n",
    "# WARNING: Python, slices up to, but NOT including the\n",
    "#          last index.\n",
    "\n",
    "print(phrase[0:2])"
   ]
  },
  {
   "cell_type": "markdown",
   "metadata": {},
   "source": [
    "Why **zero indexing**?\n",
    "\n",
    "Why the principle of **'up to but not including'**?\n",
    "\n",
    "[See the note by Djikstra](https://www.cs.utexas.edu/users/EWD/ewd08xx/EWD831.PDF)    "
   ]
  },
  {
   "cell_type": "code",
   "execution_count": 20,
   "metadata": {
    "slideshow": {
     "slide_type": "fragment"
    }
   },
   "outputs": [
    {
     "name": "stdout",
     "output_type": "stream",
     "text": [
      "ladies\n"
     ]
    }
   ],
   "source": [
    "print(phrase[-7:-1])"
   ]
  },
  {
   "cell_type": "code",
   "execution_count": 21,
   "metadata": {},
   "outputs": [
    {
     "name": "stdout",
     "output_type": "stream",
     "text": [
      "adies\n"
     ]
    }
   ],
   "source": [
    "print(phrase[3:-1])"
   ]
  },
  {
   "cell_type": "code",
   "execution_count": 23,
   "metadata": {
    "slideshow": {
     "slide_type": "fragment"
    }
   },
   "outputs": [
    {
     "name": "stdout",
     "output_type": "stream",
     "text": [
      "ladies!\n",
      "Pyladies!\n"
     ]
    }
   ],
   "source": [
    "# Leaving the index on either side of the colon blank\n",
    "#     defaults to going all the way to AND including the end\n",
    "#     character.\n",
    "\n",
    "print(phrase[-7:     ])\n",
    "print(phrase[:])\n"
   ]
  },
  {
   "cell_type": "code",
   "execution_count": 24,
   "metadata": {
    "slideshow": {
     "slide_type": "fragment"
    }
   },
   "outputs": [
    {
     "name": "stdout",
     "output_type": "stream",
     "text": [
      "new_phrase is: Pyladies!\n"
     ]
    }
   ],
   "source": [
    "# This shortcut is a common way used to create copies...\n",
    "\n",
    "new_phrase = phrase[:]\n",
    "print(\"new_phrase is:\", new_phrase)\n"
   ]
  },
  {
   "cell_type": "markdown",
   "metadata": {},
   "source": [
    "# Exceeding bounds\n",
    "---"
   ]
  },
  {
   "cell_type": "code",
   "execution_count": 25,
   "metadata": {},
   "outputs": [
    {
     "ename": "IndexError",
     "evalue": "string index out of range",
     "output_type": "error",
     "traceback": [
      "\u001b[0;31m---------------------------------------------------------------------------\u001b[0m",
      "\u001b[0;31mIndexError\u001b[0m                                Traceback (most recent call last)",
      "\u001b[0;32m<ipython-input-25-441677683614>\u001b[0m in \u001b[0;36m<module>\u001b[0;34m()\u001b[0m\n\u001b[1;32m      3\u001b[0m \u001b[0;31m#     'index out of range'\u001b[0m\u001b[0;34m\u001b[0m\u001b[0;34m\u001b[0m\u001b[0m\n\u001b[1;32m      4\u001b[0m \u001b[0;34m\u001b[0m\u001b[0m\n\u001b[0;32m----> 5\u001b[0;31m \u001b[0mprint\u001b[0m\u001b[0;34m(\u001b[0m\u001b[0mphrase\u001b[0m\u001b[0;34m[\u001b[0m\u001b[0;36m9000\u001b[0m\u001b[0;34m]\u001b[0m\u001b[0;34m)\u001b[0m\u001b[0;34m\u001b[0m\u001b[0m\n\u001b[0m",
      "\u001b[0;31mIndexError\u001b[0m: string index out of range"
     ]
    }
   ],
   "source": [
    "# If you attempt to exceed the index bounds when accessing a \n",
    "#     specific character, you will get an error condition:\n",
    "#     'index out of range'\n",
    "\n",
    "print(phrase[9000])"
   ]
  },
  {
   "cell_type": "markdown",
   "metadata": {},
   "source": [
    "# Finding the length of a string\n",
    "---"
   ]
  },
  {
   "cell_type": "code",
   "execution_count": 26,
   "metadata": {},
   "outputs": [
    {
     "data": {
      "text/plain": [
       "9"
      ]
     },
     "execution_count": 26,
     "metadata": {},
     "output_type": "execute_result"
    }
   ],
   "source": [
    "# to find the length of a string, use the len() function\n",
    "\n",
    "len(phrase)"
   ]
  },
  {
   "cell_type": "markdown",
   "metadata": {},
   "source": [
    "# Parsing each character, one at a time\n",
    "---"
   ]
  },
  {
   "cell_type": "code",
   "execution_count": 30,
   "metadata": {},
   "outputs": [
    {
     "name": "stdout",
     "output_type": "stream",
     "text": [
      "P\n",
      "y\n",
      "l\n",
      "a\n",
      "d\n",
      "i\n",
      "e\n",
      "s\n",
      "!\n"
     ]
    }
   ],
   "source": [
    "for letter in phrase:\n",
    "    print(letter) "
   ]
  },
  {
   "cell_type": "markdown",
   "metadata": {},
   "source": [
    "# `in` as a logical operator\n",
    "---"
   ]
  },
  {
   "cell_type": "code",
   "execution_count": 31,
   "metadata": {
    "slideshow": {
     "slide_type": "slide"
    }
   },
   "outputs": [
    {
     "data": {
      "text/plain": [
       "True"
      ]
     },
     "execution_count": 31,
     "metadata": {},
     "output_type": "execute_result"
    }
   ],
   "source": [
    "# `in` allows you to test a string to see if a \n",
    "#      substring is present anywhere in the string\n",
    "\n",
    "'Py' in phrase"
   ]
  },
  {
   "cell_type": "code",
   "execution_count": 32,
   "metadata": {
    "slideshow": {
     "slide_type": "slide"
    }
   },
   "outputs": [
    {
     "data": {
      "text/plain": [
       "False"
      ]
     },
     "execution_count": 32,
     "metadata": {},
     "output_type": "execute_result"
    }
   ],
   "source": [
    "# The `in` test is case-sensitive\n",
    "\n",
    "'pyladies!' in phrase"
   ]
  },
  {
   "cell_type": "code",
   "execution_count": 33,
   "metadata": {
    "slideshow": {
     "slide_type": "fragment"
    }
   },
   "outputs": [
    {
     "data": {
      "text/plain": [
       "True"
      ]
     },
     "execution_count": 33,
     "metadata": {},
     "output_type": "execute_result"
    }
   ],
   "source": [
    "'Fortran' not in phrase"
   ]
  },
  {
   "cell_type": "code",
   "execution_count": 34,
   "metadata": {
    "slideshow": {
     "slide_type": "fragment"
    }
   },
   "outputs": [
    {
     "data": {
      "text/plain": [
       "True"
      ]
     },
     "execution_count": 34,
     "metadata": {},
     "output_type": "execute_result"
    }
   ],
   "source": [
    "# DANGER WILL ROBINSON:\n",
    "# WARNING: the empty string `''` is always \n",
    "#          considered to be present in a string\n",
    "\n",
    "\n",
    "'' in phrase"
   ]
  },
  {
   "cell_type": "markdown",
   "metadata": {},
   "source": [
    "# Experience Points!\n",
    "---"
   ]
  },
  {
   "cell_type": "markdown",
   "metadata": {
    "collapsed": true
   },
   "source": [
    "In your **text editor** create a simple script called:\n",
    "\n",
    "```bash\n",
    "my_strings_01.py```\n",
    "\n",
    "Execute your script in the **IPython interpreter** using the command:\n",
    "\n",
    "```bash\n",
    "run my_strings_01.py```\n",
    "\n",
    "I suggest that as you add each feature to your script that you run it right away to test it incrementally.\n",
    "\n",
    "1. Assign the label `myname` to a string with your first and last names\n",
    "1. Assign the label `shortname` to a slice of `myname` that has all letters **except** the first and last letters\n",
    "1. `print()` `shortname` to the screen\n",
    "1. Assign a label `result` to the a test of whether `python` is present in `myname`\n",
    "1. `print()` \"python is embedded in my name: \" and `result` to the screen "
   ]
  },
  {
   "cell_type": "markdown",
   "metadata": {},
   "source": [
    "When you complete this exercise, please put your green post-it on your monitor. \n",
    "\n",
    "If you want to continue on at your own-pace, please feel free to do so.\n",
    "\n",
    "<img src='../images/green_sticky.300px.png' width='200' style='float:left'>"
   ]
  },
  {
   "cell_type": "markdown",
   "metadata": {},
   "source": [
    "# Comparisons\n",
    "---"
   ]
  },
  {
   "cell_type": "code",
   "execution_count": 35,
   "metadata": {
    "collapsed": true
   },
   "outputs": [],
   "source": [
    "term1 = 'Python'\n",
    "term2 = 'python'"
   ]
  },
  {
   "cell_type": "code",
   "execution_count": 36,
   "metadata": {},
   "outputs": [
    {
     "data": {
      "text/plain": [
       "False"
      ]
     },
     "execution_count": 36,
     "metadata": {},
     "output_type": "execute_result"
    }
   ],
   "source": [
    "# Python interprets string equality based on \n",
    "#     case sensitivity:\n",
    "#     Thus 'Python' and 'python' are different\n",
    "\n",
    "\n",
    "term1 == term2"
   ]
  },
  {
   "cell_type": "code",
   "execution_count": 37,
   "metadata": {
    "collapsed": true
   },
   "outputs": [],
   "source": [
    "term3 = 'abcde'\n",
    "term4 = 'abcdz'"
   ]
  },
  {
   "cell_type": "code",
   "execution_count": 38,
   "metadata": {},
   "outputs": [
    {
     "data": {
      "text/plain": [
       "True"
      ]
     },
     "execution_count": 38,
     "metadata": {},
     "output_type": "execute_result"
    }
   ],
   "source": [
    "# Python accounts for lexigraphical order (loosely alphabetical order)\n",
    "#     when determining whether a string comes before or\n",
    "#     after another string\n",
    "\n",
    "term3 < term4"
   ]
  },
  {
   "cell_type": "code",
   "execution_count": 39,
   "metadata": {},
   "outputs": [
    {
     "data": {
      "text/plain": [
       "True"
      ]
     },
     "execution_count": 39,
     "metadata": {},
     "output_type": "execute_result"
    }
   ],
   "source": [
    "# lexigraphical order puts capital letters first\n",
    "\n",
    "term1 < term2"
   ]
  },
  {
   "cell_type": "markdown",
   "metadata": {},
   "source": [
    "Lexigraphical order, what?\n",
    "---"
   ]
  },
  {
   "cell_type": "markdown",
   "metadata": {},
   "source": [
    "<img src='ascii-0-127.gif' width='600'>\n",
    "\n",
    "Attribution: [ascii chart: http://www.jimprice.com/ascii-0-127.gif](http://www.jimprice.com/ascii-0-127.gif)"
   ]
  },
  {
   "cell_type": "markdown",
   "metadata": {
    "collapsed": true,
    "slideshow": {
     "slide_type": "slide"
    }
   },
   "source": [
    "# Object Methods\n",
    "## >>> particularly string methods\n",
    "---"
   ]
  },
  {
   "cell_type": "code",
   "execution_count": 2,
   "metadata": {
    "collapsed": true
   },
   "outputs": [],
   "source": [
    "phrase = 'Pyladies!'"
   ]
  },
  {
   "cell_type": "code",
   "execution_count": 3,
   "metadata": {
    "slideshow": {
     "slide_type": "slide"
    }
   },
   "outputs": [
    {
     "data": {
      "text/plain": [
       "'Pyladies!'"
      ]
     },
     "execution_count": 3,
     "metadata": {},
     "output_type": "execute_result"
    }
   ],
   "source": [
    "# Every string in Python is also an object\n",
    "\n",
    "phrase"
   ]
  },
  {
   "cell_type": "markdown",
   "metadata": {},
   "source": [
    "Objects in Python are associated with a programming paradigm called \"Object Oriented Programming\"\n",
    "\n",
    "Each object has attributes and behaviors associated with it, even if it is not inherently obvious at first.\n",
    "\n",
    "Behaviours are often also called methods (or functions).\n",
    "\n",
    "Strings are no exception.\n",
    "\n",
    "Attributes and behaviours are accessed via dot.notation:\n",
    "\n",
    "```python\n",
    "phrase.some_attribute\n",
    "phrase.some_behaviour()```\n",
    "\n",
    "Attributes are accessed using the `name_of_the_object.name_of_the_attribute`\n",
    "\n",
    "Behaviours are accessed similarly, but because they are methods/functions, they need to be **called** by using the parenthesis.\n",
    "\n",
    "**All** functions/methods are called using parenthesis."
   ]
  },
  {
   "cell_type": "code",
   "execution_count": 4,
   "metadata": {
    "slideshow": {
     "slide_type": "fragment"
    }
   },
   "outputs": [
    {
     "data": {
      "text/plain": [
       "'PYLADIES!'"
      ]
     },
     "execution_count": 4,
     "metadata": {},
     "output_type": "execute_result"
    }
   ],
   "source": [
    "# Strings in Python come with behaviors such as the \n",
    "#     .upper() method which makes a copy of the string\n",
    "#     and converts it to uppercase.\n",
    "\n",
    "phrase.upper()"
   ]
  },
  {
   "cell_type": "code",
   "execution_count": 5,
   "metadata": {
    "slideshow": {
     "slide_type": "fragment"
    }
   },
   "outputs": [
    {
     "data": {
      "text/plain": [
       "'pyladies!'"
      ]
     },
     "execution_count": 5,
     "metadata": {},
     "output_type": "execute_result"
    }
   ],
   "source": [
    "# Strings in Python come with behaviors such as the \n",
    "#     .lower() method which makes a copy of the string\n",
    "#     and converts it to lowercase.\n",
    "\n",
    "phrase.lower()"
   ]
  },
  {
   "cell_type": "markdown",
   "metadata": {},
   "source": [
    "Generically referencing strings:\n",
    "\n",
    "The generic version of a string is called `str` so it is common to see string methods prefixed by str:\n",
    "\n",
    "```python\n",
    "str.upper()\n",
    "str.lower()\n",
    "```\n"
   ]
  },
  {
   "cell_type": "code",
   "execution_count": null,
   "metadata": {
    "collapsed": true
   },
   "outputs": [],
   "source": []
  },
  {
   "cell_type": "code",
   "execution_count": 7,
   "metadata": {
    "slideshow": {
     "slide_type": "slide"
    }
   },
   "outputs": [
    {
     "name": "stdout",
     "output_type": "stream",
     "text": [
      "Who is your favorite superhero? batman\n",
      "Catwoman is better!\n"
     ]
    }
   ],
   "source": [
    "# One very common place where str.upper() or str.lower() is used is\n",
    "#     in normalizing inputs for easy comparison\n",
    "#     In the following example, you don't know if your\n",
    "#     User will input with all CAPS, all lower, or MiXeD CaSe...\n",
    "\n",
    "\n",
    "choice = input('Who is your favorite superhero? ')\n",
    "if choice.lower() == 'selina kyle':\n",
    "    print('I like Catwoman, too')\n",
    "else:\n",
    "    print(\"Catwoman is better!\")"
   ]
  },
  {
   "cell_type": "markdown",
   "metadata": {},
   "source": [
    "# Finding an index\n",
    "---"
   ]
  },
  {
   "cell_type": "markdown",
   "metadata": {},
   "source": [
    "Sometimes we want to know: \n",
    "\n",
    "* whether a character is present in a string\n",
    "* where that character may be found\n",
    "\n",
    "We will look at `phrase.find()` and leave it as an exercise for the student to research `phrase.index()`"
   ]
  },
  {
   "cell_type": "code",
   "execution_count": 8,
   "metadata": {},
   "outputs": [
    {
     "data": {
      "text/plain": [
       "'Python Rox'"
      ]
     },
     "execution_count": 8,
     "metadata": {},
     "output_type": "execute_result"
    }
   ],
   "source": [
    "sentence = 'Python Rox'\n",
    "sentence"
   ]
  },
  {
   "cell_type": "code",
   "execution_count": 9,
   "metadata": {},
   "outputs": [
    {
     "data": {
      "text/plain": [
       "4"
      ]
     },
     "execution_count": 9,
     "metadata": {},
     "output_type": "execute_result"
    }
   ],
   "source": [
    "# If we want to find where the 't' string is located, we \n",
    "#     can use the find function.\n",
    "\n",
    "sentence.find('on')\n",
    "\n",
    "# P y t h o n   R o x\n",
    "# 0 1 2 3 4 5 6 7 8 9"
   ]
  },
  {
   "cell_type": "code",
   "execution_count": 10,
   "metadata": {},
   "outputs": [
    {
     "data": {
      "text/plain": [
       "4"
      ]
     },
     "execution_count": 10,
     "metadata": {},
     "output_type": "execute_result"
    }
   ],
   "source": [
    "# If we want to find where the 'o' string is located, we \n",
    "#     can use the find function.\n",
    "# But this shows us the location of the FIRST 'o'\n",
    "\n",
    "sentence.find('o')\n",
    "\n",
    "# P y t h o n   R o x\n",
    "# 0 1 2 3 4 5 6 7 8 9"
   ]
  },
  {
   "cell_type": "code",
   "execution_count": 11,
   "metadata": {
    "collapsed": true
   },
   "outputs": [],
   "source": [
    "sentence.find?\n"
   ]
  },
  {
   "cell_type": "code",
   "execution_count": 12,
   "metadata": {},
   "outputs": [
    {
     "data": {
      "text/plain": [
       "8"
      ]
     },
     "execution_count": 12,
     "metadata": {},
     "output_type": "execute_result"
    }
   ],
   "source": [
    "# To continue processing the string to find other examples\n",
    "#     of the character 'o', we can start the search\n",
    "#     ONE character up, from where the last character was found.\n",
    "\n",
    "sentence.find('o', 5)\n",
    "\n",
    "# P y t h o n   R o x\n",
    "# 0 1 2 3 4 5 6 7 8 9"
   ]
  },
  {
   "cell_type": "code",
   "execution_count": 13,
   "metadata": {},
   "outputs": [
    {
     "name": "stdout",
     "output_type": "stream",
     "text": [
      "4\n",
      "8\n"
     ]
    }
   ],
   "source": [
    "# To automate such processing users often use a placeholder \n",
    "#     variable to help identify where to start the next search\n",
    "\n",
    "start = sentence.find('o')\n",
    "print(start)\n",
    "next = sentence.find('o', start + 1)\n",
    "print(next)\n",
    "\n",
    "# P y t h o n   R o x\n",
    "# 0 1 2 3 4 5 6 7 8 9"
   ]
  },
  {
   "cell_type": "markdown",
   "metadata": {},
   "source": [
    "# Testing string characteristics\n",
    "---"
   ]
  },
  {
   "cell_type": "code",
   "execution_count": 14,
   "metadata": {
    "slideshow": {
     "slide_type": "slide"
    }
   },
   "outputs": [
    {
     "data": {
      "text/plain": [
       "True"
      ]
     },
     "execution_count": 14,
     "metadata": {},
     "output_type": "execute_result"
    }
   ],
   "source": [
    "# There are methods to test for characteristics:\n",
    "# These type of methods almost always start with\n",
    "#     \"is\" >> isupper(), islower()\n",
    "\n",
    "\n",
    "heroine = 'CATWOMAN'\n",
    "heroine.isupper()"
   ]
  },
  {
   "cell_type": "code",
   "execution_count": 15,
   "metadata": {
    "slideshow": {
     "slide_type": "fragment"
    }
   },
   "outputs": [
    {
     "data": {
      "text/plain": [
       "False"
      ]
     },
     "execution_count": 15,
     "metadata": {},
     "output_type": "execute_result"
    }
   ],
   "source": [
    "heroine.islower()"
   ]
  },
  {
   "cell_type": "code",
   "execution_count": null,
   "metadata": {
    "collapsed": true
   },
   "outputs": [],
   "source": [
    "# How do you find out which methods exist for strings.\n",
    "# Use tab-completion\n",
    "\n",
    "sentence."
   ]
  },
  {
   "cell_type": "markdown",
   "metadata": {
    "collapsed": true,
    "slideshow": {
     "slide_type": "slide"
    }
   },
   "source": [
    "Method | Purpose\n",
    "-------|--------\n",
    ".isalpha()     | Verifies whether ALL the characters are alphabetic\n",
    ".isalnum()     | Verifies whether ALL the characters are alphabetic or numeric\n",
    ".isdecimal()     | Verifies whether ALL the characters are numerical\n",
    ".isspace()     | Verifies whether ALL the characters are whitespace (\\t, \\n, ' ', etc)\n",
    ".istitle()     | Verifies whether the string is in 'Title Case'"
   ]
  },
  {
   "cell_type": "code",
   "execution_count": 16,
   "metadata": {
    "slideshow": {
     "slide_type": "fragment"
    }
   },
   "outputs": [
    {
     "data": {
      "text/plain": [
       "True"
      ]
     },
     "execution_count": 16,
     "metadata": {},
     "output_type": "execute_result"
    }
   ],
   "source": [
    "# NOTE: even strings that have not been assigned a label\n",
    "#       have the same methods and attributes associated with\n",
    "#       them.\n",
    "\n",
    "'bullwhip'.islower()"
   ]
  },
  {
   "cell_type": "code",
   "execution_count": 17,
   "metadata": {
    "slideshow": {
     "slide_type": "fragment"
    }
   },
   "outputs": [
    {
     "data": {
      "text/plain": [
       "False"
      ]
     },
     "execution_count": 17,
     "metadata": {},
     "output_type": "execute_result"
    }
   ],
   "source": [
    "# NOTE: numerical characters in a string do not have a sense\n",
    "#       of upper or lowercase.\n",
    "\n",
    "'42'.isupper()"
   ]
  },
  {
   "cell_type": "code",
   "execution_count": 21,
   "metadata": {
    "slideshow": {
     "slide_type": "fragment"
    }
   },
   "outputs": [
    {
     "data": {
      "text/plain": [
       "False"
      ]
     },
     "execution_count": 21,
     "metadata": {},
     "output_type": "execute_result"
    }
   ],
   "source": [
    "# Method chaining... \n",
    "# is allowed AND is very Pythonic.\n",
    "\n",
    "heroine = 'C4TW0M4N'\n",
    "\n",
    "heroine.lower().isalpha()"
   ]
  },
  {
   "cell_type": "code",
   "execution_count": 22,
   "metadata": {
    "slideshow": {
     "slide_type": "slide"
    }
   },
   "outputs": [
    {
     "name": "stdout",
     "output_type": "stream",
     "text": [
      "Help on method_descriptor:\n",
      "\n",
      "isspace(...)\n",
      "    S.isspace() -> bool\n",
      "    \n",
      "    Return True if all characters in S are whitespace\n",
      "    and there is at least one character in S, False otherwise.\n",
      "\n"
     ]
    }
   ],
   "source": [
    "# As noted above, str is the base class (i.e. blueprint) for \n",
    "#     all string objects.\n",
    "\n",
    "help(str.isspace)"
   ]
  },
  {
   "cell_type": "code",
   "execution_count": null,
   "metadata": {
    "collapsed": true,
    "slideshow": {
     "slide_type": "slide"
    }
   },
   "outputs": [],
   "source": [
    "# any str object will have the same methods\n",
    "\n",
    "help(heroine.isspace)"
   ]
  },
  {
   "cell_type": "code",
   "execution_count": 23,
   "metadata": {
    "slideshow": {
     "slide_type": "slide"
    }
   },
   "outputs": [
    {
     "name": "stdout",
     "output_type": "stream",
     "text": [
      "How many cat burglaries did you commit this week? carmaggedon\n",
      "That was not a number, please input a number\n",
      "\n",
      "How many cat burglaries did you commit this week? hackcars\n",
      "That was not a number, please input a number\n",
      "\n",
      "How many cat burglaries did you commit this week? 42\n"
     ]
    }
   ],
   "source": [
    "while True:\n",
    "    num_burglaries = input('How many cat burglaries did you commit this week? ')\n",
    "    if num_burglaries.isdecimal():\n",
    "        break\n",
    "    print('That was not a number, please input a number\\n')\n",
    "        "
   ]
  },
  {
   "cell_type": "markdown",
   "metadata": {
    "collapsed": true,
    "slideshow": {
     "slide_type": "slide"
    }
   },
   "source": [
    "Method | Purpose\n",
    "------------------|--------\n",
    ".startswith()     | Verifies whether the string STARTS with a substring\n",
    ".endswith()     | Verifies whether string ENDS with a substring\n",
    ".join()     | Combine all the elements of a sequence (like a list) using the string\n",
    ".split()     | Separate the string into substrings by splitting on a given string"
   ]
  },
  {
   "cell_type": "code",
   "execution_count": 28,
   "metadata": {},
   "outputs": [
    {
     "name": "stdout",
     "output_type": "stream",
     "text": [
      "['bishop street', 'honolulu', 'hawaii']\n"
     ]
    }
   ],
   "source": [
    "address = 'bishop street|honolulu|hawaii'\n",
    "\n",
    "results = address.split('|')\n",
    "print(results)"
   ]
  },
  {
   "cell_type": "code",
   "execution_count": 24,
   "metadata": {
    "collapsed": true
   },
   "outputs": [],
   "source": [
    "str.split?\n"
   ]
  },
  {
   "cell_type": "code",
   "execution_count": 32,
   "metadata": {},
   "outputs": [
    {
     "name": "stdout",
     "output_type": "stream",
     "text": [
      "bishop street Dark Lord of Python honolulu Dark Lord of Python hawaii\n"
     ]
    }
   ],
   "source": [
    "new_string = ','.join(results)\n",
    "print(new_string)"
   ]
  },
  {
   "cell_type": "markdown",
   "metadata": {
    "collapsed": true,
    "slideshow": {
     "slide_type": "subslide"
    }
   },
   "source": [
    "Method | Purpose\n",
    "-------|--------\n",
    ".rjust()     | Right justify the string in a field of given width\n",
    ".ljust()     | Left justify the string in a field of given width\n",
    ".center()     | Center the string in a field of given width"
   ]
  },
  {
   "cell_type": "code",
   "execution_count": 33,
   "metadata": {},
   "outputs": [
    {
     "name": "stdout",
     "output_type": "stream",
     "text": [
      "*                  aloha                   *\n"
     ]
    }
   ],
   "source": [
    "print('*', 'aloha'.center(40), '*')"
   ]
  },
  {
   "cell_type": "code",
   "execution_count": 34,
   "metadata": {},
   "outputs": [
    {
     "name": "stdout",
     "output_type": "stream",
     "text": [
      "Date                  Name                      Address\n"
     ]
    }
   ],
   "source": [
    "print('Date'.ljust(13), 'Name'.center(20), 'Address'.rjust(20))"
   ]
  },
  {
   "cell_type": "markdown",
   "metadata": {
    "collapsed": true,
    "slideshow": {
     "slide_type": "subslide"
    }
   },
   "source": [
    "Method | Purpose\n",
    "-------|--------\n",
    ".strip()     | Remove all the given characters from the string (on both ends)\n",
    ".rstrip()     | Remove all the given characters from the right end of the string \n",
    ".lstrip()     | Remove all the given characters from the left end of the string"
   ]
  },
  {
   "cell_type": "code",
   "execution_count": 35,
   "metadata": {
    "collapsed": true
   },
   "outputs": [],
   "source": [
    "str.strip?\n"
   ]
  },
  {
   "cell_type": "code",
   "execution_count": 38,
   "metadata": {},
   "outputs": [
    {
     "name": "stdout",
     "output_type": "stream",
     "text": [
      "***\n",
      "\n",
      "\n",
      "*this string\n",
      "has\n",
      "newlines and stars*\n",
      "\n",
      "\n",
      "***\n",
      "------------------------------------------------------------\n",
      "s string\n",
      "has\n",
      "newlines and stars\n"
     ]
    }
   ],
   "source": [
    "newline_str = '***\\n\\n\\n*this string\\nhas\\nnewlines and stars*\\n\\n\\n***'\n",
    "print(newline_str)\n",
    "\n",
    "print('-' * 60)\n",
    "\n",
    "clean_version = newline_str.strip()\n",
    "print(clean_version)"
   ]
  },
  {
   "cell_type": "markdown",
   "metadata": {},
   "source": [
    "# Experience Points!\n",
    "---"
   ]
  },
  {
   "cell_type": "markdown",
   "metadata": {
    "collapsed": true
   },
   "source": [
    "In your **text editor** create a simple script called:\n",
    "\n",
    "```bash\n",
    "my_strings_02.py```\n",
    "\n",
    "Execute your script in the **IPython interpreter** using the command:\n",
    "\n",
    "```bash\n",
    "run my_strings_02.py```\n",
    "\n",
    "I suggest that as you add each feature to your script that you run it right away to test it incrementally.\n",
    "\n",
    "1. Assign the label `myname` to a string with your first and last names separated by a space\n",
    "1. Assign a label to the result of splitting (`.split()`) the variable `myname` based on spaces\n",
    "1. Test whether `myname` is ALL uppercase: IF you don't remember which method to use, research string functions.\n",
    "1. Create a field 42 characters wide and right justify your name in the field: IF you don't remember which method to use, research string functions."
   ]
  },
  {
   "cell_type": "markdown",
   "metadata": {},
   "source": [
    "When you complete this exercise, please put your green post-it on your monitor. \n",
    "\n",
    "If you want to continue on at your own-pace, please feel free to do so.\n",
    "\n",
    "<img src='../images/green_sticky.300px.png' width='200' style='float:left'>"
   ]
  },
  {
   "cell_type": "markdown",
   "metadata": {
    "collapsed": true,
    "slideshow": {
     "slide_type": "slide"
    }
   },
   "source": [
    "# String Formatting\n",
    "\n",
    "Method | Purpose\n",
    "-------|--------\n",
    ".format()     | return a formatted version of a string"
   ]
  },
  {
   "cell_type": "code",
   "execution_count": 39,
   "metadata": {
    "slideshow": {
     "slide_type": "slide"
    }
   },
   "outputs": [
    {
     "name": "stdout",
     "output_type": "stream",
     "text": [
      "Help on method_descriptor:\n",
      "\n",
      "format(...)\n",
      "    S.format(*args, **kwargs) -> str\n",
      "    \n",
      "    Return a formatted version of S, using substitutions from args and kwargs.\n",
      "    The substitutions are identified by braces ('{' and '}').\n",
      "\n"
     ]
    }
   ],
   "source": [
    "help(str.format)"
   ]
  },
  {
   "cell_type": "code",
   "execution_count": 40,
   "metadata": {
    "slideshow": {
     "slide_type": "slide"
    }
   },
   "outputs": [
    {
     "name": "stdout",
     "output_type": "stream",
     "text": [
      "Catwoman is a complex character with many plot lines. Several women have\n",
      "used the name Catwoman, including: Selina Kyle, Holly Robinson, and Eiko Hasigawa.\n",
      "\n"
     ]
    }
   ],
   "source": [
    "boilerplate = '''Catwoman is a complex character with many plot lines. Several women have\n",
    "used the name Catwoman, including: {}, {}, and {}.\n",
    "'''.format('Selina Kyle', 'Holly Robinson', 'Eiko Hasigawa')\n",
    "\n",
    "print(boilerplate)"
   ]
  },
  {
   "cell_type": "code",
   "execution_count": 41,
   "metadata": {
    "slideshow": {
     "slide_type": "slide"
    }
   },
   "outputs": [
    {
     "name": "stdout",
     "output_type": "stream",
     "text": [
      "first last\n"
     ]
    }
   ],
   "source": [
    "positionals = '{1} {0}'.format('last', 'first')\n",
    "\n",
    "print(positionals)"
   ]
  },
  {
   "cell_type": "code",
   "execution_count": 42,
   "metadata": {
    "slideshow": {
     "slide_type": "slide"
    }
   },
   "outputs": [
    {
     "name": "stdout",
     "output_type": "stream",
     "text": [
      "In a battle of the superheroes between Catwoman and Batman,\n",
      "in this round, Catwoman clearly came out on top, getting away with \n",
      "the jewels. Catwoman snuck away in the dark of night.\n"
     ]
    }
   ],
   "source": [
    "headline = '''In a battle of the superheroes between {0} and {1},\n",
    "in this round, {0} clearly came out on top, getting away with \n",
    "the jewels. {0} snuck away in the dark of night.'''.format('Catwoman', 'Batman')\n",
    "\n",
    "print(headline)"
   ]
  },
  {
   "cell_type": "code",
   "execution_count": 43,
   "metadata": {
    "slideshow": {
     "slide_type": "slide"
    }
   },
   "outputs": [
    {
     "name": "stdout",
     "output_type": "stream",
     "text": [
      "Selina              \n",
      "Selina              \n",
      "               Holly\n",
      "        Eiko        \n"
     ]
    }
   ],
   "source": [
    "# Alignment\n",
    "\n",
    "left_align = '{:20}'.format('Selina')\n",
    "print(left_align)\n",
    "\n",
    "left_align = '{:<20}'.format('Selina')\n",
    "print(left_align)\n",
    "\n",
    "right_align = '{:>20}'.format('Holly')\n",
    "print(right_align)\n",
    "\n",
    "center_align = '{:^20}'.format('Eiko')\n",
    "print(center_align)"
   ]
  },
  {
   "cell_type": "code",
   "execution_count": 44,
   "metadata": {
    "slideshow": {
     "slide_type": "slide"
    }
   },
   "outputs": [
    {
     "name": "stdout",
     "output_type": "stream",
     "text": [
      "Selina**************\n",
      "________________Kyle\n"
     ]
    }
   ],
   "source": [
    "# Padding\n",
    "\n",
    "left_pad = '{:*<20}'.format('Selina')\n",
    "print(left_pad)\n",
    "\n",
    "right_pad = '{:_>20}'.format('Kyle')\n",
    "print(right_pad)"
   ]
  },
  {
   "cell_type": "code",
   "execution_count": 45,
   "metadata": {
    "slideshow": {
     "slide_type": "slide"
    }
   },
   "outputs": [
    {
     "name": "stdout",
     "output_type": "stream",
     "text": [
      "Selina\n",
      "--------------Selina\n"
     ]
    }
   ],
   "source": [
    "# Truncation\n",
    "\n",
    "trunc = '{:.6}'.format('Selina Kyle')\n",
    "print(trunc)\n",
    "\n",
    "# Combining them all together\n",
    "\n",
    "trunc_pad = '{:->20.6}'.format('Selina Kyle')\n",
    "print(trunc_pad)"
   ]
  },
  {
   "cell_type": "code",
   "execution_count": 46,
   "metadata": {
    "slideshow": {
     "slide_type": "slide"
    }
   },
   "outputs": [
    {
     "name": "stdout",
     "output_type": "stream",
     "text": [
      "42\n",
      "2.710000\n",
      "                  42\n",
      "  2.72\n",
      "+42\n",
      "-42\n"
     ]
    }
   ],
   "source": [
    "# Numbers\n",
    "\n",
    "print('{:d}'.format(42))\n",
    "\n",
    "print('{:f}'.format(2.71))\n",
    "\n",
    "print('{:20d}'.format(42))\n",
    "\n",
    "print('{:6.2f}'.format(2.718281828459045))\n",
    "\n",
    "print('{:+d}'.format(42))\n",
    "\n",
    "print('{:d}'.format(-42))"
   ]
  },
  {
   "cell_type": "code",
   "execution_count": 47,
   "metadata": {
    "slideshow": {
     "slide_type": "slide"
    }
   },
   "outputs": [
    {
     "name": "stdout",
     "output_type": "stream",
     "text": [
      "Selina Kyle\n"
     ]
    }
   ],
   "source": [
    "# Named Placeholders\n",
    "\n",
    "name = '{first} {last}'.format(first='Selina', last='Kyle')\n",
    "\n",
    "print(name)"
   ]
  },
  {
   "cell_type": "markdown",
   "metadata": {
    "slideshow": {
     "slide_type": "slide"
    }
   },
   "source": [
    "# want to learn more?\n",
    "\n",
    "https://pyformat.info"
   ]
  },
  {
   "cell_type": "code",
   "execution_count": 50,
   "metadata": {},
   "outputs": [
    {
     "data": {
      "text/plain": [
       "'chalmer is the dark lord of python'"
      ]
     },
     "execution_count": 50,
     "metadata": {},
     "output_type": "execute_result"
    }
   ],
   "source": [
    "first = 'dark'\n",
    "last = 'lord of python'\n",
    "\n",
    "\n",
    "f'chalmer is the {first} {last}'"
   ]
  },
  {
   "cell_type": "code",
   "execution_count": 52,
   "metadata": {},
   "outputs": [
    {
     "data": {
      "text/plain": [
       "'dark lord of python'"
      ]
     },
     "execution_count": 52,
     "metadata": {},
     "output_type": "execute_result"
    }
   ],
   "source": [
    "'%s %s' % (first, last)"
   ]
  },
  {
   "cell_type": "code",
   "execution_count": null,
   "metadata": {
    "collapsed": true
   },
   "outputs": [],
   "source": []
  }
 ],
 "metadata": {
  "anaconda-cloud": {},
  "celltoolbar": "Slideshow",
  "kernelspec": {
   "display_name": "Python 3",
   "language": "python",
   "name": "python3"
  },
  "language_info": {
   "codemirror_mode": {
    "name": "ipython",
    "version": 3
   },
   "file_extension": ".py",
   "mimetype": "text/x-python",
   "name": "python",
   "nbconvert_exporter": "python",
   "pygments_lexer": "ipython3",
   "version": "3.6.1"
  }
 },
 "nbformat": 4,
 "nbformat_minor": 1
}
