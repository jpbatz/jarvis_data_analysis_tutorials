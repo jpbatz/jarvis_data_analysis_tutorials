{
 "cells": [
  {
   "cell_type": "markdown",
   "metadata": {},
   "source": [
    "# Welcome to the Dark Art of Coding:\n",
    "## Introduction to Python\n",
    "Interacting with the file system\n",
    "\n",
    "<img src='../images/dark_art_logo.600px.png' width='300' style=\"float:right\">"
   ]
  },
  {
   "cell_type": "markdown",
   "metadata": {},
   "source": [
    "# Objectives\n",
    "---"
   ]
  },
  {
   "cell_type": "markdown",
   "metadata": {},
   "source": [
    "In this session, students should expect to:\n",
    "\n",
    "* Understand how to use shutil to copy, move, and delete files & folders\n",
    "* Understand how to walk a directory\n",
    "* Explore file compression and decompression (zip/unzip) "
   ]
  },
  {
   "cell_type": "markdown",
   "metadata": {},
   "source": [
    "# Tool installation\n",
    "---"
   ]
  },
  {
   "cell_type": "markdown",
   "metadata": {
    "collapsed": true
   },
   "source": [
    "1. In your command prompt/terminal, navigate to the folder with this class material.\n",
    "1. Follow the directions below, appropriate to your operating system:\n",
    "    * **WINDOWS**:<br> \n",
    "    `pip install Send2Trash-1.4.1-py3-none-any.whl`\n",
    "    * **LINUX/MAC**:<br>\n",
    "    `sudo pip install Send2Trash-1.4.1-py3-none-any.whl`\n"
   ]
  },
  {
   "cell_type": "markdown",
   "metadata": {},
   "source": [
    "# Handling Files and Folders: `os` module\n",
    "---"
   ]
  },
  {
   "cell_type": "markdown",
   "metadata": {
    "collapsed": true
   },
   "source": [
    "The `os` module allows you to interact with various operating systems. \n",
    "\n",
    "From the documentation:\n",
    "\n",
    "`Programs that import and use 'os' stand a better chance of being\n",
    "portable between different platforms.`"
   ]
  },
  {
   "cell_type": "code",
   "execution_count": 1,
   "metadata": {
    "collapsed": true
   },
   "outputs": [],
   "source": [
    "import os"
   ]
  },
  {
   "cell_type": "markdown",
   "metadata": {},
   "source": [
    "When using a new module, it is useful to examine the help documentation and the methods associated with the module using...\n",
    "\n",
    "* `os?`\n",
    "* `os.<tab complete>` OR `dir(os)`"
   ]
  },
  {
   "cell_type": "code",
   "execution_count": 2,
   "metadata": {
    "collapsed": true
   },
   "outputs": [],
   "source": [
    "os?"
   ]
  },
  {
   "cell_type": "code",
   "execution_count": null,
   "metadata": {
    "collapsed": true
   },
   "outputs": [],
   "source": [
    "dir(os)"
   ]
  },
  {
   "cell_type": "code",
   "execution_count": 3,
   "metadata": {},
   "outputs": [
    {
     "data": {
      "text/plain": [
       "'/Users/chalmerlowe/gdrive/darkart/class_material_data_analysis/21'"
      ]
     },
     "execution_count": 3,
     "metadata": {},
     "output_type": "execute_result"
    }
   ],
   "source": [
    "# let's do something fairly straightforward:\n",
    "#     ask for the current (or present) working directory\n",
    "\n",
    "os.getcwd()"
   ]
  },
  {
   "cell_type": "code",
   "execution_count": 4,
   "metadata": {},
   "outputs": [
    {
     "data": {
      "text/plain": [
       "['.DS_Store',\n",
       " '.ipynb_checkpoints',\n",
       " 'attacks',\n",
       " 'blackwidow.txt',\n",
       " 'captain_america.txt',\n",
       " 'deletable.dlt',\n",
       " 'dirwalk.png',\n",
       " 'heroes',\n",
       " 'Icon\\r',\n",
       " 'ironman.txt',\n",
       " 'logs.zip',\n",
       " 'os_and_filesystem.ipynb',\n",
       " 'Send2Trash-1.4.1-py3-none-any.whl']"
      ]
     },
     "execution_count": 4,
     "metadata": {},
     "output_type": "execute_result"
    }
   ],
   "source": [
    "# let's list the files/directories in the current folder\n",
    "\n",
    "os.listdir()"
   ]
  },
  {
   "cell_type": "code",
   "execution_count": 5,
   "metadata": {
    "collapsed": true
   },
   "outputs": [],
   "source": [
    "# let's now change directories to one of the folders listed above...\n",
    "\n",
    "os.chdir('heroes')"
   ]
  },
  {
   "cell_type": "code",
   "execution_count": 6,
   "metadata": {},
   "outputs": [
    {
     "data": {
      "text/plain": [
       "'/Users/chalmerlowe/gdrive/darkart/class_material_data_analysis/21/heroes'"
      ]
     },
     "execution_count": 6,
     "metadata": {},
     "output_type": "execute_result"
    }
   ],
   "source": [
    "# and confirm that we really changed directories under the hood...\n",
    "# But this time, let's save the path, so we can use it later...\n",
    "\n",
    "path = os.getcwd()\n",
    "path"
   ]
  },
  {
   "cell_type": "markdown",
   "metadata": {},
   "source": [
    "# Experience Points!\n",
    "---"
   ]
  },
  {
   "cell_type": "markdown",
   "metadata": {
    "collapsed": true,
    "slideshow": {
     "slide_type": "slide"
    }
   },
   "source": [
    "In your **text editor** create a simple script called:\n",
    "\n",
    "```bash\n",
    "os_01.py```\n",
    "\n",
    "Execute your script in the **IPython interpreter** using the command:\n",
    "\n",
    "```bash\n",
    "run os_01.py```\n",
    "\n",
    "In your script, do the following:\n",
    "\n",
    "* Create a function, called: `txtfilter()`\n",
    "* In the function, create an empty list labeled `files`\n",
    "   * Parse each file listed by `os.listdir()`\n",
    "   * IF the filename ends in `txt`, add that file name to `files`\n",
    "   * Return the list `files`\n",
    "* Call the function so that it runs when your script runs\n",
    "* Print the results to the screen"
   ]
  },
  {
   "cell_type": "markdown",
   "metadata": {},
   "source": [
    "When you complete this exercise, please put your green post-it on your monitor. \n",
    "\n",
    "If you want to continue on at your own-pace, please feel free to do so.\n",
    "\n",
    "<img src='../images/green_sticky.300px.png' width='200' style='float:left'>"
   ]
  },
  {
   "cell_type": "code",
   "execution_count": null,
   "metadata": {
    "collapsed": true
   },
   "outputs": [],
   "source": []
  },
  {
   "cell_type": "markdown",
   "metadata": {},
   "source": [
    "# Copying files: `shutil` module\n",
    "---"
   ]
  },
  {
   "cell_type": "markdown",
   "metadata": {},
   "source": [
    "The `shutil` module offers a number of high-level operations on files and collections of files. In particular, functions are provided which support file copying and removal.\n",
    "\n",
    "https://docs.python.org/3/library/shutil.html"
   ]
  },
  {
   "cell_type": "code",
   "execution_count": null,
   "metadata": {
    "collapsed": true
   },
   "outputs": [],
   "source": [
    "import shutil"
   ]
  },
  {
   "cell_type": "markdown",
   "metadata": {},
   "source": [
    "Since we are using a new module, let's examine the help documentation and the methods associated with the module using...\n",
    "\n",
    "* `shutil?`\n",
    "* `shutil.<tab complete>` OR `dir(shutil)`"
   ]
  },
  {
   "cell_type": "code",
   "execution_count": null,
   "metadata": {
    "collapsed": true
   },
   "outputs": [],
   "source": [
    "shutil?"
   ]
  },
  {
   "cell_type": "code",
   "execution_count": null,
   "metadata": {
    "collapsed": true
   },
   "outputs": [],
   "source": [
    "dir(shutil)"
   ]
  },
  {
   "cell_type": "code",
   "execution_count": null,
   "metadata": {},
   "outputs": [],
   "source": [
    "# We should be in the heroes folder, let's take a look at what is stored in that folder.\n",
    "\n",
    "os.listdir()"
   ]
  },
  {
   "cell_type": "code",
   "execution_count": null,
   "metadata": {},
   "outputs": [],
   "source": [
    "# To copy a file, we use the shutil.copy() method.\n",
    "\n",
    "shutil.copy('avenger.txt', 'ultron.txt')"
   ]
  },
  {
   "cell_type": "code",
   "execution_count": null,
   "metadata": {},
   "outputs": [],
   "source": [
    "# When copying files, you have full control over file paths, etc...\n",
    "# Here we store a copy of the file in a separate directory.\n",
    "\n",
    "shutil.copy('ultron.txt', 'directory/ultron_copy.txt')"
   ]
  },
  {
   "cell_type": "markdown",
   "metadata": {},
   "source": [
    "# Copying directory trees: `shutil` module\n",
    "---"
   ]
  },
  {
   "cell_type": "markdown",
   "metadata": {},
   "source": [
    "The `shutil` module allows you to copy individual files AND whole file structures."
   ]
  },
  {
   "cell_type": "code",
   "execution_count": null,
   "metadata": {},
   "outputs": [],
   "source": [
    "# let's move up a directory...\n",
    "# And examine the files\n",
    "\n",
    "os.chdir('..')\n",
    "os.listdir()"
   ]
  },
  {
   "cell_type": "code",
   "execution_count": null,
   "metadata": {},
   "outputs": [],
   "source": [
    "# To copy a folder and contents, use shutil.copytree()\n",
    "\n",
    "shutil.copytree('heroes', 'villains')\n",
    "\n",
    "os.listdir()"
   ]
  },
  {
   "cell_type": "markdown",
   "metadata": {},
   "source": [
    "# Moving & renaming files & folders: `shutil`\n",
    "---"
   ]
  },
  {
   "cell_type": "code",
   "execution_count": null,
   "metadata": {
    "collapsed": true
   },
   "outputs": [],
   "source": [
    "# let's rename a file (by moving it from one filename\n",
    "#                      to a new filename)\n",
    "\n",
    "import shutil\n",
    "\n",
    "shutil.move('blackwidow.txt', 'hulk.txt')\n",
    "os.listdir()"
   ]
  },
  {
   "cell_type": "code",
   "execution_count": null,
   "metadata": {
    "collapsed": true
   },
   "outputs": [],
   "source": [
    "# next, let's move a file to a new directory\n",
    "#     and rename it at the same time...\n",
    "\n",
    "shutil.move('ironman.txt', 'heroes/tonystark.txt')\n",
    "os.listdir()"
   ]
  },
  {
   "cell_type": "code",
   "execution_count": null,
   "metadata": {
    "collapsed": true
   },
   "outputs": [],
   "source": [
    "# what happens if we try to move a file to a \n",
    "#     directory that doesn't exist\n",
    "\n",
    "shutil.move('captain_america.txt', 'non_existent_folder/capt_a.txt')"
   ]
  },
  {
   "cell_type": "markdown",
   "metadata": {},
   "source": [
    "# Experience Points!\n",
    "---"
   ]
  },
  {
   "cell_type": "markdown",
   "metadata": {
    "collapsed": true,
    "slideshow": {
     "slide_type": "slide"
    }
   },
   "source": [
    "In your **text editor** create a simple script called:\n",
    "\n",
    "```bash\n",
    "os_02.py```\n",
    "\n",
    "Execute your script in the **IPython interpreter** using the command:\n",
    "\n",
    "```bash\n",
    "run os_02.py```\n",
    "\n",
    "In your script:\n",
    "\n",
    "* copy `blackwidow.txt` to a file called `bw_copy.txt`\n",
    "* copy the folder `heroes` to a folder called `heroes_copy`\n",
    "* move the file `bw_copy.txt` to a file called `blackwidow_2.txt`\n"
   ]
  },
  {
   "cell_type": "markdown",
   "metadata": {},
   "source": [
    "When you complete this exercise, please put your green post-it on your monitor. \n",
    "\n",
    "If you want to continue on at your own-pace, please feel free to do so.\n",
    "\n",
    "<img src='../images/green_sticky.300px.png' width='200' style='float:left'>"
   ]
  },
  {
   "cell_type": "code",
   "execution_count": null,
   "metadata": {
    "collapsed": true
   },
   "outputs": [],
   "source": []
  },
  {
   "cell_type": "markdown",
   "metadata": {},
   "source": [
    "# Permanently deleting files and folders:\n",
    "`os` & `shutil`\n",
    "---"
   ]
  },
  {
   "cell_type": "markdown",
   "metadata": {},
   "source": [
    "There are several methods to delete files and folder and directory trees.\n",
    "\n",
    "* `os.unlink(path)       #` delete a file\n",
    "* `os.rmdir(path)        #` delete an **empty** folder\n",
    "* `shutil.rmtree(path)   #` remove a folder, all subdirectories & files\n",
    "\n",
    "**NOTE**: these deletions are not true deletions (i.e. it will not withstand forensic examination). As implied by the method name `unlink`, these commands typically remove links in the filesystem to the file storage location on disk, essentially freeing that space to be overwritten at a later time. Until the disk space is overwritten sufficiently the data can often be retrieved by forensic software."
   ]
  },
  {
   "cell_type": "markdown",
   "metadata": {},
   "source": [
    "**WARNING**: It is often in your best interest to test your scripts if you intend to move/delete multiple unspecified files, because the default Python delete process does not send files to the Recycle Bin, etc. \n",
    "\n",
    "You can do this by crafting your script and putting `print()` functions in place to show the files that would be moved OR would be deleted."
   ]
  },
  {
   "cell_type": "code",
   "execution_count": null,
   "metadata": {},
   "outputs": [],
   "source": [
    "# TEST script\n",
    "\n",
    "import os\n",
    "for filename in os.listdir():\n",
    "    if filename.endswith('.dlt'):\n",
    "        print('Deleting:', filename)\n",
    "        # os.unlink(filename)"
   ]
  },
  {
   "cell_type": "code",
   "execution_count": null,
   "metadata": {},
   "outputs": [],
   "source": [
    "# REAL script\n",
    "# Once you have confirmed the correct behavior, add in the os.unlink() method.\n",
    "# NOTE: deletions occur silently.\n",
    "\n",
    "\n",
    "import os\n",
    "for filename in os.listdir():\n",
    "    if filename.endswith('.dlt'):\n",
    "        # print('Deleting:', filename)\n",
    "        os.unlink(filename)\n"
   ]
  },
  {
   "cell_type": "markdown",
   "metadata": {},
   "source": [
    "# Safer deletes:  `send2trash`\n",
    "---"
   ]
  },
  {
   "cell_type": "code",
   "execution_count": null,
   "metadata": {
    "collapsed": true
   },
   "outputs": [],
   "source": [
    "# A number of operating systems implement a Recycle Bin OR \n",
    "#     a Trash directory:\n",
    "#     Files deleted by the operating system get sent to \n",
    "#     the Recycle Bin/Trash, where they will eventually be \n",
    "#     marked for deletion (Either by 'emptying' the Recycle\n",
    "#     Bin manually OR by the natural deletion algorithm \n",
    "#     used by the operating system.)\n",
    "# A third party library, send2trash allows Python to\n",
    "#     send deleted files to the operating system's version\n",
    "#     of Recycle Bin OR Trash.\n",
    "\n",
    "\n",
    "import send2trash\n",
    "\n",
    "fin = open('thor.txt', 'a')\n",
    "fin.write('Thor, the son of Odin')\n",
    "fin.close()"
   ]
  },
  {
   "cell_type": "code",
   "execution_count": null,
   "metadata": {
    "collapsed": true
   },
   "outputs": [],
   "source": [
    "send2trash.send2trash('thor.txt')"
   ]
  },
  {
   "cell_type": "markdown",
   "metadata": {},
   "source": [
    "# Walking through directories\n",
    "---"
   ]
  },
  {
   "cell_type": "markdown",
   "metadata": {},
   "source": [
    "Many directories are deeply nested and it is often convenient to walk through the directories to find particular files/folders.\n",
    "\n",
    "<img src='dirwalk.png'>"
   ]
  },
  {
   "cell_type": "code",
   "execution_count": null,
   "metadata": {},
   "outputs": [],
   "source": [
    "import os\n",
    "\n",
    "# os.walk() will produce tuples that list three items:\n",
    "#     * the folder_name \n",
    "#     * a list of subfolders\n",
    "#     * a list of files in the folder\n",
    "\n",
    "# os.walk() recursively displays the subfolders, etc.\n",
    "\n",
    "\n",
    "for item in os.walk('attacks'):\n",
    "    print(item)\n"
   ]
  },
  {
   "cell_type": "markdown",
   "metadata": {},
   "source": [
    "A number of tools return multiple values as tuples.\n",
    "Often we can't effectively use the whole tuple. We really \n",
    "need the individual values broken out.\n",
    "\n",
    "There are several ways to extract these contents from each tuple."
   ]
  },
  {
   "cell_type": "code",
   "execution_count": null,
   "metadata": {},
   "outputs": [],
   "source": [
    "# METHOD zero\n",
    "\n",
    "import os\n",
    "\n",
    "for item in os.walk('./attacks'):\n",
    "    \n",
    "    # unpack the values here... using tuple unpacking\n",
    "    folder, subfolders, filenames = item\n",
    "    \n",
    "    # Now we can easily reference each item\n",
    "    print('Folder:', folder)\n",
    "    print('  Subdirectories:', subfolders)\n",
    "    print('       Filenames:', filenames)"
   ]
  },
  {
   "cell_type": "code",
   "execution_count": null,
   "metadata": {},
   "outputs": [],
   "source": [
    "# METHOD one >>> Pythonic\n",
    "\n",
    "import os\n",
    "\n",
    "# unpack the values in the for loop statement\n",
    "\n",
    "for folder, subfolders, filenames in os.walk('./attacks'):\n",
    "    print('Folder:', folder)\n",
    "    print('  Subdirectories:', subfolders)\n",
    "    print('       Filenames:', filenames)\n",
    "    \n",
    "# As long as the number of items to unpack is not TOO large,\n",
    "#     this method is very Pythonic and reduces\n",
    "#     the number of lines of code."
   ]
  },
  {
   "cell_type": "markdown",
   "metadata": {},
   "source": [
    "# Compressing/Extracting files: `zipfile` module\n",
    "---"
   ]
  },
  {
   "cell_type": "code",
   "execution_count": null,
   "metadata": {
    "collapsed": true
   },
   "outputs": [],
   "source": [
    "import zipfile"
   ]
  },
  {
   "cell_type": "markdown",
   "metadata": {},
   "source": [
    "Since we are using a new module, let's examine the help documentation and the methods associated with the module..."
   ]
  },
  {
   "cell_type": "code",
   "execution_count": null,
   "metadata": {
    "collapsed": true
   },
   "outputs": [],
   "source": [
    "zipfile?"
   ]
  },
  {
   "cell_type": "code",
   "execution_count": null,
   "metadata": {},
   "outputs": [],
   "source": [
    "dir(zipfile)"
   ]
  },
  {
   "cell_type": "code",
   "execution_count": null,
   "metadata": {
    "collapsed": true
   },
   "outputs": [],
   "source": [
    "# let's open a zip file that we have in the local\n",
    "#     directory\n",
    "\n",
    "records = zipfile.ZipFile('logs.zip')"
   ]
  },
  {
   "cell_type": "code",
   "execution_count": null,
   "metadata": {},
   "outputs": [],
   "source": [
    "dir(records)"
   ]
  },
  {
   "cell_type": "code",
   "execution_count": null,
   "metadata": {},
   "outputs": [],
   "source": [
    "# we can now examine the names of all the folders and files\n",
    "#     in the compressed file\n",
    "# NOTE: the listing shows the folder structure, etc.\n",
    "# Also... be aware that this process has NOT unzipped the\n",
    "#     file... we are simply looking at metadata associated\n",
    "#     with the zip file.\n",
    "\n",
    "records.namelist()"
   ]
  },
  {
   "cell_type": "code",
   "execution_count": null,
   "metadata": {
    "collapsed": true
   },
   "outputs": [],
   "source": [
    "# We may request a subsection of this metadata as a bundle \n",
    "#     via the .getinfo() method.\n",
    "\n",
    "info = records.getinfo('logs/activities/results/funding.txt')"
   ]
  },
  {
   "cell_type": "code",
   "execution_count": null,
   "metadata": {},
   "outputs": [],
   "source": [
    "# To see what types of metadata are available, we can \n",
    "#     use the dir(function) or <tab.complete> to \n",
    "#     see the methods and attributes available.\n",
    "\n",
    "dir(info)"
   ]
  },
  {
   "cell_type": "code",
   "execution_count": null,
   "metadata": {},
   "outputs": [],
   "source": [
    "# Looking at two examples... we can pull out\n",
    "#     the file_size of the compressed file\n",
    "\n",
    "fsize = info.file_size\n",
    "fsize"
   ]
  },
  {
   "cell_type": "code",
   "execution_count": null,
   "metadata": {},
   "outputs": [],
   "source": [
    "# And we can pull out the compressed size of the\n",
    "#     the compressed file\n",
    "\n",
    "csize = info.compress_size\n",
    "csize"
   ]
  },
  {
   "cell_type": "code",
   "execution_count": null,
   "metadata": {},
   "outputs": [],
   "source": [
    "# For fun, we can calculate the compression ratio:\n",
    "\n",
    "ratio = round(fsize / csize, -1)\n",
    "\n",
    "print('Compressed size is {}x smaller!'.format(ratio))\n"
   ]
  },
  {
   "cell_type": "code",
   "execution_count": null,
   "metadata": {},
   "outputs": [],
   "source": [
    "# FUN FACT: the round function can take positive and negative\n",
    "#     rounding values\n",
    "\n",
    "sample = 123.4567\n",
    "print(round(sample, -2))    # rounds to the hundreds place\n",
    "print(round(sample, -1))    # rounds to the tens\n",
    "print(round(sample, 0))     # rounds to the units\n",
    "print(round(sample, 1))     # rounds to the tenths\n",
    "print(round(sample, 2))     # rounds to the hundredths\n",
    "print(round(sample, 3))     # rounds to the thousandths\n"
   ]
  },
  {
   "cell_type": "code",
   "execution_count": null,
   "metadata": {
    "collapsed": true
   },
   "outputs": [],
   "source": [
    "# As with many filehandling protocols, when you are\n",
    "#     done with your toys, put them away.\n",
    "#     Use the .close() method to close the zipfile.\n",
    "\n",
    "records.close()"
   ]
  },
  {
   "cell_type": "code",
   "execution_count": null,
   "metadata": {
    "collapsed": true
   },
   "outputs": [],
   "source": [
    "# If desired, you can extract all files from a zip:"
   ]
  },
  {
   "cell_type": "code",
   "execution_count": null,
   "metadata": {},
   "outputs": [],
   "source": [
    "os.listdir()"
   ]
  },
  {
   "cell_type": "code",
   "execution_count": null,
   "metadata": {
    "collapsed": true
   },
   "outputs": [],
   "source": [
    "import zipfile\n",
    "\n",
    "records = zipfile.ZipFile('logs.zip')\n",
    "records.extractall()\n",
    "records.close()"
   ]
  },
  {
   "cell_type": "code",
   "execution_count": null,
   "metadata": {},
   "outputs": [],
   "source": [
    "os.listdir()"
   ]
  },
  {
   "cell_type": "code",
   "execution_count": null,
   "metadata": {},
   "outputs": [],
   "source": [
    "import shutil\n",
    "shutil.rmtree('logs')\n",
    "os.listdir()"
   ]
  },
  {
   "cell_type": "code",
   "execution_count": null,
   "metadata": {},
   "outputs": [],
   "source": [
    "# If only a single file is needed, you can extract \n",
    "#     individual files, as well:\n",
    "\n",
    "import zipfile\n",
    "records = zipfile.ZipFile('logs.zip')\n",
    "records.extract('logs/activities/results/funding.txt')\n",
    "\n",
    "os.listdir()"
   ]
  },
  {
   "cell_type": "code",
   "execution_count": null,
   "metadata": {},
   "outputs": [],
   "source": [
    "# If we want files extracted and then placed in \n",
    "#     a specific location, we can easily \n",
    "#     assign a destination directory\n",
    "\n",
    "import zipfile\n",
    "records = zipfile.ZipFile('logs.zip')\n",
    "records.extract('logs/venues/tokyo.txt',\n",
    "                'temp/folder/folder')\n",
    "\n",
    "# NOTE: in this case, it does not matter that\n",
    "#     the destination folder doesn't exist\n",
    "\n",
    "os.listdir()"
   ]
  },
  {
   "cell_type": "code",
   "execution_count": null,
   "metadata": {
    "collapsed": true
   },
   "outputs": [],
   "source": [
    "records.close()"
   ]
  },
  {
   "cell_type": "code",
   "execution_count": null,
   "metadata": {
    "collapsed": true
   },
   "outputs": [],
   "source": []
  },
  {
   "cell_type": "markdown",
   "metadata": {},
   "source": [
    "# Cleanup script\n",
    "---"
   ]
  },
  {
   "cell_type": "code",
   "execution_count": null,
   "metadata": {},
   "outputs": [],
   "source": [
    "shutil.move('heroes/tonystark.txt', 'ironman.txt')\n",
    "shutil.move('hulk.txt', 'blackwidow.txt')\n",
    "open('deletable.dlt', 'w').close()\n",
    "\n",
    "\n",
    "for file in ['heroes/ultron.txt', 'heroes/directory/ultron_copy.txt']:\n",
    "   os.unlink(file)\n",
    "\n",
    "for folder in ['temp', 'logs', 'villains']:\n",
    "    shutil.rmtree(folder)\n",
    "\n"
   ]
  },
  {
   "cell_type": "code",
   "execution_count": null,
   "metadata": {
    "collapsed": true
   },
   "outputs": [],
   "source": []
  },
  {
   "cell_type": "code",
   "execution_count": null,
   "metadata": {
    "collapsed": true
   },
   "outputs": [],
   "source": []
  },
  {
   "cell_type": "code",
   "execution_count": null,
   "metadata": {
    "collapsed": true
   },
   "outputs": [],
   "source": []
  }
 ],
 "metadata": {
  "kernelspec": {
   "display_name": "Python 3",
   "language": "python",
   "name": "python3"
  },
  "language_info": {
   "codemirror_mode": {
    "name": "ipython",
    "version": 3
   },
   "file_extension": ".py",
   "mimetype": "text/x-python",
   "name": "python",
   "nbconvert_exporter": "python",
   "pygments_lexer": "ipython3",
   "version": "3.6.1"
  }
 },
 "nbformat": 4,
 "nbformat_minor": 2
}
