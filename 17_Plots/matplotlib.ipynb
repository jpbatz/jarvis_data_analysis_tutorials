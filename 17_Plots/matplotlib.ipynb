{
 "cells": [
  {
   "cell_type": "markdown",
   "metadata": {},
   "source": [
    "# Welcome to the Dark Art of Coding:\n",
    "## Introduction to Python\n",
    "graphing with matplotlib\n",
    "\n",
    "<img src='../images/dark_art_logo.600px.png' width='300' style=\"float:right\">"
   ]
  },
  {
   "cell_type": "markdown",
   "metadata": {},
   "source": [
    "# Prerequisites:\n",
    "\n",
    "* pandas\n",
    "* matplotlib\n",
    "* numpy\n",
    "\n",
    "IF you don't already have these installed in your virtual environment, **activate your virtualenv** and **conda install** them:\n",
    "\n",
    "```bash\n",
    "conda install pandas numpy matplotlib\n",
    "```"
   ]
  },
  {
   "cell_type": "code",
   "execution_count": null,
   "metadata": {
    "collapsed": true
   },
   "outputs": [],
   "source": [
    "# generate a horizontal bar chart\n",
    "# (based on an example from the matplotlib website...)\n",
    "# http://matplotlib.org/1.2.1/examples/pylab_examples/barh_demo.html"
   ]
  },
  {
   "cell_type": "code",
   "execution_count": 1,
   "metadata": {
    "collapsed": true
   },
   "outputs": [],
   "source": [
    "import numpy as np\n",
    "import matplotlib.pyplot as plt\n",
    "import pandas as pd"
   ]
  },
  {
   "cell_type": "code",
   "execution_count": 2,
   "metadata": {
    "collapsed": true
   },
   "outputs": [],
   "source": [
    "# we'll use pandas to read in some data, but we'll only keep two of the columns\n",
    "\n",
    "df = pd.read_csv('log_file.csv', names=['name',\n",
    "                                                  'email',\n",
    "                                                  'fmip',\n",
    "                                                  'toip',\n",
    "                                                  'date',\n",
    "                                                  'lat',\n",
    "                                                  'long',\n",
    "                                                  'payload'],\n",
    "                                            usecols=['name'])"
   ]
  },
  {
   "cell_type": "code",
   "execution_count": 3,
   "metadata": {
    "collapsed": true
   },
   "outputs": [],
   "source": [
    "# to generate this graph, we are gonna make up\n",
    "# a set of random numbers between \n",
    "# 42 and 48.5"
   ]
  },
  {
   "cell_type": "code",
   "execution_count": 4,
   "metadata": {
    "collapsed": true
   },
   "outputs": [],
   "source": [
    "# NOTE:\n",
    "#     0) the function len(df) returns the number of rows in df\n",
    "#     1) np.random.rand yields numbers between [0 and 1].\n",
    "#\n",
    "\n",
    "df['fan_rating'] = 42 + 6.5 * np.random.rand(len(df))"
   ]
  },
  {
   "cell_type": "code",
   "execution_count": 5,
   "metadata": {},
   "outputs": [
    {
     "data": {
      "text/html": [
       "<div>\n",
       "<style>\n",
       "    .dataframe thead tr:only-child th {\n",
       "        text-align: right;\n",
       "    }\n",
       "\n",
       "    .dataframe thead th {\n",
       "        text-align: left;\n",
       "    }\n",
       "\n",
       "    .dataframe tbody tr th {\n",
       "        vertical-align: top;\n",
       "    }\n",
       "</style>\n",
       "<table border=\"1\" class=\"dataframe\">\n",
       "  <thead>\n",
       "    <tr style=\"text-align: right;\">\n",
       "      <th></th>\n",
       "      <th>name</th>\n",
       "      <th>fan_rating</th>\n",
       "    </tr>\n",
       "  </thead>\n",
       "  <tbody>\n",
       "    <tr>\n",
       "      <th>0</th>\n",
       "      <td>barry allen</td>\n",
       "      <td>44.776665</td>\n",
       "    </tr>\n",
       "    <tr>\n",
       "      <th>1</th>\n",
       "      <td>barbara gordon</td>\n",
       "      <td>42.383715</td>\n",
       "    </tr>\n",
       "    <tr>\n",
       "      <th>2</th>\n",
       "      <td>kyle rayner</td>\n",
       "      <td>42.852083</td>\n",
       "    </tr>\n",
       "    <tr>\n",
       "      <th>3</th>\n",
       "      <td>dinah lance</td>\n",
       "      <td>47.232509</td>\n",
       "    </tr>\n",
       "    <tr>\n",
       "      <th>4</th>\n",
       "      <td>arthur curry</td>\n",
       "      <td>48.180190</td>\n",
       "    </tr>\n",
       "    <tr>\n",
       "      <th>5</th>\n",
       "      <td>kara zor-el</td>\n",
       "      <td>45.422397</td>\n",
       "    </tr>\n",
       "    <tr>\n",
       "      <th>6</th>\n",
       "      <td>kara zor-el</td>\n",
       "      <td>48.498931</td>\n",
       "    </tr>\n",
       "    <tr>\n",
       "      <th>7</th>\n",
       "      <td>hal jordan</td>\n",
       "      <td>46.046310</td>\n",
       "    </tr>\n",
       "    <tr>\n",
       "      <th>8</th>\n",
       "      <td>kara zor-el</td>\n",
       "      <td>43.137978</td>\n",
       "    </tr>\n",
       "    <tr>\n",
       "      <th>9</th>\n",
       "      <td>john constantine</td>\n",
       "      <td>44.597183</td>\n",
       "    </tr>\n",
       "  </tbody>\n",
       "</table>\n",
       "</div>"
      ],
      "text/plain": [
       "               name  fan_rating\n",
       "0       barry allen   44.776665\n",
       "1    barbara gordon   42.383715\n",
       "2       kyle rayner   42.852083\n",
       "3       dinah lance   47.232509\n",
       "4      arthur curry   48.180190\n",
       "5       kara zor-el   45.422397\n",
       "6       kara zor-el   48.498931\n",
       "7        hal jordan   46.046310\n",
       "8       kara zor-el   43.137978\n",
       "9  john constantine   44.597183"
      ]
     },
     "execution_count": 5,
     "metadata": {},
     "output_type": "execute_result"
    }
   ],
   "source": [
    "df"
   ]
  },
  {
   "cell_type": "code",
   "execution_count": null,
   "metadata": {
    "collapsed": true
   },
   "outputs": [],
   "source": [
    "# as a first step, let's clean up the data by dropping\n",
    "# duplicate rows using these rules/parameters:\n",
    "#     0) check whether there is a duplicate in a given column\n",
    "#     1) keep only the last value of any duplicates\n",
    "#        (default is to take the first)\n",
    "#     2) replace the dataframe with our new deduplicated version"
   ]
  },
  {
   "cell_type": "code",
   "execution_count": 6,
   "metadata": {
    "collapsed": true
   },
   "outputs": [],
   "source": [
    "df.drop_duplicates(subset='name', inplace=True, keep='last')\n"
   ]
  },
  {
   "cell_type": "code",
   "execution_count": 7,
   "metadata": {},
   "outputs": [
    {
     "data": {
      "text/html": [
       "<div>\n",
       "<style>\n",
       "    .dataframe thead tr:only-child th {\n",
       "        text-align: right;\n",
       "    }\n",
       "\n",
       "    .dataframe thead th {\n",
       "        text-align: left;\n",
       "    }\n",
       "\n",
       "    .dataframe tbody tr th {\n",
       "        vertical-align: top;\n",
       "    }\n",
       "</style>\n",
       "<table border=\"1\" class=\"dataframe\">\n",
       "  <thead>\n",
       "    <tr style=\"text-align: right;\">\n",
       "      <th></th>\n",
       "      <th>name</th>\n",
       "      <th>fan_rating</th>\n",
       "    </tr>\n",
       "  </thead>\n",
       "  <tbody>\n",
       "    <tr>\n",
       "      <th>0</th>\n",
       "      <td>barry allen</td>\n",
       "      <td>44.776665</td>\n",
       "    </tr>\n",
       "    <tr>\n",
       "      <th>1</th>\n",
       "      <td>barbara gordon</td>\n",
       "      <td>42.383715</td>\n",
       "    </tr>\n",
       "    <tr>\n",
       "      <th>2</th>\n",
       "      <td>kyle rayner</td>\n",
       "      <td>42.852083</td>\n",
       "    </tr>\n",
       "    <tr>\n",
       "      <th>3</th>\n",
       "      <td>dinah lance</td>\n",
       "      <td>47.232509</td>\n",
       "    </tr>\n",
       "    <tr>\n",
       "      <th>4</th>\n",
       "      <td>arthur curry</td>\n",
       "      <td>48.180190</td>\n",
       "    </tr>\n",
       "    <tr>\n",
       "      <th>7</th>\n",
       "      <td>hal jordan</td>\n",
       "      <td>46.046310</td>\n",
       "    </tr>\n",
       "    <tr>\n",
       "      <th>8</th>\n",
       "      <td>kara zor-el</td>\n",
       "      <td>43.137978</td>\n",
       "    </tr>\n",
       "    <tr>\n",
       "      <th>9</th>\n",
       "      <td>john constantine</td>\n",
       "      <td>44.597183</td>\n",
       "    </tr>\n",
       "  </tbody>\n",
       "</table>\n",
       "</div>"
      ],
      "text/plain": [
       "               name  fan_rating\n",
       "0       barry allen   44.776665\n",
       "1    barbara gordon   42.383715\n",
       "2       kyle rayner   42.852083\n",
       "3       dinah lance   47.232509\n",
       "4      arthur curry   48.180190\n",
       "7        hal jordan   46.046310\n",
       "8       kara zor-el   43.137978\n",
       "9  john constantine   44.597183"
      ]
     },
     "execution_count": 7,
     "metadata": {},
     "output_type": "execute_result"
    }
   ],
   "source": [
    "df"
   ]
  },
  {
   "cell_type": "code",
   "execution_count": null,
   "metadata": {
    "collapsed": true
   },
   "outputs": [],
   "source": [
    "# let's convert the content of the name column from\n",
    "# first & last to just first name\n",
    "# we do this by generating a function to do \n",
    "# the conversion on a single value"
   ]
  },
  {
   "cell_type": "code",
   "execution_count": null,
   "metadata": {
    "collapsed": true
   },
   "outputs": [],
   "source": []
  },
  {
   "cell_type": "code",
   "execution_count": 9,
   "metadata": {
    "collapsed": true
   },
   "outputs": [],
   "source": [
    "def fname_only(full_name):\n",
    "    fname = full_name.split(' ')[0]\n",
    "    return fname"
   ]
  },
  {
   "cell_type": "code",
   "execution_count": null,
   "metadata": {
    "collapsed": true
   },
   "outputs": [],
   "source": [
    "# the map() function associated with dataframe columns maps\n",
    "# the named function against\n",
    "# every item in every row of the given column\n",
    "# NOTE:\n",
    "#     Remember, pandas has several ways to refer to columns:\n",
    "#     0) when creating a new column, you must use bracket\n",
    "#        syntax: df['<colname>']\n",
    "#     1) to refer to an existing column, you are free to use either\n",
    "#        bracket syntax OR dot notation syntax: df.<colname>\n",
    "#        I find the dot notation easier to type, so defer\n",
    "#        to it when possible"
   ]
  },
  {
   "cell_type": "code",
   "execution_count": 10,
   "metadata": {},
   "outputs": [],
   "source": [
    "df['fname'] = df.name.map(fname_only)"
   ]
  },
  {
   "cell_type": "code",
   "execution_count": 11,
   "metadata": {},
   "outputs": [
    {
     "data": {
      "text/html": [
       "<div>\n",
       "<style>\n",
       "    .dataframe thead tr:only-child th {\n",
       "        text-align: right;\n",
       "    }\n",
       "\n",
       "    .dataframe thead th {\n",
       "        text-align: left;\n",
       "    }\n",
       "\n",
       "    .dataframe tbody tr th {\n",
       "        vertical-align: top;\n",
       "    }\n",
       "</style>\n",
       "<table border=\"1\" class=\"dataframe\">\n",
       "  <thead>\n",
       "    <tr style=\"text-align: right;\">\n",
       "      <th></th>\n",
       "      <th>name</th>\n",
       "      <th>fan_rating</th>\n",
       "      <th>fname</th>\n",
       "    </tr>\n",
       "  </thead>\n",
       "  <tbody>\n",
       "    <tr>\n",
       "      <th>0</th>\n",
       "      <td>barry allen</td>\n",
       "      <td>44.776665</td>\n",
       "      <td>barry</td>\n",
       "    </tr>\n",
       "    <tr>\n",
       "      <th>1</th>\n",
       "      <td>barbara gordon</td>\n",
       "      <td>42.383715</td>\n",
       "      <td>barbara</td>\n",
       "    </tr>\n",
       "    <tr>\n",
       "      <th>2</th>\n",
       "      <td>kyle rayner</td>\n",
       "      <td>42.852083</td>\n",
       "      <td>kyle</td>\n",
       "    </tr>\n",
       "    <tr>\n",
       "      <th>3</th>\n",
       "      <td>dinah lance</td>\n",
       "      <td>47.232509</td>\n",
       "      <td>dinah</td>\n",
       "    </tr>\n",
       "    <tr>\n",
       "      <th>4</th>\n",
       "      <td>arthur curry</td>\n",
       "      <td>48.180190</td>\n",
       "      <td>arthur</td>\n",
       "    </tr>\n",
       "    <tr>\n",
       "      <th>7</th>\n",
       "      <td>hal jordan</td>\n",
       "      <td>46.046310</td>\n",
       "      <td>hal</td>\n",
       "    </tr>\n",
       "    <tr>\n",
       "      <th>8</th>\n",
       "      <td>kara zor-el</td>\n",
       "      <td>43.137978</td>\n",
       "      <td>kara</td>\n",
       "    </tr>\n",
       "    <tr>\n",
       "      <th>9</th>\n",
       "      <td>john constantine</td>\n",
       "      <td>44.597183</td>\n",
       "      <td>john</td>\n",
       "    </tr>\n",
       "  </tbody>\n",
       "</table>\n",
       "</div>"
      ],
      "text/plain": [
       "               name  fan_rating    fname\n",
       "0       barry allen   44.776665    barry\n",
       "1    barbara gordon   42.383715  barbara\n",
       "2       kyle rayner   42.852083     kyle\n",
       "3       dinah lance   47.232509    dinah\n",
       "4      arthur curry   48.180190   arthur\n",
       "7        hal jordan   46.046310      hal\n",
       "8       kara zor-el   43.137978     kara\n",
       "9  john constantine   44.597183     john"
      ]
     },
     "execution_count": 11,
     "metadata": {},
     "output_type": "execute_result"
    }
   ],
   "source": [
    "df"
   ]
  },
  {
   "cell_type": "code",
   "execution_count": null,
   "metadata": {
    "collapsed": true
   },
   "outputs": [],
   "source": [
    "# lastly, let's extract just the values out of\n",
    "#     the fname column.\n",
    "# this is a list-like object and will be used \n",
    "#     as the names for our horizontal bars later."
   ]
  },
  {
   "cell_type": "code",
   "execution_count": 12,
   "metadata": {
    "collapsed": true
   },
   "outputs": [],
   "source": [
    "people = df.fname.values"
   ]
  },
  {
   "cell_type": "code",
   "execution_count": 13,
   "metadata": {},
   "outputs": [
    {
     "data": {
      "text/plain": [
       "numpy.ndarray"
      ]
     },
     "execution_count": 13,
     "metadata": {},
     "output_type": "execute_result"
    }
   ],
   "source": [
    "type(people)"
   ]
  },
  {
   "cell_type": "code",
   "execution_count": 14,
   "metadata": {},
   "outputs": [
    {
     "data": {
      "text/plain": [
       "array(['barry', 'barbara', 'kyle', 'dinah', 'arthur', 'hal', 'kara', 'john'], dtype=object)"
      ]
     },
     "execution_count": 14,
     "metadata": {},
     "output_type": "execute_result"
    }
   ],
   "source": [
    "people"
   ]
  },
  {
   "cell_type": "code",
   "execution_count": null,
   "metadata": {
    "collapsed": true
   },
   "outputs": [],
   "source": [
    "# now we can put together a sequence that will\n",
    "# store the y position values. we'll use np.arange to\n",
    "# create an array of sequential values based on\n",
    "# the length of the people array\n",
    "# this will be used as a set of temporary names\n",
    "# for our horizontal bars...\n",
    "# ultimately, we will replace it with real names...\n",
    "\n",
    "# plus, we will save off the fan rating as a series for use\n",
    "# in the plotting software as the x values"
   ]
  },
  {
   "cell_type": "code",
   "execution_count": 15,
   "metadata": {
    "collapsed": true
   },
   "outputs": [],
   "source": [
    "y_pos = np.arange(len(people))\n",
    "\n",
    "performance = df['fan_rating']"
   ]
  },
  {
   "cell_type": "code",
   "execution_count": 16,
   "metadata": {
    "collapsed": true
   },
   "outputs": [],
   "source": [
    "# based on this preliminary work, we can generate a\n",
    "# simple horizontal bar chart\n",
    "# we give it y values and x values\n",
    "# and we tell it to show() the plot"
   ]
  },
  {
   "cell_type": "code",
   "execution_count": 17,
   "metadata": {},
   "outputs": [
    {
     "data": {
      "image/png": "[encoded data removed]",
      "text/plain": [
       "<matplotlib.figure.Figure at 0x10e198e48>"
      ]
     },
     "metadata": {},
     "output_type": "display_data"
    }
   ],
   "source": [
    "plt.barh(y_pos, performance)\n",
    "plt.show()"
   ]
  },
  {
   "cell_type": "code",
   "execution_count": null,
   "metadata": {
    "collapsed": true
   },
   "outputs": [],
   "source": [
    "# presume we don't like the alignment of the names\n",
    "# against the horizontal bars.\n",
    "# we can align the names to the center of the bars."
   ]
  },
  {
   "cell_type": "code",
   "execution_count": 18,
   "metadata": {},
   "outputs": [
    {
     "data": {
      "image/png": "[encoded data removed]",
      "text/plain": [
       "<matplotlib.figure.Figure at 0x1114ef860>"
      ]
     },
     "metadata": {},
     "output_type": "display_data"
    }
   ],
   "source": [
    "plt.barh(y_pos, performance, align='edge')\n",
    "plt.show()"
   ]
  },
  {
   "cell_type": "code",
   "execution_count": null,
   "metadata": {
    "collapsed": true
   },
   "outputs": [],
   "source": [
    "# what if we don't like the dark color? we can revise the color to have a\n",
    "# greater degree of transparency by setting the alpha characteristic"
   ]
  },
  {
   "cell_type": "code",
   "execution_count": 23,
   "metadata": {},
   "outputs": [
    {
     "data": {
      "image/png": "[encoded data removed]",
      "text/plain": [
       "<matplotlib.figure.Figure at 0x111547fd0>"
      ]
     },
     "metadata": {},
     "output_type": "display_data"
    }
   ],
   "source": [
    "plt.barh(y_pos, performance, alpha=0.4)\n",
    "plt.show()"
   ]
  },
  {
   "cell_type": "code",
   "execution_count": null,
   "metadata": {
    "collapsed": true
   },
   "outputs": [],
   "source": [
    "# what if we don't like the default color? \n",
    "# we can revise the color as desired\n",
    "# matplotlib has a number of default colors:\n",
    "#     'r' stands for red"
   ]
  },
  {
   "cell_type": "code",
   "execution_count": 24,
   "metadata": {},
   "outputs": [
    {
     "data": {
      "image/png": "[encoded data removed]",
      "text/plain": [
       "<matplotlib.figure.Figure at 0x111973f60>"
      ]
     },
     "metadata": {},
     "output_type": "display_data"
    }
   ],
   "source": [
    "plt.barh(y_pos, performance, align='center', alpha=0.4, color='r')\n",
    "plt.show()"
   ]
  },
  {
   "cell_type": "code",
   "execution_count": null,
   "metadata": {
    "collapsed": true
   },
   "outputs": [],
   "source": [
    "# what if our data comes with some percentage of error?\n",
    "# this can be represented using an xerr parameter.\n",
    "# here, we again use random to generate a random \n",
    "# set of values that we can\n",
    "# then use to generate error bars. \n",
    "# in real life, you would have some\n",
    "# margin for error for all the values."
   ]
  },
  {
   "cell_type": "code",
   "execution_count": 26,
   "metadata": {},
   "outputs": [
    {
     "data": {
      "image/png": "[encoded data removed]",
      "text/plain": [
       "<matplotlib.figure.Figure at 0x1118f0748>"
      ]
     },
     "metadata": {},
     "output_type": "display_data"
    }
   ],
   "source": [
    "error = 2 * np.random.rand(len(people))\n",
    "\n",
    "plt.barh(y_pos, performance, xerr=error, \n",
    "        align='center', alpha=0.4, color='r')\n",
    "plt.show()"
   ]
  },
  {
   "cell_type": "code",
   "execution_count": null,
   "metadata": {
    "collapsed": true
   },
   "outputs": [],
   "source": [
    "# this still leaves off info that most of us\n",
    "# would want, in terms of the\n",
    "# people names, title, axis labels, etc."
   ]
  },
  {
   "cell_type": "code",
   "execution_count": 27,
   "metadata": {},
   "outputs": [
    {
     "data": {
      "text/plain": [
       "<matplotlib.text.Text at 0x11150f518>"
      ]
     },
     "execution_count": 27,
     "metadata": {},
     "output_type": "execute_result"
    }
   ],
   "source": [
    "plt.barh(y_pos, performance, xerr=error, \n",
    "         align='center', alpha=0.4, color='r')\n",
    "\n",
    "plt.yticks(y_pos, people)\n",
    "plt.xlabel('rating')\n",
    "plt.title(\"Estimated Justice League's Fan Ratings\")\n"
   ]
  },
  {
   "cell_type": "code",
   "execution_count": 28,
   "metadata": {},
   "outputs": [
    {
     "data": {
      "image/png": "[encoded data removed]",
      "text/plain": [
       "<matplotlib.figure.Figure at 0x111b6d0b8>"
      ]
     },
     "metadata": {},
     "output_type": "display_data"
    }
   ],
   "source": [
    "plt.savefig('hbar.png')\n",
    "plt.show()"
   ]
  },
  {
   "cell_type": "code",
   "execution_count": 33,
   "metadata": {},
   "outputs": [
    {
     "data": {
      "text/plain": [
       "array([[[[ 0.80833826,  0.45651739],\n",
       "         [ 0.69792259,  0.97042669]],\n",
       "\n",
       "        [[ 0.61610967,  0.07952413],\n",
       "         [ 0.80791269,  0.17301063]]],\n",
       "\n",
       "\n",
       "       [[[ 0.91948116,  0.39582109],\n",
       "         [ 0.83053572,  0.3865974 ]],\n",
       "\n",
       "        [[ 0.96469193,  0.45732229],\n",
       "         [ 0.97493244,  0.89539425]]]])"
      ]
     },
     "execution_count": 33,
     "metadata": {},
     "output_type": "execute_result"
    }
   ],
   "source": [
    "\n"
   ]
  },
  {
   "cell_type": "code",
   "execution_count": null,
   "metadata": {
    "collapsed": true
   },
   "outputs": [],
   "source": [
    "# creating a histogram with some additional features\n",
    "# (based heavily on an example from the matplotlib website...)\n",
    "# http://matplotlib.org/1.2.1/examples/api/histogram_demo.html\n",
    "\n",
    "# In addition to the basic histogram, this demo shows a few optional\n",
    "# features:\n",
    "#     * setting the number of data bins\n",
    "#     * the ''normed'' flag, which normalizes bin heights so that the\n",
    "#       integral of the histogram is 1. the resulting histogram is a\n",
    "#       probability density\n",
    "#     * setting the face color of the bars\n",
    "#     * setting the opacity (alpha value)\n",
    "\n",
    "# As always, we start by importing the appropriate libraries"
   ]
  },
  {
   "cell_type": "code",
   "execution_count": 34,
   "metadata": {
    "collapsed": true
   },
   "outputs": [],
   "source": [
    "import numpy as np\n",
    "import matplotlib.mlab as mlab\n",
    "import matplotlib.pyplot as plt"
   ]
  },
  {
   "cell_type": "code",
   "execution_count": 35,
   "metadata": {
    "collapsed": true
   },
   "outputs": [],
   "source": [
    "# we define some of the characteristics of our distribution:\n",
    "mu = 100       # mean of the distribution\n",
    "sigma = 15     # standard deviation of the distribution"
   ]
  },
  {
   "cell_type": "code",
   "execution_count": null,
   "metadata": {
    "collapsed": true
   },
   "outputs": [],
   "source": [
    "# np.random.randn creates a random array of values taken from a\n",
    "# standard normal distribution\n",
    "# we can transform the distribution by multiplying the values by sigma and\n",
    "# by adding the mean mu"
   ]
  },
  {
   "cell_type": "code",
   "execution_count": 36,
   "metadata": {},
   "outputs": [
    {
     "name": "stdout",
     "output_type": "stream",
     "text": [
      "[ 103.70768731   90.44598793   79.91045688 ...,   95.92820341  112.91214052\n",
      "  117.08559845]\n"
     ]
    }
   ],
   "source": [
    "x = mu + sigma * np.random.randn(10000)\n",
    "print(x)"
   ]
  },
  {
   "cell_type": "code",
   "execution_count": null,
   "metadata": {
    "collapsed": true
   },
   "outputs": [],
   "source": [
    "# we set a specific number of bins that we will group our values into..."
   ]
  },
  {
   "cell_type": "code",
   "execution_count": 38,
   "metadata": {
    "collapsed": true
   },
   "outputs": [],
   "source": [
    "num_bins = 50"
   ]
  },
  {
   "cell_type": "code",
   "execution_count": 39,
   "metadata": {
    "collapsed": true
   },
   "outputs": [],
   "source": [
    "# next we create the data for the histogram\n",
    "# n = values (height) for each bar of the histogram\n",
    "# bins = the indicators that demarck the bins\n",
    "# patches = are the rectangle objects that represent each bar"
   ]
  },
  {
   "cell_type": "code",
   "execution_count": 40,
   "metadata": {},
   "outputs": [
    {
     "name": "stdout",
     "output_type": "stream",
     "text": [
      "[  4.52214839e-05   1.35664452e-04   4.52214839e-05   1.35664452e-04\n",
      "   9.49651162e-04   6.78322259e-04   6.78322259e-04   1.31142303e-03\n",
      "   1.85408084e-03   2.80373200e-03   3.61771871e-03   3.97949059e-03\n",
      "   6.55711517e-03   8.18508859e-03   8.54686046e-03   1.08079347e-02\n",
      "   1.37473311e-02   1.63249557e-02   1.75459358e-02   1.95356811e-02\n",
      "   2.24750775e-02   2.35151716e-02   2.64545681e-02   2.64997896e-02\n",
      "   2.64093466e-02   2.53240310e-02   2.38769435e-02   2.28820709e-02\n",
      "   2.26559634e-02   2.08923256e-02   1.96261240e-02   1.53753045e-02\n",
      "   1.28881229e-02   1.02200554e-02   8.81818937e-03   7.64243078e-03\n",
      "   5.47179956e-03   3.25594684e-03   3.39161129e-03   2.48718162e-03\n",
      "   1.22098007e-03   9.94872646e-04   9.49651162e-04   5.87879291e-04\n",
      "   3.16550387e-04   1.35664452e-04   1.80885936e-04   9.04429679e-05\n",
      "   0.00000000e+00   9.04429679e-05]\n",
      "[  46.03533805   48.24667636   50.45801467   52.66935299   54.8806913\n",
      "   57.09202961   59.30336793   61.51470624   63.72604455   65.93738287\n",
      "   68.14872118   70.36005949   72.57139781   74.78273612   76.99407443\n",
      "   79.20541275   81.41675106   83.62808937   85.83942769   88.050766\n",
      "   90.26210431   92.47344263   94.68478094   96.89611926   99.10745757\n",
      "  101.31879588  103.5301342   105.74147251  107.95281082  110.16414914\n",
      "  112.37548745  114.58682576  116.79816408  119.00950239  121.2208407\n",
      "  123.43217902  125.64351733  127.85485564  130.06619396  132.27753227\n",
      "  134.48887058  136.7002089   138.91154721  141.12288552  143.33422384\n",
      "  145.54556215  147.75690047  149.96823878  152.17957709  154.39091541\n",
      "  156.60225372]\n"
     ]
    },
    {
     "data": {
      "image/png": "[encoded data removed]",
      "text/plain": [
       "<matplotlib.figure.Figure at 0x111b90240>"
      ]
     },
     "metadata": {},
     "output_type": "display_data"
    }
   ],
   "source": [
    "n, bins, patches = plt.hist(x, num_bins, normed=1,\n",
    "                            facecolor='green', alpha=0.5)\n",
    "print(n)\n",
    "print(bins)\n",
    "# print(patches)\n",
    "# for item in patches:\n",
    "#     print(item)\n",
    "\n",
    "plt.show()"
   ]
  },
  {
   "cell_type": "code",
   "execution_count": null,
   "metadata": {
    "collapsed": true
   },
   "outputs": [],
   "source": [
    "# from here, we can add a 'best fit' line...\n",
    "# the normal probability density function (pdf) helps to answer the question:\n",
    "# \"how common are samples at a given value?'"
   ]
  },
  {
   "cell_type": "code",
   "execution_count": 41,
   "metadata": {},
   "outputs": [
    {
     "data": {
      "image/png": "[encoded data removed]",
      "text/plain": [
       "<matplotlib.figure.Figure at 0x111523860>"
      ]
     },
     "metadata": {},
     "output_type": "display_data"
    }
   ],
   "source": [
    "n, bins, patches = plt.hist(x, num_bins,\n",
    "                            normed=1, \n",
    "                            facecolor='green',\n",
    "                            alpha=0.5)\n",
    "\n",
    "y = mlab.normpdf(bins, mu, sigma)\n",
    "plt.plot(bins, y, 'r--')\n",
    "\n",
    "plt.show()"
   ]
  },
  {
   "cell_type": "code",
   "execution_count": 42,
   "metadata": {},
   "outputs": [
    {
     "data": {
      "image/png": "[encoded data removed]",
      "text/plain": [
       "<matplotlib.figure.Figure at 0x111a644e0>"
      ]
     },
     "metadata": {},
     "output_type": "display_data"
    }
   ],
   "source": [
    "# And let's add some labels...\n",
    "\n",
    "n, bins, patches = plt.hist(x, num_bins, normed=1,\n",
    "                            facecolor='blue', alpha=0.7)\n",
    "y = mlab.normpdf(bins, mu, sigma)\n",
    "plt.plot(bins, y, 'k--')\n",
    "\n",
    "plt.xlabel('Smarts')\n",
    "plt.ylabel('Probability')\n",
    "\n",
    "plt.show()"
   ]
  },
  {
   "cell_type": "code",
   "execution_count": null,
   "metadata": {
    "collapsed": true
   },
   "outputs": [],
   "source": [
    "# the opening '$\\' and the closing '$' tags in the following commands enable you to\n",
    "# include italics in the title"
   ]
  },
  {
   "cell_type": "code",
   "execution_count": 49,
   "metadata": {},
   "outputs": [
    {
     "data": {
      "image/png": "[encoded data removed]",
      "text/plain": [
       "<matplotlib.figure.Figure at 0x11220d128>"
      ]
     },
     "metadata": {},
     "output_type": "display_data"
    }
   ],
   "source": [
    "n, bins, patches = plt.hist(x, num_bins, normed=1,\n",
    "                            facecolor='red', alpha=0.5)\n",
    "y = mlab.normpdf(bins, mu, sigma)\n",
    "plt.plot(bins, y, 'ro')\n",
    "plt.xlabel('Smarts')\n",
    "plt.ylabel('Probability')\n",
    "\n",
    "plt.title(r'Histogram of IQ: $\\mu=100$, $\\sigma=15$')\n",
    "\n",
    "plt.show()"
   ]
  },
  {
   "cell_type": "code",
   "execution_count": 51,
   "metadata": {},
   "outputs": [
    {
     "data": {
      "image/png": "[encoded data removed]",
      "text/plain": [
       "<matplotlib.figure.Figure at 0x111acd240>"
      ]
     },
     "metadata": {},
     "output_type": "display_data"
    }
   ],
   "source": [
    "n, bins, patches = plt.hist(x, num_bins, normed=1,\n",
    "                            facecolor='blue', alpha=0.5)\n",
    "y = mlab.normpdf(bins, mu, sigma)\n",
    "plt.plot(bins, y, 'r--')\n",
    "plt.xlabel('Smarts')\n",
    "plt.ylabel('Probability')\n",
    "plt.title(r'Histogram of IQ: $\\mu=100$, $\\sigma=15$')\n",
    "\n",
    "plt.show()\n",
    "\n",
    "plt.savefig('hist.png')"
   ]
  },
  {
   "cell_type": "code",
   "execution_count": null,
   "metadata": {
    "collapsed": true
   },
   "outputs": [],
   "source": [
    "# generate a scatter plot\n",
    "# (based heavily on an example from the matplotlib website...)\n",
    "# http://matplotlib.org/examples/shapes_and_collections/scatter_demo.html"
   ]
  },
  {
   "cell_type": "code",
   "execution_count": 52,
   "metadata": {
    "collapsed": true
   },
   "outputs": [],
   "source": [
    "import numpy as np\n",
    "import matplotlib.pyplot as plt\n",
    "import pandas as pd"
   ]
  },
  {
   "cell_type": "code",
   "execution_count": null,
   "metadata": {
    "collapsed": true
   },
   "outputs": [],
   "source": [
    "# Let's read in a csv via pandas but keep only two of the columns"
   ]
  },
  {
   "cell_type": "code",
   "execution_count": 54,
   "metadata": {
    "collapsed": true
   },
   "outputs": [],
   "source": [
    "df = pd.read_csv('log_file_1000.csv', names=['name',\n",
    "                                                   'email',\n",
    "                                                   'fmip',\n",
    "                                                   'toip',\n",
    "                                                   'date',\n",
    "                                                   'lat',\n",
    "                                                   'long',\n",
    "                                                   'payload'],\n",
    "                                            nrows=35,\n",
    "                                            usecols=['lat', 'long'])"
   ]
  },
  {
   "cell_type": "code",
   "execution_count": null,
   "metadata": {
    "collapsed": true
   },
   "outputs": [],
   "source": [
    "# next, let's create two arrays from the lat and long columns"
   ]
  },
  {
   "cell_type": "code",
   "execution_count": 55,
   "metadata": {},
   "outputs": [
    {
     "data": {
      "text/html": [
       "<div>\n",
       "<style>\n",
       "    .dataframe thead tr:only-child th {\n",
       "        text-align: right;\n",
       "    }\n",
       "\n",
       "    .dataframe thead th {\n",
       "        text-align: left;\n",
       "    }\n",
       "\n",
       "    .dataframe tbody tr th {\n",
       "        vertical-align: top;\n",
       "    }\n",
       "</style>\n",
       "<table border=\"1\" class=\"dataframe\">\n",
       "  <thead>\n",
       "    <tr style=\"text-align: right;\">\n",
       "      <th></th>\n",
       "      <th>lat</th>\n",
       "      <th>long</th>\n",
       "    </tr>\n",
       "  </thead>\n",
       "  <tbody>\n",
       "    <tr>\n",
       "      <th>0</th>\n",
       "      <td>49.83160</td>\n",
       "      <td>8.01485</td>\n",
       "    </tr>\n",
       "    <tr>\n",
       "      <th>1</th>\n",
       "      <td>45.10327</td>\n",
       "      <td>11.68293</td>\n",
       "    </tr>\n",
       "    <tr>\n",
       "      <th>2</th>\n",
       "      <td>47.11673</td>\n",
       "      <td>10.35874</td>\n",
       "    </tr>\n",
       "    <tr>\n",
       "      <th>3</th>\n",
       "      <td>46.75616</td>\n",
       "      <td>11.47886</td>\n",
       "    </tr>\n",
       "    <tr>\n",
       "      <th>4</th>\n",
       "      <td>48.59134</td>\n",
       "      <td>12.30683</td>\n",
       "    </tr>\n",
       "    <tr>\n",
       "      <th>5</th>\n",
       "      <td>45.23082</td>\n",
       "      <td>10.90642</td>\n",
       "    </tr>\n",
       "    <tr>\n",
       "      <th>6</th>\n",
       "      <td>48.20129</td>\n",
       "      <td>10.54183</td>\n",
       "    </tr>\n",
       "    <tr>\n",
       "      <th>7</th>\n",
       "      <td>48.85730</td>\n",
       "      <td>9.23887</td>\n",
       "    </tr>\n",
       "    <tr>\n",
       "      <th>8</th>\n",
       "      <td>48.05990</td>\n",
       "      <td>9.97774</td>\n",
       "    </tr>\n",
       "    <tr>\n",
       "      <th>9</th>\n",
       "      <td>46.43865</td>\n",
       "      <td>8.50877</td>\n",
       "    </tr>\n",
       "    <tr>\n",
       "      <th>10</th>\n",
       "      <td>49.73236</td>\n",
       "      <td>11.51376</td>\n",
       "    </tr>\n",
       "    <tr>\n",
       "      <th>11</th>\n",
       "      <td>47.52949</td>\n",
       "      <td>10.77212</td>\n",
       "    </tr>\n",
       "    <tr>\n",
       "      <th>12</th>\n",
       "      <td>47.48082</td>\n",
       "      <td>9.57450</td>\n",
       "    </tr>\n",
       "    <tr>\n",
       "      <th>13</th>\n",
       "      <td>46.87952</td>\n",
       "      <td>7.83721</td>\n",
       "    </tr>\n",
       "    <tr>\n",
       "      <th>14</th>\n",
       "      <td>48.03074</td>\n",
       "      <td>10.41633</td>\n",
       "    </tr>\n",
       "    <tr>\n",
       "      <th>15</th>\n",
       "      <td>47.64781</td>\n",
       "      <td>11.90056</td>\n",
       "    </tr>\n",
       "    <tr>\n",
       "      <th>16</th>\n",
       "      <td>47.30706</td>\n",
       "      <td>8.47864</td>\n",
       "    </tr>\n",
       "    <tr>\n",
       "      <th>17</th>\n",
       "      <td>47.89841</td>\n",
       "      <td>11.66265</td>\n",
       "    </tr>\n",
       "    <tr>\n",
       "      <th>18</th>\n",
       "      <td>46.21873</td>\n",
       "      <td>9.56542</td>\n",
       "    </tr>\n",
       "    <tr>\n",
       "      <th>19</th>\n",
       "      <td>49.55200</td>\n",
       "      <td>11.59746</td>\n",
       "    </tr>\n",
       "    <tr>\n",
       "      <th>20</th>\n",
       "      <td>48.60361</td>\n",
       "      <td>9.28674</td>\n",
       "    </tr>\n",
       "    <tr>\n",
       "      <th>21</th>\n",
       "      <td>45.98007</td>\n",
       "      <td>9.14988</td>\n",
       "    </tr>\n",
       "    <tr>\n",
       "      <th>22</th>\n",
       "      <td>46.15439</td>\n",
       "      <td>8.44537</td>\n",
       "    </tr>\n",
       "    <tr>\n",
       "      <th>23</th>\n",
       "      <td>49.89778</td>\n",
       "      <td>8.25535</td>\n",
       "    </tr>\n",
       "    <tr>\n",
       "      <th>24</th>\n",
       "      <td>47.80911</td>\n",
       "      <td>11.51937</td>\n",
       "    </tr>\n",
       "    <tr>\n",
       "      <th>25</th>\n",
       "      <td>48.37042</td>\n",
       "      <td>11.56378</td>\n",
       "    </tr>\n",
       "    <tr>\n",
       "      <th>26</th>\n",
       "      <td>48.36901</td>\n",
       "      <td>8.26619</td>\n",
       "    </tr>\n",
       "    <tr>\n",
       "      <th>27</th>\n",
       "      <td>49.69216</td>\n",
       "      <td>8.72742</td>\n",
       "    </tr>\n",
       "    <tr>\n",
       "      <th>28</th>\n",
       "      <td>46.68394</td>\n",
       "      <td>10.58863</td>\n",
       "    </tr>\n",
       "    <tr>\n",
       "      <th>29</th>\n",
       "      <td>48.83732</td>\n",
       "      <td>12.12413</td>\n",
       "    </tr>\n",
       "    <tr>\n",
       "      <th>30</th>\n",
       "      <td>49.79903</td>\n",
       "      <td>9.05303</td>\n",
       "    </tr>\n",
       "    <tr>\n",
       "      <th>31</th>\n",
       "      <td>46.75312</td>\n",
       "      <td>12.34015</td>\n",
       "    </tr>\n",
       "    <tr>\n",
       "      <th>32</th>\n",
       "      <td>49.18048</td>\n",
       "      <td>10.75595</td>\n",
       "    </tr>\n",
       "    <tr>\n",
       "      <th>33</th>\n",
       "      <td>45.46586</td>\n",
       "      <td>10.67303</td>\n",
       "    </tr>\n",
       "    <tr>\n",
       "      <th>34</th>\n",
       "      <td>45.45445</td>\n",
       "      <td>11.04130</td>\n",
       "    </tr>\n",
       "  </tbody>\n",
       "</table>\n",
       "</div>"
      ],
      "text/plain": [
       "         lat      long\n",
       "0   49.83160   8.01485\n",
       "1   45.10327  11.68293\n",
       "2   47.11673  10.35874\n",
       "3   46.75616  11.47886\n",
       "4   48.59134  12.30683\n",
       "5   45.23082  10.90642\n",
       "6   48.20129  10.54183\n",
       "7   48.85730   9.23887\n",
       "8   48.05990   9.97774\n",
       "9   46.43865   8.50877\n",
       "10  49.73236  11.51376\n",
       "11  47.52949  10.77212\n",
       "12  47.48082   9.57450\n",
       "13  46.87952   7.83721\n",
       "14  48.03074  10.41633\n",
       "15  47.64781  11.90056\n",
       "16  47.30706   8.47864\n",
       "17  47.89841  11.66265\n",
       "18  46.21873   9.56542\n",
       "19  49.55200  11.59746\n",
       "20  48.60361   9.28674\n",
       "21  45.98007   9.14988\n",
       "22  46.15439   8.44537\n",
       "23  49.89778   8.25535\n",
       "24  47.80911  11.51937\n",
       "25  48.37042  11.56378\n",
       "26  48.36901   8.26619\n",
       "27  49.69216   8.72742\n",
       "28  46.68394  10.58863\n",
       "29  48.83732  12.12413\n",
       "30  49.79903   9.05303\n",
       "31  46.75312  12.34015\n",
       "32  49.18048  10.75595\n",
       "33  45.46586  10.67303\n",
       "34  45.45445  11.04130"
      ]
     },
     "execution_count": 55,
     "metadata": {},
     "output_type": "execute_result"
    }
   ],
   "source": [
    "df"
   ]
  },
  {
   "cell_type": "code",
   "execution_count": 57,
   "metadata": {
    "collapsed": true
   },
   "outputs": [],
   "source": [
    "latitudes = df.lat\n",
    "longitudes = df.long"
   ]
  },
  {
   "cell_type": "code",
   "execution_count": 58,
   "metadata": {
    "collapsed": true
   },
   "outputs": [],
   "source": [
    "# here we calculate the length of one of the arrays\n",
    "\n",
    "count = len(latitudes)"
   ]
  },
  {
   "cell_type": "code",
   "execution_count": null,
   "metadata": {
    "collapsed": true
   },
   "outputs": [],
   "source": [
    "# we'll use numpy to create a random collections of numbers for use in defining colors\n",
    "# of the circles in our scatterplot"
   ]
  },
  {
   "cell_type": "code",
   "execution_count": 60,
   "metadata": {
    "collapsed": true
   },
   "outputs": [],
   "source": [
    "colors = np.random.rand(count)"
   ]
  },
  {
   "cell_type": "code",
   "execution_count": 61,
   "metadata": {
    "collapsed": true
   },
   "outputs": [],
   "source": [
    "# this step creates a random set of areas based on a radiuses from 0 to 20\n",
    "# we can imagine that this is indicative of a the frequency of communications OR\n",
    "# something similarly awesome and nerdy like that.\n",
    "# np.pi gives us pi to 15 decimal places\n",
    "# np.random.rand gives us random numbers from 0 to 1"
   ]
  },
  {
   "cell_type": "code",
   "execution_count": 62,
   "metadata": {
    "collapsed": true
   },
   "outputs": [],
   "source": [
    "areas = np.pi * (20 * np.random.rand(count))**2"
   ]
  },
  {
   "cell_type": "code",
   "execution_count": 63,
   "metadata": {
    "collapsed": true
   },
   "outputs": [],
   "source": [
    "# generate the scatter plot"
   ]
  },
  {
   "cell_type": "code",
   "execution_count": 64,
   "metadata": {},
   "outputs": [
    {
     "data": {
      "text/plain": [
       "<matplotlib.collections.PathCollection at 0x11179e8d0>"
      ]
     },
     "execution_count": 64,
     "metadata": {},
     "output_type": "execute_result"
    }
   ],
   "source": [
    "plt.scatter(latitudes, longitudes, s=areas, c=colors) #, alpha=0.4)"
   ]
  },
  {
   "cell_type": "code",
   "execution_count": 65,
   "metadata": {
    "collapsed": true
   },
   "outputs": [],
   "source": [
    "# we chose to create stand alone variables (latitude, longitude) but these are not\n",
    "# required... we can just as happily read in directly from df.lat or df.long:\n",
    "# plt.scatter(df.lat, df.long, s=area, c=colors, alpha=0.4)"
   ]
  },
  {
   "cell_type": "code",
   "execution_count": 66,
   "metadata": {},
   "outputs": [
    {
     "data": {
      "image/png": "[encoded data removed]",
      "text/plain": [
       "<matplotlib.figure.Figure at 0x11258c2e8>"
      ]
     },
     "metadata": {},
     "output_type": "display_data"
    }
   ],
   "source": [
    "plt.savefig('scatter.png')\n",
    "plt.show()"
   ]
  },
  {
   "cell_type": "code",
   "execution_count": 67,
   "metadata": {
    "collapsed": true
   },
   "outputs": [],
   "source": [
    "plt.savefig?"
   ]
  },
  {
   "cell_type": "code",
   "execution_count": null,
   "metadata": {
    "collapsed": true
   },
   "outputs": [],
   "source": [
    "# generate multiple subplots on the same figure\n",
    "# (based heavily on an example from the matplotlib website...)\n",
    "# http://matplotlib.org/1.2.1/examples/pylab_examples/multiple_figs_demo.html\n",
    "# we start by importing needed libraries"
   ]
  },
  {
   "cell_type": "code",
   "execution_count": 68,
   "metadata": {
    "collapsed": true
   },
   "outputs": [],
   "source": [
    "import numpy as np\n",
    "import matplotlib.pyplot as plt"
   ]
  },
  {
   "cell_type": "code",
   "execution_count": null,
   "metadata": {
    "collapsed": true
   },
   "outputs": [],
   "source": [
    "# numpy's linspace() function will generate evenly spaced numbers over an interval...\n",
    "# it returns 50 numbers (num=50) by default"
   ]
  },
  {
   "cell_type": "code",
   "execution_count": 69,
   "metadata": {
    "collapsed": true
   },
   "outputs": [],
   "source": [
    "x1 = np.linspace(0.0, 5.0, num=200)\n",
    "x2 = np.linspace(0.0, 5.0, num=200)"
   ]
  },
  {
   "cell_type": "code",
   "execution_count": null,
   "metadata": {
    "collapsed": true
   },
   "outputs": [],
   "source": [
    "# NOTE: in a case where we need to set multiple names for essentially the same value(s)\n",
    "# this syntax works:\n",
    "# I am hesitant to use it for anything important...because I tend to miss the second\n",
    "# variable when I quickly scan down my code\n",
    "# x1 = x2 = np.linspace(0.0, 5.0, num=200)"
   ]
  },
  {
   "cell_type": "code",
   "execution_count": null,
   "metadata": {
    "collapsed": true
   },
   "outputs": [],
   "source": [
    "# np.cos() calculates the cosine of each element in a passed array\n",
    "# np.pi produces a static value for pi out to 15 decimal places.\n",
    "# np.exp() calculates the natural exponential function (e^x) for each\n",
    "#     element in a passed array, where e = 2.71828. This function acts as a dampener\n",
    "#     in the following equation. As the value of (-x1) decreases (from\n",
    "#     0 to -5), the value of np.exp gets closer and closer to zero."
   ]
  },
  {
   "cell_type": "code",
   "execution_count": 71,
   "metadata": {
    "collapsed": true
   },
   "outputs": [],
   "source": [
    "y1 = np.cos(2 * np.pi/2.0 * x1) * np.exp(-x1)\n",
    "y2 = np.cos(2 * np.pi/2.0 * x1)"
   ]
  },
  {
   "cell_type": "code",
   "execution_count": 72,
   "metadata": {
    "collapsed": true
   },
   "outputs": [],
   "source": [
    "# plt.interactive() sets the plot so that you can manipulate it incrementally in real-time"
   ]
  },
  {
   "cell_type": "code",
   "execution_count": null,
   "metadata": {
    "collapsed": true
   },
   "outputs": [],
   "source": []
  },
  {
   "cell_type": "code",
   "execution_count": 73,
   "metadata": {
    "collapsed": true
   },
   "outputs": [],
   "source": [
    "# this next command creates a subplot with a matrix of rows and columns \n",
    "# that has the following characteristics:\n",
    "#     plt.subplot(nrows=2, ncols=1, plot_number=1)\n",
    "# where nrows and ncols ID the number of rows/columns respectively\n",
    "# where plot_number is the currently active (writeable) plot in the matrix"
   ]
  },
  {
   "cell_type": "code",
   "execution_count": 74,
   "metadata": {},
   "outputs": [
    {
     "data": {
      "text/plain": [
       "<matplotlib.axes._subplots.AxesSubplot at 0x1123ab400>"
      ]
     },
     "execution_count": 74,
     "metadata": {},
     "output_type": "execute_result"
    }
   ],
   "source": [
    "plt.subplot(2, 1, 1)"
   ]
  },
  {
   "cell_type": "code",
   "execution_count": null,
   "metadata": {
    "collapsed": true
   },
   "outputs": [],
   "source": [
    "# we next write to the currently active plot based on these characteristics:\n",
    "# plt.plot(x-axis values, y-axis values, formatting for the line)\n",
    "# in this case, we use:\n",
    "#     x1 values along the x-axis\n",
    "#     y1 values along the y-axis\n",
    "#     'y' = yellow\n",
    "#     'o' yields circle marks\n",
    "#     '-' (dash) yields a solid line\n",
    "#     AND\n",
    "#     'r' = red\n",
    "#     '.' = small dots\n",
    "#     '-' (dash) again yields a solid line "
   ]
  },
  {
   "cell_type": "code",
   "execution_count": 75,
   "metadata": {},
   "outputs": [
    {
     "data": {
      "text/plain": [
       "<matplotlib.text.Text at 0x1121d8160>"
      ]
     },
     "execution_count": 75,
     "metadata": {},
     "output_type": "execute_result"
    }
   ],
   "source": [
    "plt.plot(x1, y1, 'yo-')\n",
    "plt.plot(x2, y2, 'r.-')\n",
    "plt.title('A tale of 2 subplots')\n",
    "plt.ylabel('Damped & undamped oscillations')"
   ]
  },
  {
   "cell_type": "code",
   "execution_count": null,
   "metadata": {
    "collapsed": true
   },
   "outputs": [],
   "source": [
    "# next we set the second subplot as the active one and\n",
    "# we define a green line with green marker dots."
   ]
  },
  {
   "cell_type": "code",
   "execution_count": 76,
   "metadata": {},
   "outputs": [
    {
     "data": {
      "text/plain": [
       "<matplotlib.text.Text at 0x1119029b0>"
      ]
     },
     "execution_count": 76,
     "metadata": {},
     "output_type": "execute_result"
    }
   ],
   "source": [
    "plt.subplot(2, 1, 2)\n",
    "plt.plot(x1, y1, 'g^-')\n",
    "plt.xlabel('time (s)')\n",
    "plt.ylabel('Damped')"
   ]
  },
  {
   "cell_type": "code",
   "execution_count": null,
   "metadata": {
    "collapsed": true
   },
   "outputs": [],
   "source": [
    "# NOTE: when you have plt.interactive() set to True:\n",
    "# it is possible to not only set values, but change values..."
   ]
  },
  {
   "cell_type": "code",
   "execution_count": 77,
   "metadata": {},
   "outputs": [
    {
     "data": {
      "text/plain": [
       "([<matplotlib.axis.XTick at 0x1118fe438>,\n",
       "  <matplotlib.axis.XTick at 0x1118fe978>,\n",
       "  <matplotlib.axis.XTick at 0x1117a8d30>,\n",
       "  <matplotlib.axis.XTick at 0x111c228d0>,\n",
       "  <matplotlib.axis.XTick at 0x111a837b8>],\n",
       " <a list of 5 Text xticklabel objects>)"
      ]
     },
     "execution_count": 77,
     "metadata": {},
     "output_type": "execute_result"
    }
   ],
   "source": [
    "plt.xticks(np.arange(5), ['zero', 'one', 'two', 'three', 'four'])\n",
    "\n"
   ]
  },
  {
   "cell_type": "code",
   "execution_count": 78,
   "metadata": {},
   "outputs": [
    {
     "data": {
      "image/png": "[encoded data removed]",
      "text/plain": [
       "<matplotlib.figure.Figure at 0x1123a1390>"
      ]
     },
     "metadata": {},
     "output_type": "display_data"
    }
   ],
   "source": [
    "plt.show()\n",
    "plt.savefig('subplots.png')"
   ]
  },
  {
   "cell_type": "code",
   "execution_count": null,
   "metadata": {
    "collapsed": true
   },
   "outputs": [],
   "source": []
  },
  {
   "cell_type": "code",
   "execution_count": null,
   "metadata": {
    "collapsed": true
   },
   "outputs": [],
   "source": []
  }
 ],
 "metadata": {
  "kernelspec": {
   "display_name": "Python 3",
   "language": "python",
   "name": "python3"
  },
  "language_info": {
   "codemirror_mode": {
    "name": "ipython",
    "version": 3
   },
   "file_extension": ".py",
   "mimetype": "text/x-python",
   "name": "python",
   "nbconvert_exporter": "python",
   "pygments_lexer": "ipython3",
   "version": "3.6.1"
  }
 },
 "nbformat": 4,
 "nbformat_minor": 2
}
