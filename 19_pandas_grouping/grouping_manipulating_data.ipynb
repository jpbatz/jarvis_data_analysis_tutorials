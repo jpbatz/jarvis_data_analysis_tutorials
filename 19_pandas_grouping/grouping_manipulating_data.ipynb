{
 "cells": [
  {
   "cell_type": "markdown",
   "metadata": {
    "collapsed": true
   },
   "source": [
    "# Welcome to the Dark Art of Coding:\n",
    "## Introduction to Python\n",
    "Grouping/aggregating data\n",
    "\n",
    "<img src='../images/dark_art_logo.600px.png' width='300' style=\"float:right\">"
   ]
  },
  {
   "cell_type": "markdown",
   "metadata": {
    "collapsed": true
   },
   "source": [
    "# Objectives\n",
    "---"
   ]
  },
  {
   "cell_type": "markdown",
   "metadata": {},
   "source": [
    "In this session, students should expect to:\n",
    "\n",
    "* Know how to group data by:\n",
    "    * Dictionary\n",
    "    * List\n",
    "    * Columns\n",
    "    * Index\n",
    "* Be able to aggregate data effectively\n",
    "* Make their own functions to use in aggregation"
   ]
  },
  {
   "cell_type": "code",
   "execution_count": 2,
   "metadata": {
    "collapsed": true
   },
   "outputs": [],
   "source": [
    "import pandas as pd\n",
    "from pandas import DataFrame         #, Series\n",
    "import numpy as np"
   ]
  },
  {
   "cell_type": "markdown",
   "metadata": {},
   "source": [
    "# Groupby series\n",
    "---"
   ]
  },
  {
   "cell_type": "markdown",
   "metadata": {
    "collapsed": true
   },
   "source": [
    "Let's start by defining a DataFrame that includes some sample data showing the messages (emails & tweets) received by diana and clark on each of two days"
   ]
  },
  {
   "cell_type": "code",
   "execution_count": 3,
   "metadata": {},
   "outputs": [
    {
     "data": {
      "text/html": [
       "<div>\n",
       "<style>\n",
       "    .dataframe thead tr:only-child th {\n",
       "        text-align: right;\n",
       "    }\n",
       "\n",
       "    .dataframe thead th {\n",
       "        text-align: left;\n",
       "    }\n",
       "\n",
       "    .dataframe tbody tr th {\n",
       "        vertical-align: top;\n",
       "    }\n",
       "</style>\n",
       "<table border=\"1\" class=\"dataframe\">\n",
       "  <thead>\n",
       "    <tr style=\"text-align: right;\">\n",
       "      <th></th>\n",
       "      <th>day1</th>\n",
       "      <th>day2</th>\n",
       "      <th>msgs</th>\n",
       "      <th>name</th>\n",
       "    </tr>\n",
       "  </thead>\n",
       "  <tbody>\n",
       "    <tr>\n",
       "      <th>0</th>\n",
       "      <td>10</td>\n",
       "      <td>14</td>\n",
       "      <td>email</td>\n",
       "      <td>diana</td>\n",
       "    </tr>\n",
       "    <tr>\n",
       "      <th>1</th>\n",
       "      <td>11</td>\n",
       "      <td>15</td>\n",
       "      <td>tweet</td>\n",
       "      <td>diana</td>\n",
       "    </tr>\n",
       "    <tr>\n",
       "      <th>2</th>\n",
       "      <td>23</td>\n",
       "      <td>16</td>\n",
       "      <td>email</td>\n",
       "      <td>clark</td>\n",
       "    </tr>\n",
       "    <tr>\n",
       "      <th>3</th>\n",
       "      <td>23</td>\n",
       "      <td>17</td>\n",
       "      <td>tweet</td>\n",
       "      <td>clark</td>\n",
       "    </tr>\n",
       "    <tr>\n",
       "      <th>4</th>\n",
       "      <td>15</td>\n",
       "      <td>21</td>\n",
       "      <td>email</td>\n",
       "      <td>diana</td>\n",
       "    </tr>\n",
       "  </tbody>\n",
       "</table>\n",
       "</div>"
      ],
      "text/plain": [
       "   day1  day2   msgs   name\n",
       "0    10    14  email  diana\n",
       "1    11    15  tweet  diana\n",
       "2    23    16  email  clark\n",
       "3    23    17  tweet  clark\n",
       "4    15    21  email  diana"
      ]
     },
     "execution_count": 3,
     "metadata": {},
     "output_type": "execute_result"
    }
   ],
   "source": [
    "df = DataFrame({'name': ['diana', 'diana', 'clark', 'clark', 'diana'],\n",
    "                'msgs': ['email', 'tweet', 'email', 'tweet', 'email'],\n",
    "                'day1': [10, 11, 23, 23, 15],\n",
    "                'day2': [14, 15, 16, 17, 21]})\n",
    "\n",
    "df"
   ]
  },
  {
   "cell_type": "markdown",
   "metadata": {
    "collapsed": true
   },
   "source": [
    "Once we have our data we can use the `.groupby()` method and section our columns based on what data they see that is similar"
   ]
  },
  {
   "cell_type": "code",
   "execution_count": 4,
   "metadata": {
    "collapsed": true
   },
   "outputs": [],
   "source": [
    "groups = df['day1'].groupby(df['name'])"
   ]
  },
  {
   "cell_type": "markdown",
   "metadata": {
    "collapsed": true
   },
   "source": [
    "In this case we have a `SeriesGroupBy` object"
   ]
  },
  {
   "cell_type": "code",
   "execution_count": 5,
   "metadata": {},
   "outputs": [
    {
     "data": {
      "text/plain": [
       "<pandas.core.groupby.SeriesGroupBy object at 0x116be65f8>"
      ]
     },
     "execution_count": 5,
     "metadata": {},
     "output_type": "execute_result"
    }
   ],
   "source": [
    "groups."
   ]
  },
  {
   "cell_type": "markdown",
   "metadata": {},
   "source": [
    "This stores the data that let's us view our data group by group"
   ]
  },
  {
   "cell_type": "code",
   "execution_count": 6,
   "metadata": {},
   "outputs": [
    {
     "name": "stdout",
     "output_type": "stream",
     "text": [
      "clark\n",
      "2    23\n",
      "3    23\n",
      "Name: day1, dtype: int64\n",
      "diana\n",
      "0    10\n",
      "1    11\n",
      "4    15\n",
      "Name: day1, dtype: int64\n"
     ]
    }
   ],
   "source": [
    "for group in groups:\n",
    "    for item in group:\n",
    "        print(item)"
   ]
  },
  {
   "cell_type": "markdown",
   "metadata": {},
   "source": [
    "Once we have our groups we can do vector math on groups individually. E.G. get every group's average or sum\n",
    "\n",
    "Groupby objects already have a few methods attached to them that will do this for us"
   ]
  },
  {
   "cell_type": "code",
   "execution_count": 10,
   "metadata": {},
   "outputs": [
    {
     "name": "stdout",
     "output_type": "stream",
     "text": [
      "name\n",
      "clark    23\n",
      "diana    12\n",
      "Name: day1, dtype: int64\n"
     ]
    }
   ],
   "source": [
    "print(groups.mean())\n"
   ]
  },
  {
   "cell_type": "code",
   "execution_count": 12,
   "metadata": {},
   "outputs": [
    {
     "name": "stdout",
     "output_type": "stream",
     "text": [
      "name\n",
      "clark    46\n",
      "diana    36\n",
      "Name: day1, dtype: int64\n"
     ]
    }
   ],
   "source": [
    "print(groups.sum())"
   ]
  },
  {
   "cell_type": "markdown",
   "metadata": {},
   "source": [
    "If we want to get multilevel Groupby object we can have it group by *multiple* columns at once by giving the `.groupby()` mthod a list of columns"
   ]
  },
  {
   "cell_type": "code",
   "execution_count": 13,
   "metadata": {},
   "outputs": [
    {
     "data": {
      "text/plain": [
       "name   msgs \n",
       "clark  email    23.0\n",
       "       tweet    23.0\n",
       "diana  email    12.5\n",
       "       tweet    11.0\n",
       "Name: day1, dtype: float64"
      ]
     },
     "execution_count": 13,
     "metadata": {},
     "output_type": "execute_result"
    }
   ],
   "source": [
    "means = df['day1'].groupby( [df['name'], df['msgs']] ).mean()\n",
    "means"
   ]
  },
  {
   "cell_type": "markdown",
   "metadata": {},
   "source": [
    "Since we have a multilevel series-like object we can use the unstack method on it to show it like a DataFrame"
   ]
  },
  {
   "cell_type": "code",
   "execution_count": 14,
   "metadata": {},
   "outputs": [
    {
     "data": {
      "text/html": [
       "<div>\n",
       "<style>\n",
       "    .dataframe thead tr:only-child th {\n",
       "        text-align: right;\n",
       "    }\n",
       "\n",
       "    .dataframe thead th {\n",
       "        text-align: left;\n",
       "    }\n",
       "\n",
       "    .dataframe tbody tr th {\n",
       "        vertical-align: top;\n",
       "    }\n",
       "</style>\n",
       "<table border=\"1\" class=\"dataframe\">\n",
       "  <thead>\n",
       "    <tr style=\"text-align: right;\">\n",
       "      <th>msgs</th>\n",
       "      <th>email</th>\n",
       "      <th>tweet</th>\n",
       "    </tr>\n",
       "    <tr>\n",
       "      <th>name</th>\n",
       "      <th></th>\n",
       "      <th></th>\n",
       "    </tr>\n",
       "  </thead>\n",
       "  <tbody>\n",
       "    <tr>\n",
       "      <th>clark</th>\n",
       "      <td>23.0</td>\n",
       "      <td>23.0</td>\n",
       "    </tr>\n",
       "    <tr>\n",
       "      <th>diana</th>\n",
       "      <td>12.5</td>\n",
       "      <td>11.0</td>\n",
       "    </tr>\n",
       "  </tbody>\n",
       "</table>\n",
       "</div>"
      ],
      "text/plain": [
       "msgs   email  tweet\n",
       "name               \n",
       "clark   23.0   23.0\n",
       "diana   12.5   11.0"
      ]
     },
     "execution_count": 14,
     "metadata": {},
     "output_type": "execute_result"
    }
   ],
   "source": [
    "means.unstack()"
   ]
  },
  {
   "cell_type": "markdown",
   "metadata": {},
   "source": [
    "If the column you're going to use is in the same DataFrame as the original column you don't need to index to the column in the `.groupby()` method and instead you can just give it a string to use to grab the column"
   ]
  },
  {
   "cell_type": "code",
   "execution_count": 15,
   "metadata": {},
   "outputs": [
    {
     "data": {
      "text/html": [
       "<div>\n",
       "<style>\n",
       "    .dataframe thead tr:only-child th {\n",
       "        text-align: right;\n",
       "    }\n",
       "\n",
       "    .dataframe thead th {\n",
       "        text-align: left;\n",
       "    }\n",
       "\n",
       "    .dataframe tbody tr th {\n",
       "        vertical-align: top;\n",
       "    }\n",
       "</style>\n",
       "<table border=\"1\" class=\"dataframe\">\n",
       "  <thead>\n",
       "    <tr style=\"text-align: right;\">\n",
       "      <th></th>\n",
       "      <th>day1</th>\n",
       "      <th>day2</th>\n",
       "    </tr>\n",
       "    <tr>\n",
       "      <th>name</th>\n",
       "      <th></th>\n",
       "      <th></th>\n",
       "    </tr>\n",
       "  </thead>\n",
       "  <tbody>\n",
       "    <tr>\n",
       "      <th>clark</th>\n",
       "      <td>23.0</td>\n",
       "      <td>16.500000</td>\n",
       "    </tr>\n",
       "    <tr>\n",
       "      <th>diana</th>\n",
       "      <td>12.0</td>\n",
       "      <td>16.666667</td>\n",
       "    </tr>\n",
       "  </tbody>\n",
       "</table>\n",
       "</div>"
      ],
      "text/plain": [
       "       day1       day2\n",
       "name                  \n",
       "clark  23.0  16.500000\n",
       "diana  12.0  16.666667"
      ]
     },
     "execution_count": 15,
     "metadata": {},
     "output_type": "execute_result"
    }
   ],
   "source": [
    "df.groupby('name').mean()"
   ]
  },
  {
   "cell_type": "code",
   "execution_count": 19,
   "metadata": {},
   "outputs": [
    {
     "data": {
      "text/html": [
       "<div>\n",
       "<style>\n",
       "    .dataframe thead tr:only-child th {\n",
       "        text-align: right;\n",
       "    }\n",
       "\n",
       "    .dataframe thead th {\n",
       "        text-align: left;\n",
       "    }\n",
       "\n",
       "    .dataframe tbody tr th {\n",
       "        vertical-align: top;\n",
       "    }\n",
       "</style>\n",
       "<table border=\"1\" class=\"dataframe\">\n",
       "  <thead>\n",
       "    <tr style=\"text-align: right;\">\n",
       "      <th></th>\n",
       "      <th></th>\n",
       "      <th>day1</th>\n",
       "      <th>day2</th>\n",
       "    </tr>\n",
       "    <tr>\n",
       "      <th>name</th>\n",
       "      <th>msgs</th>\n",
       "      <th></th>\n",
       "      <th></th>\n",
       "    </tr>\n",
       "  </thead>\n",
       "  <tbody>\n",
       "    <tr>\n",
       "      <th rowspan=\"2\" valign=\"top\">clark</th>\n",
       "      <th>email</th>\n",
       "      <td>23</td>\n",
       "      <td>16</td>\n",
       "    </tr>\n",
       "    <tr>\n",
       "      <th>tweet</th>\n",
       "      <td>23</td>\n",
       "      <td>17</td>\n",
       "    </tr>\n",
       "    <tr>\n",
       "      <th rowspan=\"2\" valign=\"top\">diana</th>\n",
       "      <th>email</th>\n",
       "      <td>15</td>\n",
       "      <td>21</td>\n",
       "    </tr>\n",
       "    <tr>\n",
       "      <th>tweet</th>\n",
       "      <td>11</td>\n",
       "      <td>15</td>\n",
       "    </tr>\n",
       "  </tbody>\n",
       "</table>\n",
       "</div>"
      ],
      "text/plain": [
       "             day1  day2\n",
       "name  msgs             \n",
       "clark email    23    16\n",
       "      tweet    23    17\n",
       "diana email    15    21\n",
       "      tweet    11    15"
      ]
     },
     "execution_count": 19,
     "metadata": {},
     "output_type": "execute_result"
    }
   ],
   "source": [
    "df.groupby(['name', 'msgs']).max()"
   ]
  },
  {
   "cell_type": "markdown",
   "metadata": {},
   "source": [
    "One thing to realize is that you don't actually need to use columns from the same DataFrame. You can use any array, series, or column that is the same length as your DataFrame or Series\n",
    "\n",
    "In this case we'll show you an example of using numpy arrays to group some of this data together"
   ]
  },
  {
   "cell_type": "code",
   "execution_count": 21,
   "metadata": {
    "collapsed": true
   },
   "outputs": [],
   "source": [
    "cities = np.array(['new york', 'baltimore', 'baltimore', 'new york', 'new york'])\n",
    "day = np.array(['mon', 'mon', 'tues', 'mon', 'tues'])"
   ]
  },
  {
   "cell_type": "code",
   "execution_count": 22,
   "metadata": {},
   "outputs": [
    {
     "data": {
      "text/plain": [
       "baltimore  mon     11.0\n",
       "           tues    23.0\n",
       "new york   mon     16.5\n",
       "           tues    15.0\n",
       "Name: day1, dtype: float64"
      ]
     },
     "execution_count": 22,
     "metadata": {},
     "output_type": "execute_result"
    }
   ],
   "source": [
    "df['day1'].groupby([cities, day]).mean()"
   ]
  },
  {
   "cell_type": "markdown",
   "metadata": {},
   "source": [
    "Another helpful groupby method is `.size()`. This method shows us how many objects fell into a given group. In this case it shows us that the clark group had 2 objects inside and the diana group had 3"
   ]
  },
  {
   "cell_type": "code",
   "execution_count": 23,
   "metadata": {},
   "outputs": [
    {
     "data": {
      "text/plain": [
       "name\n",
       "clark    2\n",
       "diana    3\n",
       "dtype: int64"
      ]
     },
     "execution_count": 23,
     "metadata": {},
     "output_type": "execute_result"
    }
   ],
   "source": [
    "df.groupby('name').size()"
   ]
  },
  {
   "cell_type": "markdown",
   "metadata": {},
   "source": [
    "Here we do the same thing but we tell it to group by multiple columns. This time it shows us how many objects were in each subgroup"
   ]
  },
  {
   "cell_type": "code",
   "execution_count": 24,
   "metadata": {},
   "outputs": [
    {
     "data": {
      "text/plain": [
       "name   msgs \n",
       "clark  email    1\n",
       "       tweet    1\n",
       "diana  email    2\n",
       "       tweet    1\n",
       "dtype: int64"
      ]
     },
     "execution_count": 24,
     "metadata": {},
     "output_type": "execute_result"
    }
   ],
   "source": [
    "df.groupby(['name', 'msgs']).size()"
   ]
  },
  {
   "cell_type": "markdown",
   "metadata": {},
   "source": [
    "If we try and iterate over a GroupBy object each loop will return a small tuple. This tuple contains the name of the group and secondarily the content in the group itself. Since it returns a tuple we can use tuple unpacking to get both the name and the group content alone in separate variables"
   ]
  },
  {
   "cell_type": "code",
   "execution_count": 26,
   "metadata": {},
   "outputs": [
    {
     "name": "stdout",
     "output_type": "stream",
     "text": [
      "email\n",
      "==============================\n",
      "   day1  day2   msgs   name\n",
      "0    10    14  email  diana\n",
      "2    23    16  email  clark\n",
      "4    15    21  email  diana\n",
      "\n"
     ]
    }
   ],
   "source": [
    "for name, group in df.groupby('msgs'):\n",
    "    if name == 'email':\n",
    "        print(name)\n",
    "        print('='*30)\n",
    "        print(group)\n",
    "        print()\n",
    "    else:\n",
    "        pass"
   ]
  },
  {
   "cell_type": "markdown",
   "metadata": {},
   "source": [
    "Since this GroupBy object is multilevel each group combination has the \"name\" slot of that first tuple broken out into a new tuple with multiple parts for each level of the group"
   ]
  },
  {
   "cell_type": "code",
   "execution_count": 28,
   "metadata": {},
   "outputs": [
    {
     "name": "stdout",
     "output_type": "stream",
     "text": [
      "clark email\n",
      "==============================\n",
      "   day1  day2   msgs   name\n",
      "2    23    16  email  clark\n",
      "\n",
      "diana email\n",
      "==============================\n",
      "   day1  day2   msgs   name\n",
      "0    10    14  email  diana\n",
      "4    15    21  email  diana\n",
      "\n"
     ]
    }
   ],
   "source": [
    "for (k1, k2), group in df.groupby(['name', 'msgs']):\n",
    "    if k2 != 'tweet':\n",
    "        \n",
    "        print(k1, k2)\n",
    "        print('='*30)\n",
    "        print(group)\n",
    "        print()"
   ]
  },
  {
   "cell_type": "markdown",
   "metadata": {},
   "source": [
    "Sometimes (especially with larger datasets) grouping across the entire DataFrame might not be what you want to do. you can do column specific grouping"
   ]
  },
  {
   "cell_type": "code",
   "execution_count": 33,
   "metadata": {},
   "outputs": [
    {
     "data": {
      "text/html": [
       "<div>\n",
       "<style>\n",
       "    .dataframe thead tr:only-child th {\n",
       "        text-align: right;\n",
       "    }\n",
       "\n",
       "    .dataframe thead th {\n",
       "        text-align: left;\n",
       "    }\n",
       "\n",
       "    .dataframe tbody tr th {\n",
       "        vertical-align: top;\n",
       "    }\n",
       "</style>\n",
       "<table border=\"1\" class=\"dataframe\">\n",
       "  <thead>\n",
       "    <tr style=\"text-align: right;\">\n",
       "      <th></th>\n",
       "      <th></th>\n",
       "      <th>day2</th>\n",
       "      <th>day1</th>\n",
       "    </tr>\n",
       "    <tr>\n",
       "      <th>name</th>\n",
       "      <th>msgs</th>\n",
       "      <th></th>\n",
       "      <th></th>\n",
       "    </tr>\n",
       "  </thead>\n",
       "  <tbody>\n",
       "    <tr>\n",
       "      <th rowspan=\"2\" valign=\"top\">clark</th>\n",
       "      <th>email</th>\n",
       "      <td>16.0</td>\n",
       "      <td>23.0</td>\n",
       "    </tr>\n",
       "    <tr>\n",
       "      <th>tweet</th>\n",
       "      <td>17.0</td>\n",
       "      <td>23.0</td>\n",
       "    </tr>\n",
       "    <tr>\n",
       "      <th rowspan=\"2\" valign=\"top\">diana</th>\n",
       "      <th>email</th>\n",
       "      <td>17.5</td>\n",
       "      <td>12.5</td>\n",
       "    </tr>\n",
       "    <tr>\n",
       "      <th>tweet</th>\n",
       "      <td>15.0</td>\n",
       "      <td>11.0</td>\n",
       "    </tr>\n",
       "  </tbody>\n",
       "</table>\n",
       "</div>"
      ],
      "text/plain": [
       "             day2  day1\n",
       "name  msgs             \n",
       "clark email  16.0  23.0\n",
       "      tweet  17.0  23.0\n",
       "diana email  17.5  12.5\n",
       "      tweet  15.0  11.0"
      ]
     },
     "execution_count": 33,
     "metadata": {},
     "output_type": "execute_result"
    }
   ],
   "source": [
    "df.groupby(['name', 'msgs'])[['day2', 'day1']].mean()\n",
    "\n",
    "# The following line does the same thing, but displays multiple columns.\n",
    "# df.groupby(['key1', 'key2'])[['day1', 'day2']].mean()"
   ]
  },
  {
   "cell_type": "code",
   "execution_count": null,
   "metadata": {
    "collapsed": true
   },
   "outputs": [],
   "source": [
    "# There are a number of other ways to implement grouping. One way is using\n",
    "# dictionaries to map columns (or rows) to values. In this case, we tie each\n",
    "# of the years to a grouping (pre vs post apocalyptic event and a third\n",
    "# category for future events)."
   ]
  },
  {
   "cell_type": "code",
   "execution_count": 34,
   "metadata": {},
   "outputs": [
    {
     "data": {
      "text/html": [
       "<div>\n",
       "<style>\n",
       "    .dataframe thead tr:only-child th {\n",
       "        text-align: right;\n",
       "    }\n",
       "\n",
       "    .dataframe thead th {\n",
       "        text-align: left;\n",
       "    }\n",
       "\n",
       "    .dataframe tbody tr th {\n",
       "        vertical-align: top;\n",
       "    }\n",
       "</style>\n",
       "<table border=\"1\" class=\"dataframe\">\n",
       "  <thead>\n",
       "    <tr style=\"text-align: right;\">\n",
       "      <th></th>\n",
       "      <th>2011</th>\n",
       "      <th>2012</th>\n",
       "      <th>2013</th>\n",
       "      <th>2014</th>\n",
       "      <th>2015</th>\n",
       "    </tr>\n",
       "  </thead>\n",
       "  <tbody>\n",
       "    <tr>\n",
       "      <th>clark</th>\n",
       "      <td>512</td>\n",
       "      <td>613</td>\n",
       "      <td>714</td>\n",
       "      <td>815</td>\n",
       "      <td>916</td>\n",
       "    </tr>\n",
       "    <tr>\n",
       "      <th>bruce</th>\n",
       "      <td>413</td>\n",
       "      <td>412</td>\n",
       "      <td>411</td>\n",
       "      <td>420</td>\n",
       "      <td>415</td>\n",
       "    </tr>\n",
       "    <tr>\n",
       "      <th>diana</th>\n",
       "      <td>501</td>\n",
       "      <td>525</td>\n",
       "      <td>535</td>\n",
       "      <td>545</td>\n",
       "      <td>555</td>\n",
       "    </tr>\n",
       "    <tr>\n",
       "      <th>kara</th>\n",
       "      <td>501</td>\n",
       "      <td>602</td>\n",
       "      <td>545</td>\n",
       "      <td>600</td>\n",
       "      <td>599</td>\n",
       "    </tr>\n",
       "    <tr>\n",
       "      <th>selina</th>\n",
       "      <td>413</td>\n",
       "      <td>603</td>\n",
       "      <td>412</td>\n",
       "      <td>599</td>\n",
       "      <td>419</td>\n",
       "    </tr>\n",
       "  </tbody>\n",
       "</table>\n",
       "</div>"
      ],
      "text/plain": [
       "        2011  2012  2013  2014  2015\n",
       "clark    512   613   714   815   916\n",
       "bruce    413   412   411   420   415\n",
       "diana    501   525   535   545   555\n",
       "kara     501   602   545   600   599\n",
       "selina   413   603   412   599   419"
      ]
     },
     "execution_count": 34,
     "metadata": {},
     "output_type": "execute_result"
    }
   ],
   "source": [
    "heroes = DataFrame([[512, 613, 714, 815, 916],\n",
    "                    [413, 412, 411, 420, 415],\n",
    "                    [501, 525, 535, 545, 555],\n",
    "                    [501, 602, 545, 600, 599],\n",
    "                    [413, 603, 412, 599, 419]],\n",
    "                    columns=[2011, 2012, 2013, 2014, 2015],\n",
    "                    index=['clark', 'bruce', 'diana', 'kara', 'selina'])\n",
    "heroes"
   ]
  },
  {
   "cell_type": "code",
   "execution_count": 35,
   "metadata": {
    "collapsed": true
   },
   "outputs": [],
   "source": [
    "mapping = {2011: 'pre',\n",
    "           2012: 'pre',\n",
    "           2013: 'post',\n",
    "           2014: 'post',\n",
    "           2015: 'post',\n",
    "           2016: 'future'}  "
   ]
  },
  {
   "cell_type": "code",
   "execution_count": 36,
   "metadata": {},
   "outputs": [
    {
     "data": {
      "text/plain": [
       "{2011: 'pre',\n",
       " 2012: 'pre',\n",
       " 2013: 'post',\n",
       " 2014: 'post',\n",
       " 2015: 'post',\n",
       " 2016: 'future'}"
      ]
     },
     "execution_count": 36,
     "metadata": {},
     "output_type": "execute_result"
    }
   ],
   "source": [
    "mapping"
   ]
  },
  {
   "cell_type": "code",
   "execution_count": null,
   "metadata": {
    "collapsed": true
   },
   "outputs": [],
   "source": [
    "# So rather than grouping by a column, we simply drop in the dictionary:\n",
    "# in this case, we explicitly identify the grouping axis to be the columns\n",
    "# by using an axis=1 argument (the default is axis=0 for grouping by rows.)"
   ]
  },
  {
   "cell_type": "code",
   "execution_count": 37,
   "metadata": {},
   "outputs": [
    {
     "data": {
      "text/html": [
       "<div>\n",
       "<style>\n",
       "    .dataframe thead tr:only-child th {\n",
       "        text-align: right;\n",
       "    }\n",
       "\n",
       "    .dataframe thead th {\n",
       "        text-align: left;\n",
       "    }\n",
       "\n",
       "    .dataframe tbody tr th {\n",
       "        vertical-align: top;\n",
       "    }\n",
       "</style>\n",
       "<table border=\"1\" class=\"dataframe\">\n",
       "  <thead>\n",
       "    <tr style=\"text-align: right;\">\n",
       "      <th></th>\n",
       "      <th>post</th>\n",
       "      <th>pre</th>\n",
       "    </tr>\n",
       "  </thead>\n",
       "  <tbody>\n",
       "    <tr>\n",
       "      <th>clark</th>\n",
       "      <td>2445</td>\n",
       "      <td>1125</td>\n",
       "    </tr>\n",
       "    <tr>\n",
       "      <th>bruce</th>\n",
       "      <td>1246</td>\n",
       "      <td>825</td>\n",
       "    </tr>\n",
       "    <tr>\n",
       "      <th>diana</th>\n",
       "      <td>1635</td>\n",
       "      <td>1026</td>\n",
       "    </tr>\n",
       "    <tr>\n",
       "      <th>kara</th>\n",
       "      <td>1744</td>\n",
       "      <td>1103</td>\n",
       "    </tr>\n",
       "    <tr>\n",
       "      <th>selina</th>\n",
       "      <td>1430</td>\n",
       "      <td>1016</td>\n",
       "    </tr>\n",
       "  </tbody>\n",
       "</table>\n",
       "</div>"
      ],
      "text/plain": [
       "        post   pre\n",
       "clark   2445  1125\n",
       "bruce   1246   825\n",
       "diana   1635  1026\n",
       "kara    1744  1103\n",
       "selina  1430  1016"
      ]
     },
     "execution_count": 37,
     "metadata": {},
     "output_type": "execute_result"
    }
   ],
   "source": [
    "by_column = heroes.groupby(mapping, axis=1)\n",
    "by_column.sum()"
   ]
  },
  {
   "cell_type": "code",
   "execution_count": null,
   "metadata": {
    "collapsed": true
   },
   "outputs": [],
   "source": [
    "# NOTE: pre/post are lexigraphically sortable, and leads to all the 'post'\n",
    "# years being displayed infront of the 'pre' years, which seems weird, so\n",
    "# we tell the function to skip the alphabetical sorting process, which\n",
    "# leaves the 'pre' group (years 2011, 2012) in front of the 'post' group (years\n",
    "# 2013, 2014, 2015)."
   ]
  },
  {
   "cell_type": "code",
   "execution_count": 40,
   "metadata": {},
   "outputs": [
    {
     "data": {
      "text/html": [
       "<div>\n",
       "<style>\n",
       "    .dataframe thead tr:only-child th {\n",
       "        text-align: right;\n",
       "    }\n",
       "\n",
       "    .dataframe thead th {\n",
       "        text-align: left;\n",
       "    }\n",
       "\n",
       "    .dataframe tbody tr th {\n",
       "        vertical-align: top;\n",
       "    }\n",
       "</style>\n",
       "<table border=\"1\" class=\"dataframe\">\n",
       "  <thead>\n",
       "    <tr style=\"text-align: right;\">\n",
       "      <th></th>\n",
       "      <th></th>\n",
       "      <th>count</th>\n",
       "      <th>mean</th>\n",
       "      <th>std</th>\n",
       "      <th>min</th>\n",
       "      <th>25%</th>\n",
       "      <th>50%</th>\n",
       "      <th>75%</th>\n",
       "      <th>max</th>\n",
       "    </tr>\n",
       "  </thead>\n",
       "  <tbody>\n",
       "    <tr>\n",
       "      <th rowspan=\"2\" valign=\"top\">pre</th>\n",
       "      <th>2011</th>\n",
       "      <td>5.0</td>\n",
       "      <td>468.0</td>\n",
       "      <td>50.408333</td>\n",
       "      <td>413.0</td>\n",
       "      <td>413.0</td>\n",
       "      <td>501.0</td>\n",
       "      <td>501.0</td>\n",
       "      <td>512.0</td>\n",
       "    </tr>\n",
       "    <tr>\n",
       "      <th>2012</th>\n",
       "      <td>5.0</td>\n",
       "      <td>551.0</td>\n",
       "      <td>85.360998</td>\n",
       "      <td>412.0</td>\n",
       "      <td>525.0</td>\n",
       "      <td>602.0</td>\n",
       "      <td>603.0</td>\n",
       "      <td>613.0</td>\n",
       "    </tr>\n",
       "    <tr>\n",
       "      <th rowspan=\"3\" valign=\"top\">post</th>\n",
       "      <th>2013</th>\n",
       "      <td>5.0</td>\n",
       "      <td>523.4</td>\n",
       "      <td>124.472085</td>\n",
       "      <td>411.0</td>\n",
       "      <td>412.0</td>\n",
       "      <td>535.0</td>\n",
       "      <td>545.0</td>\n",
       "      <td>714.0</td>\n",
       "    </tr>\n",
       "    <tr>\n",
       "      <th>2014</th>\n",
       "      <td>5.0</td>\n",
       "      <td>595.8</td>\n",
       "      <td>142.796008</td>\n",
       "      <td>420.0</td>\n",
       "      <td>545.0</td>\n",
       "      <td>599.0</td>\n",
       "      <td>600.0</td>\n",
       "      <td>815.0</td>\n",
       "    </tr>\n",
       "    <tr>\n",
       "      <th>2015</th>\n",
       "      <td>5.0</td>\n",
       "      <td>580.8</td>\n",
       "      <td>204.343339</td>\n",
       "      <td>415.0</td>\n",
       "      <td>419.0</td>\n",
       "      <td>555.0</td>\n",
       "      <td>599.0</td>\n",
       "      <td>916.0</td>\n",
       "    </tr>\n",
       "  </tbody>\n",
       "</table>\n",
       "</div>"
      ],
      "text/plain": [
       "           count   mean         std    min    25%    50%    75%    max\n",
       "pre  2011    5.0  468.0   50.408333  413.0  413.0  501.0  501.0  512.0\n",
       "     2012    5.0  551.0   85.360998  412.0  525.0  602.0  603.0  613.0\n",
       "post 2013    5.0  523.4  124.472085  411.0  412.0  535.0  545.0  714.0\n",
       "     2014    5.0  595.8  142.796008  420.0  545.0  599.0  600.0  815.0\n",
       "     2015    5.0  580.8  204.343339  415.0  419.0  555.0  599.0  916.0"
      ]
     },
     "execution_count": 40,
     "metadata": {},
     "output_type": "execute_result"
    }
   ],
   "source": [
    "by_column = heroes.groupby(mapping, axis=1, sort=False)\n",
    "by_column.describe()\n",
    "# by_dolumn.mean()\n",
    "# by_column.describe()"
   ]
  },
  {
   "cell_type": "code",
   "execution_count": null,
   "metadata": {
    "collapsed": true
   },
   "outputs": [],
   "source": [
    "# You can GroupBy the outputs of functions. it does not matter where the\n",
    "# function comes from, as long as it provides an output. For example, this\n",
    "# sample functions counts the number of vowels that show up in a superhero's\n",
    "# name."
   ]
  },
  {
   "cell_type": "code",
   "execution_count": 41,
   "metadata": {
    "collapsed": true
   },
   "outputs": [],
   "source": [
    "def count_vowels(name):\n",
    "    count = 0\n",
    "    for letter in name:\n",
    "        if letter in ['a', 'e', 'i', 'o', 'u']:\n",
    "            count += 1\n",
    "    return count"
   ]
  },
  {
   "cell_type": "code",
   "execution_count": null,
   "metadata": {
    "collapsed": true
   },
   "outputs": [],
   "source": [
    "# The following will group the heroes based on the number of vowels in their\n",
    "# name (1, 2 or 3) and then will calculate the means of their emails by group."
   ]
  },
  {
   "cell_type": "code",
   "execution_count": 45,
   "metadata": {},
   "outputs": [
    {
     "data": {
      "text/html": [
       "<div>\n",
       "<style>\n",
       "    .dataframe thead tr:only-child th {\n",
       "        text-align: right;\n",
       "    }\n",
       "\n",
       "    .dataframe thead th {\n",
       "        text-align: left;\n",
       "    }\n",
       "\n",
       "    .dataframe tbody tr th {\n",
       "        vertical-align: top;\n",
       "    }\n",
       "</style>\n",
       "<table border=\"1\" class=\"dataframe\">\n",
       "  <thead>\n",
       "    <tr>\n",
       "      <th></th>\n",
       "      <th colspan=\"8\" halign=\"left\">2011</th>\n",
       "      <th colspan=\"2\" halign=\"left\">2012</th>\n",
       "      <th>...</th>\n",
       "      <th colspan=\"2\" halign=\"left\">2014</th>\n",
       "      <th colspan=\"8\" halign=\"left\">2015</th>\n",
       "    </tr>\n",
       "    <tr>\n",
       "      <th></th>\n",
       "      <th>count</th>\n",
       "      <th>mean</th>\n",
       "      <th>std</th>\n",
       "      <th>min</th>\n",
       "      <th>25%</th>\n",
       "      <th>50%</th>\n",
       "      <th>75%</th>\n",
       "      <th>max</th>\n",
       "      <th>count</th>\n",
       "      <th>mean</th>\n",
       "      <th>...</th>\n",
       "      <th>75%</th>\n",
       "      <th>max</th>\n",
       "      <th>count</th>\n",
       "      <th>mean</th>\n",
       "      <th>std</th>\n",
       "      <th>min</th>\n",
       "      <th>25%</th>\n",
       "      <th>50%</th>\n",
       "      <th>75%</th>\n",
       "      <th>max</th>\n",
       "    </tr>\n",
       "  </thead>\n",
       "  <tbody>\n",
       "    <tr>\n",
       "      <th>1</th>\n",
       "      <td>1.0</td>\n",
       "      <td>512.0</td>\n",
       "      <td>NaN</td>\n",
       "      <td>512.0</td>\n",
       "      <td>512.0</td>\n",
       "      <td>512.0</td>\n",
       "      <td>512.0</td>\n",
       "      <td>512.0</td>\n",
       "      <td>1.0</td>\n",
       "      <td>613.0</td>\n",
       "      <td>...</td>\n",
       "      <td>815.0</td>\n",
       "      <td>815.0</td>\n",
       "      <td>1.0</td>\n",
       "      <td>916.0</td>\n",
       "      <td>NaN</td>\n",
       "      <td>916.0</td>\n",
       "      <td>916.0</td>\n",
       "      <td>916.0</td>\n",
       "      <td>916.0</td>\n",
       "      <td>916.0</td>\n",
       "    </tr>\n",
       "    <tr>\n",
       "      <th>2</th>\n",
       "      <td>2.0</td>\n",
       "      <td>457.0</td>\n",
       "      <td>62.225397</td>\n",
       "      <td>413.0</td>\n",
       "      <td>435.0</td>\n",
       "      <td>457.0</td>\n",
       "      <td>479.0</td>\n",
       "      <td>501.0</td>\n",
       "      <td>2.0</td>\n",
       "      <td>507.0</td>\n",
       "      <td>...</td>\n",
       "      <td>555.0</td>\n",
       "      <td>600.0</td>\n",
       "      <td>2.0</td>\n",
       "      <td>507.0</td>\n",
       "      <td>130.107648</td>\n",
       "      <td>415.0</td>\n",
       "      <td>461.0</td>\n",
       "      <td>507.0</td>\n",
       "      <td>553.0</td>\n",
       "      <td>599.0</td>\n",
       "    </tr>\n",
       "    <tr>\n",
       "      <th>3</th>\n",
       "      <td>2.0</td>\n",
       "      <td>457.0</td>\n",
       "      <td>62.225397</td>\n",
       "      <td>413.0</td>\n",
       "      <td>435.0</td>\n",
       "      <td>457.0</td>\n",
       "      <td>479.0</td>\n",
       "      <td>501.0</td>\n",
       "      <td>2.0</td>\n",
       "      <td>564.0</td>\n",
       "      <td>...</td>\n",
       "      <td>585.5</td>\n",
       "      <td>599.0</td>\n",
       "      <td>2.0</td>\n",
       "      <td>487.0</td>\n",
       "      <td>96.166522</td>\n",
       "      <td>419.0</td>\n",
       "      <td>453.0</td>\n",
       "      <td>487.0</td>\n",
       "      <td>521.0</td>\n",
       "      <td>555.0</td>\n",
       "    </tr>\n",
       "  </tbody>\n",
       "</table>\n",
       "<p>3 rows × 40 columns</p>\n",
       "</div>"
      ],
      "text/plain": [
       "   2011                                                       2012         \\\n",
       "  count   mean        std    min    25%    50%    75%    max count   mean   \n",
       "1   1.0  512.0        NaN  512.0  512.0  512.0  512.0  512.0   1.0  613.0   \n",
       "2   2.0  457.0  62.225397  413.0  435.0  457.0  479.0  501.0   2.0  507.0   \n",
       "3   2.0  457.0  62.225397  413.0  435.0  457.0  479.0  501.0   2.0  564.0   \n",
       "\n",
       "   ...     2014         2015                                                 \\\n",
       "   ...      75%    max count   mean         std    min    25%    50%    75%   \n",
       "1  ...    815.0  815.0   1.0  916.0         NaN  916.0  916.0  916.0  916.0   \n",
       "2  ...    555.0  600.0   2.0  507.0  130.107648  415.0  461.0  507.0  553.0   \n",
       "3  ...    585.5  599.0   2.0  487.0   96.166522  419.0  453.0  487.0  521.0   \n",
       "\n",
       "          \n",
       "     max  \n",
       "1  916.0  \n",
       "2  599.0  \n",
       "3  555.0  \n",
       "\n",
       "[3 rows x 40 columns]"
      ]
     },
     "execution_count": 45,
     "metadata": {},
     "output_type": "execute_result"
    }
   ],
   "source": [
    "heroes.groupby(count_vowels).describe()"
   ]
  },
  {
   "cell_type": "code",
   "execution_count": null,
   "metadata": {
    "collapsed": true
   },
   "outputs": [],
   "source": [
    "# What other aggregations can you do on data?\n",
    "# by_column.mean()\n",
    "# by_column.sum()\n",
    "# by_column.min()\n",
    "# by_column.max()\n",
    "# by_column.median()\n",
    "# by_column.first()\n",
    "# by_column.last()\n",
    "by_column.describe()\n",
    "\n",
    "# by_column.<tab>        # pressing the <tab> key in ipython after typing\n",
    "                         # \"by_column.' will display all the methods/attributes"
   ]
  },
  {
   "cell_type": "code",
   "execution_count": null,
   "metadata": {
    "collapsed": true
   },
   "outputs": [],
   "source": [
    "# it is possible to apply any aggregation function to your data. for example\n",
    "# if we want to know how far off from the max, any given mean is, we can\n",
    "# calculate that:"
   ]
  },
  {
   "cell_type": "code",
   "execution_count": 46,
   "metadata": {},
   "outputs": [
    {
     "data": {
      "text/plain": [
       "name\n",
       "clark    0\n",
       "diana    3\n",
       "Name: day1, dtype: int64"
      ]
     },
     "execution_count": 46,
     "metadata": {},
     "output_type": "execute_result"
    }
   ],
   "source": [
    "def max_mean_diff(arr):\n",
    "    return arr.max() - arr.mean()\n",
    "\n",
    "groups.agg(max_mean_diff)"
   ]
  },
  {
   "cell_type": "code",
   "execution_count": null,
   "metadata": {
    "collapsed": true
   },
   "outputs": [],
   "source": [
    "# for the next bit, let's look at a slightly more sophisticated dataset.\n",
    "# this is data that I generated randomly.\n",
    "# we start by reading in the data\n",
    "# then we perform a calculation to determine the relative pct between\n",
    "# the student's gpa and change in the gpa"
   ]
  },
  {
   "cell_type": "code",
   "execution_count": 48,
   "metadata": {},
   "outputs": [
    {
     "data": {
      "text/html": [
       "<div>\n",
       "<style>\n",
       "    .dataframe thead tr:only-child th {\n",
       "        text-align: right;\n",
       "    }\n",
       "\n",
       "    .dataframe thead th {\n",
       "        text-align: left;\n",
       "    }\n",
       "\n",
       "    .dataframe tbody tr th {\n",
       "        vertical-align: top;\n",
       "    }\n",
       "</style>\n",
       "<table border=\"1\" class=\"dataframe\">\n",
       "  <thead>\n",
       "    <tr style=\"text-align: right;\">\n",
       "      <th></th>\n",
       "      <th>gpa</th>\n",
       "      <th>gpa_change</th>\n",
       "      <th>gender</th>\n",
       "      <th>athlete</th>\n",
       "      <th>day</th>\n",
       "      <th>period</th>\n",
       "      <th>duration</th>\n",
       "    </tr>\n",
       "  </thead>\n",
       "  <tbody>\n",
       "    <tr>\n",
       "      <th>0</th>\n",
       "      <td>75</td>\n",
       "      <td>0.939395</td>\n",
       "      <td>Female</td>\n",
       "      <td>no</td>\n",
       "      <td>Tue</td>\n",
       "      <td>evening</td>\n",
       "      <td>2</td>\n",
       "    </tr>\n",
       "    <tr>\n",
       "      <th>1</th>\n",
       "      <td>55</td>\n",
       "      <td>0.106715</td>\n",
       "      <td>Male</td>\n",
       "      <td>yes</td>\n",
       "      <td>Fri</td>\n",
       "      <td>morning</td>\n",
       "      <td>1</td>\n",
       "    </tr>\n",
       "    <tr>\n",
       "      <th>2</th>\n",
       "      <td>73</td>\n",
       "      <td>1.309814</td>\n",
       "      <td>Male</td>\n",
       "      <td>yes</td>\n",
       "      <td>Sat</td>\n",
       "      <td>morning</td>\n",
       "      <td>3</td>\n",
       "    </tr>\n",
       "    <tr>\n",
       "      <th>3</th>\n",
       "      <td>82</td>\n",
       "      <td>1.702488</td>\n",
       "      <td>Male</td>\n",
       "      <td>yes</td>\n",
       "      <td>Fri</td>\n",
       "      <td>afternoon</td>\n",
       "      <td>3</td>\n",
       "    </tr>\n",
       "    <tr>\n",
       "      <th>4</th>\n",
       "      <td>56</td>\n",
       "      <td>2.576343</td>\n",
       "      <td>Male</td>\n",
       "      <td>yes</td>\n",
       "      <td>Tue</td>\n",
       "      <td>morning</td>\n",
       "      <td>2</td>\n",
       "    </tr>\n",
       "    <tr>\n",
       "      <th>5</th>\n",
       "      <td>76</td>\n",
       "      <td>3.610408</td>\n",
       "      <td>Male</td>\n",
       "      <td>yes</td>\n",
       "      <td>Thu</td>\n",
       "      <td>afternoon</td>\n",
       "      <td>3</td>\n",
       "    </tr>\n",
       "    <tr>\n",
       "      <th>6</th>\n",
       "      <td>90</td>\n",
       "      <td>3.919340</td>\n",
       "      <td>Male</td>\n",
       "      <td>yes</td>\n",
       "      <td>Mon</td>\n",
       "      <td>afternoon</td>\n",
       "      <td>2</td>\n",
       "    </tr>\n",
       "    <tr>\n",
       "      <th>7</th>\n",
       "      <td>62</td>\n",
       "      <td>0.728715</td>\n",
       "      <td>Female</td>\n",
       "      <td>yes</td>\n",
       "      <td>Tue</td>\n",
       "      <td>evening</td>\n",
       "      <td>1</td>\n",
       "    </tr>\n",
       "    <tr>\n",
       "      <th>8</th>\n",
       "      <td>78</td>\n",
       "      <td>0.832815</td>\n",
       "      <td>Male</td>\n",
       "      <td>no</td>\n",
       "      <td>Mon</td>\n",
       "      <td>morning</td>\n",
       "      <td>2</td>\n",
       "    </tr>\n",
       "    <tr>\n",
       "      <th>9</th>\n",
       "      <td>57</td>\n",
       "      <td>0.654000</td>\n",
       "      <td>Female</td>\n",
       "      <td>yes</td>\n",
       "      <td>Mon</td>\n",
       "      <td>evening</td>\n",
       "      <td>3</td>\n",
       "    </tr>\n",
       "  </tbody>\n",
       "</table>\n",
       "</div>"
      ],
      "text/plain": [
       "   gpa  gpa_change  gender athlete  day     period  duration\n",
       "0   75    0.939395  Female      no  Tue    evening         2\n",
       "1   55    0.106715    Male     yes  Fri    morning         1\n",
       "2   73    1.309814    Male     yes  Sat    morning         3\n",
       "3   82    1.702488    Male     yes  Fri  afternoon         3\n",
       "4   56    2.576343    Male     yes  Tue    morning         2\n",
       "5   76    3.610408    Male     yes  Thu  afternoon         3\n",
       "6   90    3.919340    Male     yes  Mon  afternoon         2\n",
       "7   62    0.728715  Female     yes  Tue    evening         1\n",
       "8   78    0.832815    Male      no  Mon    morning         2\n",
       "9   57    0.654000  Female     yes  Mon    evening         3"
      ]
     },
     "execution_count": 48,
     "metadata": {},
     "output_type": "execute_result"
    }
   ],
   "source": [
    "gpas = pd.read_csv('gpa_short.csv')\n",
    "gpas"
   ]
  },
  {
   "cell_type": "code",
   "execution_count": 49,
   "metadata": {},
   "outputs": [
    {
     "data": {
      "text/html": [
       "<div>\n",
       "<style>\n",
       "    .dataframe thead tr:only-child th {\n",
       "        text-align: right;\n",
       "    }\n",
       "\n",
       "    .dataframe thead th {\n",
       "        text-align: left;\n",
       "    }\n",
       "\n",
       "    .dataframe tbody tr th {\n",
       "        vertical-align: top;\n",
       "    }\n",
       "</style>\n",
       "<table border=\"1\" class=\"dataframe\">\n",
       "  <thead>\n",
       "    <tr style=\"text-align: right;\">\n",
       "      <th></th>\n",
       "      <th>gpa</th>\n",
       "      <th>gpa_change</th>\n",
       "      <th>gender</th>\n",
       "      <th>athlete</th>\n",
       "      <th>day</th>\n",
       "      <th>period</th>\n",
       "      <th>duration</th>\n",
       "      <th>gpa_pct</th>\n",
       "    </tr>\n",
       "  </thead>\n",
       "  <tbody>\n",
       "    <tr>\n",
       "      <th>0</th>\n",
       "      <td>75</td>\n",
       "      <td>0.939395</td>\n",
       "      <td>Female</td>\n",
       "      <td>no</td>\n",
       "      <td>Tue</td>\n",
       "      <td>evening</td>\n",
       "      <td>2</td>\n",
       "      <td>0.012525</td>\n",
       "    </tr>\n",
       "    <tr>\n",
       "      <th>1</th>\n",
       "      <td>55</td>\n",
       "      <td>0.106715</td>\n",
       "      <td>Male</td>\n",
       "      <td>yes</td>\n",
       "      <td>Fri</td>\n",
       "      <td>morning</td>\n",
       "      <td>1</td>\n",
       "      <td>0.001940</td>\n",
       "    </tr>\n",
       "    <tr>\n",
       "      <th>2</th>\n",
       "      <td>73</td>\n",
       "      <td>1.309814</td>\n",
       "      <td>Male</td>\n",
       "      <td>yes</td>\n",
       "      <td>Sat</td>\n",
       "      <td>morning</td>\n",
       "      <td>3</td>\n",
       "      <td>0.017943</td>\n",
       "    </tr>\n",
       "    <tr>\n",
       "      <th>3</th>\n",
       "      <td>82</td>\n",
       "      <td>1.702488</td>\n",
       "      <td>Male</td>\n",
       "      <td>yes</td>\n",
       "      <td>Fri</td>\n",
       "      <td>afternoon</td>\n",
       "      <td>3</td>\n",
       "      <td>0.020762</td>\n",
       "    </tr>\n",
       "    <tr>\n",
       "      <th>4</th>\n",
       "      <td>56</td>\n",
       "      <td>2.576343</td>\n",
       "      <td>Male</td>\n",
       "      <td>yes</td>\n",
       "      <td>Tue</td>\n",
       "      <td>morning</td>\n",
       "      <td>2</td>\n",
       "      <td>0.046006</td>\n",
       "    </tr>\n",
       "    <tr>\n",
       "      <th>5</th>\n",
       "      <td>76</td>\n",
       "      <td>3.610408</td>\n",
       "      <td>Male</td>\n",
       "      <td>yes</td>\n",
       "      <td>Thu</td>\n",
       "      <td>afternoon</td>\n",
       "      <td>3</td>\n",
       "      <td>0.047505</td>\n",
       "    </tr>\n",
       "    <tr>\n",
       "      <th>6</th>\n",
       "      <td>90</td>\n",
       "      <td>3.919340</td>\n",
       "      <td>Male</td>\n",
       "      <td>yes</td>\n",
       "      <td>Mon</td>\n",
       "      <td>afternoon</td>\n",
       "      <td>2</td>\n",
       "      <td>0.043548</td>\n",
       "    </tr>\n",
       "    <tr>\n",
       "      <th>7</th>\n",
       "      <td>62</td>\n",
       "      <td>0.728715</td>\n",
       "      <td>Female</td>\n",
       "      <td>yes</td>\n",
       "      <td>Tue</td>\n",
       "      <td>evening</td>\n",
       "      <td>1</td>\n",
       "      <td>0.011753</td>\n",
       "    </tr>\n",
       "    <tr>\n",
       "      <th>8</th>\n",
       "      <td>78</td>\n",
       "      <td>0.832815</td>\n",
       "      <td>Male</td>\n",
       "      <td>no</td>\n",
       "      <td>Mon</td>\n",
       "      <td>morning</td>\n",
       "      <td>2</td>\n",
       "      <td>0.010677</td>\n",
       "    </tr>\n",
       "    <tr>\n",
       "      <th>9</th>\n",
       "      <td>57</td>\n",
       "      <td>0.654000</td>\n",
       "      <td>Female</td>\n",
       "      <td>yes</td>\n",
       "      <td>Mon</td>\n",
       "      <td>evening</td>\n",
       "      <td>3</td>\n",
       "      <td>0.011474</td>\n",
       "    </tr>\n",
       "  </tbody>\n",
       "</table>\n",
       "</div>"
      ],
      "text/plain": [
       "   gpa  gpa_change  gender athlete  day     period  duration   gpa_pct\n",
       "0   75    0.939395  Female      no  Tue    evening         2  0.012525\n",
       "1   55    0.106715    Male     yes  Fri    morning         1  0.001940\n",
       "2   73    1.309814    Male     yes  Sat    morning         3  0.017943\n",
       "3   82    1.702488    Male     yes  Fri  afternoon         3  0.020762\n",
       "4   56    2.576343    Male     yes  Tue    morning         2  0.046006\n",
       "5   76    3.610408    Male     yes  Thu  afternoon         3  0.047505\n",
       "6   90    3.919340    Male     yes  Mon  afternoon         2  0.043548\n",
       "7   62    0.728715  Female     yes  Tue    evening         1  0.011753\n",
       "8   78    0.832815    Male      no  Mon    morning         2  0.010677\n",
       "9   57    0.654000  Female     yes  Mon    evening         3  0.011474"
      ]
     },
     "execution_count": 49,
     "metadata": {},
     "output_type": "execute_result"
    }
   ],
   "source": [
    "gpas['gpa_pct'] = gpas['gpa_change'] / gpas['gpa']\n",
    "gpas"
   ]
  },
  {
   "cell_type": "code",
   "execution_count": null,
   "metadata": {
    "collapsed": true
   },
   "outputs": [],
   "source": [
    "# from there, we group by the gender and the athlete statues."
   ]
  },
  {
   "cell_type": "code",
   "execution_count": 51,
   "metadata": {},
   "outputs": [
    {
     "name": "stdout",
     "output_type": "stream",
     "text": [
      "(('Female', 'no'),    gpa  gpa_change  gender athlete  day   period  duration   gpa_pct\n",
      "0   75    0.939395  Female      no  Tue  evening         2  0.012525)\n",
      "(('Female', 'yes'),    gpa  gpa_change  gender athlete  day   period  duration   gpa_pct\n",
      "7   62    0.728715  Female     yes  Tue  evening         1  0.011753\n",
      "9   57    0.654000  Female     yes  Mon  evening         3  0.011474)\n",
      "(('Male', 'no'),    gpa  gpa_change gender athlete  day   period  duration   gpa_pct\n",
      "8   78    0.832815   Male      no  Mon  morning         2  0.010677)\n",
      "(('Male', 'yes'),    gpa  gpa_change gender athlete  day     period  duration   gpa_pct\n",
      "1   55    0.106715   Male     yes  Fri    morning         1  0.001940\n",
      "2   73    1.309814   Male     yes  Sat    morning         3  0.017943\n",
      "3   82    1.702488   Male     yes  Fri  afternoon         3  0.020762\n",
      "4   56    2.576343   Male     yes  Tue    morning         2  0.046006\n",
      "5   76    3.610408   Male     yes  Thu  afternoon         3  0.047505\n",
      "6   90    3.919340   Male     yes  Mon  afternoon         2  0.043548)\n"
     ]
    }
   ],
   "source": [
    "groups = gpas.groupby(['gender', 'athlete'])\n",
    "for grp in groups:\n",
    "    print(grp)"
   ]
  },
  {
   "cell_type": "code",
   "execution_count": null,
   "metadata": {
    "collapsed": true
   },
   "outputs": [],
   "source": [
    "# then we pull out just the gpa_pct column in reference to the groupings"
   ]
  },
  {
   "cell_type": "code",
   "execution_count": 52,
   "metadata": {},
   "outputs": [
    {
     "data": {
      "text/plain": [
       "<pandas.core.groupby.SeriesGroupBy object at 0x116ecc860>"
      ]
     },
     "execution_count": 52,
     "metadata": {},
     "output_type": "execute_result"
    }
   ],
   "source": [
    "groups_pct = groups['gpa_pct']\n",
    "groups_pct"
   ]
  },
  {
   "cell_type": "code",
   "execution_count": null,
   "metadata": {
    "collapsed": true
   },
   "outputs": [],
   "source": [
    "# at this point we can apply some functions to this data. Notice the\n",
    "# use/non-use of quotes. for built-in functions, you need to use the\n",
    "# quotations. For funtions that you have defined in the current namespace\n",
    "# you can get away with not using the quotes:"
   ]
  },
  {
   "cell_type": "code",
   "execution_count": 53,
   "metadata": {},
   "outputs": [
    {
     "data": {
      "text/html": [
       "<div>\n",
       "<style>\n",
       "    .dataframe thead tr:only-child th {\n",
       "        text-align: right;\n",
       "    }\n",
       "\n",
       "    .dataframe thead th {\n",
       "        text-align: left;\n",
       "    }\n",
       "\n",
       "    .dataframe tbody tr th {\n",
       "        vertical-align: top;\n",
       "    }\n",
       "</style>\n",
       "<table border=\"1\" class=\"dataframe\">\n",
       "  <thead>\n",
       "    <tr style=\"text-align: right;\">\n",
       "      <th></th>\n",
       "      <th></th>\n",
       "      <th>max</th>\n",
       "      <th>mean</th>\n",
       "      <th>max_mean_diff</th>\n",
       "    </tr>\n",
       "    <tr>\n",
       "      <th>gender</th>\n",
       "      <th>athlete</th>\n",
       "      <th></th>\n",
       "      <th></th>\n",
       "      <th></th>\n",
       "    </tr>\n",
       "  </thead>\n",
       "  <tbody>\n",
       "    <tr>\n",
       "      <th rowspan=\"2\" valign=\"top\">Female</th>\n",
       "      <th>no</th>\n",
       "      <td>0.012525</td>\n",
       "      <td>0.012525</td>\n",
       "      <td>0.000000</td>\n",
       "    </tr>\n",
       "    <tr>\n",
       "      <th>yes</th>\n",
       "      <td>0.011753</td>\n",
       "      <td>0.011614</td>\n",
       "      <td>0.000140</td>\n",
       "    </tr>\n",
       "    <tr>\n",
       "      <th rowspan=\"2\" valign=\"top\">Male</th>\n",
       "      <th>no</th>\n",
       "      <td>0.010677</td>\n",
       "      <td>0.010677</td>\n",
       "      <td>0.000000</td>\n",
       "    </tr>\n",
       "    <tr>\n",
       "      <th>yes</th>\n",
       "      <td>0.047505</td>\n",
       "      <td>0.029617</td>\n",
       "      <td>0.017888</td>\n",
       "    </tr>\n",
       "  </tbody>\n",
       "</table>\n",
       "</div>"
      ],
      "text/plain": [
       "                     max      mean  max_mean_diff\n",
       "gender athlete                                   \n",
       "Female no       0.012525  0.012525       0.000000\n",
       "       yes      0.011753  0.011614       0.000140\n",
       "Male   no       0.010677  0.010677       0.000000\n",
       "       yes      0.047505  0.029617       0.017888"
      ]
     },
     "execution_count": 53,
     "metadata": {},
     "output_type": "execute_result"
    }
   ],
   "source": [
    "groups_pct.agg(['max', 'mean', max_mean_diff])"
   ]
  },
  {
   "cell_type": "code",
   "execution_count": null,
   "metadata": {
    "collapsed": true
   },
   "outputs": [],
   "source": [
    "# there are multiple ways to slice the data into columns that you want and\n",
    "# then aggregate the data in those columns. here is another method, where\n",
    "# we choose several columns and then apply four functions against each \n",
    "# of the columns:"
   ]
  },
  {
   "cell_type": "code",
   "execution_count": 54,
   "metadata": {},
   "outputs": [
    {
     "data": {
      "text/html": [
       "<div>\n",
       "<style>\n",
       "    .dataframe thead tr:only-child th {\n",
       "        text-align: right;\n",
       "    }\n",
       "\n",
       "    .dataframe thead th {\n",
       "        text-align: left;\n",
       "    }\n",
       "\n",
       "    .dataframe tbody tr th {\n",
       "        vertical-align: top;\n",
       "    }\n",
       "</style>\n",
       "<table border=\"1\" class=\"dataframe\">\n",
       "  <thead>\n",
       "    <tr>\n",
       "      <th></th>\n",
       "      <th></th>\n",
       "      <th colspan=\"4\" halign=\"left\">gpa_pct</th>\n",
       "      <th colspan=\"4\" halign=\"left\">gpa</th>\n",
       "    </tr>\n",
       "    <tr>\n",
       "      <th></th>\n",
       "      <th></th>\n",
       "      <th>median</th>\n",
       "      <th>min</th>\n",
       "      <th>max</th>\n",
       "      <th>count</th>\n",
       "      <th>median</th>\n",
       "      <th>min</th>\n",
       "      <th>max</th>\n",
       "      <th>count</th>\n",
       "    </tr>\n",
       "    <tr>\n",
       "      <th>gender</th>\n",
       "      <th>athlete</th>\n",
       "      <th></th>\n",
       "      <th></th>\n",
       "      <th></th>\n",
       "      <th></th>\n",
       "      <th></th>\n",
       "      <th></th>\n",
       "      <th></th>\n",
       "      <th></th>\n",
       "    </tr>\n",
       "  </thead>\n",
       "  <tbody>\n",
       "    <tr>\n",
       "      <th rowspan=\"2\" valign=\"top\">Female</th>\n",
       "      <th>no</th>\n",
       "      <td>0.012525</td>\n",
       "      <td>0.012525</td>\n",
       "      <td>0.012525</td>\n",
       "      <td>1</td>\n",
       "      <td>75.0</td>\n",
       "      <td>75</td>\n",
       "      <td>75</td>\n",
       "      <td>1</td>\n",
       "    </tr>\n",
       "    <tr>\n",
       "      <th>yes</th>\n",
       "      <td>0.011614</td>\n",
       "      <td>0.011474</td>\n",
       "      <td>0.011753</td>\n",
       "      <td>2</td>\n",
       "      <td>59.5</td>\n",
       "      <td>57</td>\n",
       "      <td>62</td>\n",
       "      <td>2</td>\n",
       "    </tr>\n",
       "    <tr>\n",
       "      <th rowspan=\"2\" valign=\"top\">Male</th>\n",
       "      <th>no</th>\n",
       "      <td>0.010677</td>\n",
       "      <td>0.010677</td>\n",
       "      <td>0.010677</td>\n",
       "      <td>1</td>\n",
       "      <td>78.0</td>\n",
       "      <td>78</td>\n",
       "      <td>78</td>\n",
       "      <td>1</td>\n",
       "    </tr>\n",
       "    <tr>\n",
       "      <th>yes</th>\n",
       "      <td>0.032155</td>\n",
       "      <td>0.001940</td>\n",
       "      <td>0.047505</td>\n",
       "      <td>6</td>\n",
       "      <td>74.5</td>\n",
       "      <td>55</td>\n",
       "      <td>90</td>\n",
       "      <td>6</td>\n",
       "    </tr>\n",
       "  </tbody>\n",
       "</table>\n",
       "</div>"
      ],
      "text/plain": [
       "                 gpa_pct                              gpa              \n",
       "                  median       min       max count median min max count\n",
       "gender athlete                                                         \n",
       "Female no       0.012525  0.012525  0.012525     1   75.0  75  75     1\n",
       "       yes      0.011614  0.011474  0.011753     2   59.5  57  62     2\n",
       "Male   no       0.010677  0.010677  0.010677     1   78.0  78  78     1\n",
       "       yes      0.032155  0.001940  0.047505     6   74.5  55  90     6"
      ]
     },
     "execution_count": 54,
     "metadata": {},
     "output_type": "execute_result"
    }
   ],
   "source": [
    "functions = ['median', 'min', 'max', 'count']\n",
    "result = groups['gpa_pct', 'gpa'].agg(functions)\n",
    "result"
   ]
  },
  {
   "cell_type": "code",
   "execution_count": null,
   "metadata": {
    "collapsed": true
   },
   "outputs": [],
   "source": [
    "# if we want to focus on just a single grouping at a time, we can select\n",
    "# for that grouping via dictionary-like indexing."
   ]
  },
  {
   "cell_type": "code",
   "execution_count": 55,
   "metadata": {},
   "outputs": [
    {
     "data": {
      "text/html": [
       "<div>\n",
       "<style>\n",
       "    .dataframe thead tr:only-child th {\n",
       "        text-align: right;\n",
       "    }\n",
       "\n",
       "    .dataframe thead th {\n",
       "        text-align: left;\n",
       "    }\n",
       "\n",
       "    .dataframe tbody tr th {\n",
       "        vertical-align: top;\n",
       "    }\n",
       "</style>\n",
       "<table border=\"1\" class=\"dataframe\">\n",
       "  <thead>\n",
       "    <tr style=\"text-align: right;\">\n",
       "      <th></th>\n",
       "      <th></th>\n",
       "      <th>median</th>\n",
       "      <th>min</th>\n",
       "      <th>max</th>\n",
       "      <th>count</th>\n",
       "    </tr>\n",
       "    <tr>\n",
       "      <th>gender</th>\n",
       "      <th>athlete</th>\n",
       "      <th></th>\n",
       "      <th></th>\n",
       "      <th></th>\n",
       "      <th></th>\n",
       "    </tr>\n",
       "  </thead>\n",
       "  <tbody>\n",
       "    <tr>\n",
       "      <th rowspan=\"2\" valign=\"top\">Female</th>\n",
       "      <th>no</th>\n",
       "      <td>0.012525</td>\n",
       "      <td>0.012525</td>\n",
       "      <td>0.012525</td>\n",
       "      <td>1</td>\n",
       "    </tr>\n",
       "    <tr>\n",
       "      <th>yes</th>\n",
       "      <td>0.011614</td>\n",
       "      <td>0.011474</td>\n",
       "      <td>0.011753</td>\n",
       "      <td>2</td>\n",
       "    </tr>\n",
       "    <tr>\n",
       "      <th rowspan=\"2\" valign=\"top\">Male</th>\n",
       "      <th>no</th>\n",
       "      <td>0.010677</td>\n",
       "      <td>0.010677</td>\n",
       "      <td>0.010677</td>\n",
       "      <td>1</td>\n",
       "    </tr>\n",
       "    <tr>\n",
       "      <th>yes</th>\n",
       "      <td>0.032155</td>\n",
       "      <td>0.001940</td>\n",
       "      <td>0.047505</td>\n",
       "      <td>6</td>\n",
       "    </tr>\n",
       "  </tbody>\n",
       "</table>\n",
       "</div>"
      ],
      "text/plain": [
       "                  median       min       max  count\n",
       "gender athlete                                     \n",
       "Female no       0.012525  0.012525  0.012525      1\n",
       "       yes      0.011614  0.011474  0.011753      2\n",
       "Male   no       0.010677  0.010677  0.010677      1\n",
       "       yes      0.032155  0.001940  0.047505      6"
      ]
     },
     "execution_count": 55,
     "metadata": {},
     "output_type": "execute_result"
    }
   ],
   "source": [
    "result['gpa_pct']"
   ]
  },
  {
   "cell_type": "code",
   "execution_count": null,
   "metadata": {
    "collapsed": true
   },
   "outputs": [],
   "source": [
    "# There is a way to map certain functions to only certain columns by using a dictionary to perform the mapping:"
   ]
  },
  {
   "cell_type": "code",
   "execution_count": 56,
   "metadata": {},
   "outputs": [
    {
     "data": {
      "text/html": [
       "<div>\n",
       "<style>\n",
       "    .dataframe thead tr:only-child th {\n",
       "        text-align: right;\n",
       "    }\n",
       "\n",
       "    .dataframe thead th {\n",
       "        text-align: left;\n",
       "    }\n",
       "\n",
       "    .dataframe tbody tr th {\n",
       "        vertical-align: top;\n",
       "    }\n",
       "</style>\n",
       "<table border=\"1\" class=\"dataframe\">\n",
       "  <thead>\n",
       "    <tr style=\"text-align: right;\">\n",
       "      <th></th>\n",
       "      <th></th>\n",
       "      <th>gpa_change</th>\n",
       "      <th>duration</th>\n",
       "    </tr>\n",
       "    <tr>\n",
       "      <th>gender</th>\n",
       "      <th>athlete</th>\n",
       "      <th></th>\n",
       "      <th></th>\n",
       "    </tr>\n",
       "  </thead>\n",
       "  <tbody>\n",
       "    <tr>\n",
       "      <th rowspan=\"2\" valign=\"top\">Female</th>\n",
       "      <th>no</th>\n",
       "      <td>0.939395</td>\n",
       "      <td>2.000000</td>\n",
       "    </tr>\n",
       "    <tr>\n",
       "      <th>yes</th>\n",
       "      <td>0.654000</td>\n",
       "      <td>2.000000</td>\n",
       "    </tr>\n",
       "    <tr>\n",
       "      <th rowspan=\"2\" valign=\"top\">Male</th>\n",
       "      <th>no</th>\n",
       "      <td>0.832815</td>\n",
       "      <td>2.000000</td>\n",
       "    </tr>\n",
       "    <tr>\n",
       "      <th>yes</th>\n",
       "      <td>0.106715</td>\n",
       "      <td>2.333333</td>\n",
       "    </tr>\n",
       "  </tbody>\n",
       "</table>\n",
       "</div>"
      ],
      "text/plain": [
       "                gpa_change  duration\n",
       "gender athlete                      \n",
       "Female no         0.939395  2.000000\n",
       "       yes        0.654000  2.000000\n",
       "Male   no         0.832815  2.000000\n",
       "       yes        0.106715  2.333333"
      ]
     },
     "execution_count": 56,
     "metadata": {},
     "output_type": "execute_result"
    }
   ],
   "source": [
    "mapping = {'gpa_change': 'min', 'duration': 'mean'}\n",
    "groups.agg(mapping)"
   ]
  },
  {
   "cell_type": "code",
   "execution_count": null,
   "metadata": {
    "collapsed": true
   },
   "outputs": [],
   "source": [
    "# This can get pretty sophisticated:"
   ]
  },
  {
   "cell_type": "code",
   "execution_count": 57,
   "metadata": {},
   "outputs": [
    {
     "data": {
      "text/html": [
       "<div>\n",
       "<style>\n",
       "    .dataframe thead tr:only-child th {\n",
       "        text-align: right;\n",
       "    }\n",
       "\n",
       "    .dataframe thead th {\n",
       "        text-align: left;\n",
       "    }\n",
       "\n",
       "    .dataframe tbody tr th {\n",
       "        vertical-align: top;\n",
       "    }\n",
       "</style>\n",
       "<table border=\"1\" class=\"dataframe\">\n",
       "  <thead>\n",
       "    <tr>\n",
       "      <th></th>\n",
       "      <th></th>\n",
       "      <th colspan=\"3\" halign=\"left\">gpa_change</th>\n",
       "      <th>duration</th>\n",
       "    </tr>\n",
       "    <tr>\n",
       "      <th></th>\n",
       "      <th></th>\n",
       "      <th>min</th>\n",
       "      <th>max</th>\n",
       "      <th>median</th>\n",
       "      <th>mean</th>\n",
       "    </tr>\n",
       "    <tr>\n",
       "      <th>gender</th>\n",
       "      <th>athlete</th>\n",
       "      <th></th>\n",
       "      <th></th>\n",
       "      <th></th>\n",
       "      <th></th>\n",
       "    </tr>\n",
       "  </thead>\n",
       "  <tbody>\n",
       "    <tr>\n",
       "      <th rowspan=\"2\" valign=\"top\">Female</th>\n",
       "      <th>no</th>\n",
       "      <td>0.939395</td>\n",
       "      <td>0.939395</td>\n",
       "      <td>0.939395</td>\n",
       "      <td>2.000000</td>\n",
       "    </tr>\n",
       "    <tr>\n",
       "      <th>yes</th>\n",
       "      <td>0.654000</td>\n",
       "      <td>0.728715</td>\n",
       "      <td>0.691357</td>\n",
       "      <td>2.000000</td>\n",
       "    </tr>\n",
       "    <tr>\n",
       "      <th rowspan=\"2\" valign=\"top\">Male</th>\n",
       "      <th>no</th>\n",
       "      <td>0.832815</td>\n",
       "      <td>0.832815</td>\n",
       "      <td>0.832815</td>\n",
       "      <td>2.000000</td>\n",
       "    </tr>\n",
       "    <tr>\n",
       "      <th>yes</th>\n",
       "      <td>0.106715</td>\n",
       "      <td>3.919340</td>\n",
       "      <td>2.139416</td>\n",
       "      <td>2.333333</td>\n",
       "    </tr>\n",
       "  </tbody>\n",
       "</table>\n",
       "</div>"
      ],
      "text/plain": [
       "               gpa_change                      duration\n",
       "                      min       max    median      mean\n",
       "gender athlete                                         \n",
       "Female no        0.939395  0.939395  0.939395  2.000000\n",
       "       yes       0.654000  0.728715  0.691357  2.000000\n",
       "Male   no        0.832815  0.832815  0.832815  2.000000\n",
       "       yes       0.106715  3.919340  2.139416  2.333333"
      ]
     },
     "execution_count": 57,
     "metadata": {},
     "output_type": "execute_result"
    }
   ],
   "source": [
    "mapping2 = {'gpa_change': ['min', 'max', 'median'], 'duration': 'mean'}\n",
    "groups.agg(mapping2)"
   ]
  },
  {
   "cell_type": "code",
   "execution_count": null,
   "metadata": {
    "collapsed": true
   },
   "outputs": [],
   "source": [
    "# sometimes, we want to perform aggregation, but we want to retain the\n",
    "# overall shape of the data, much like we did using the as_index=False argument\n",
    "# this is where the transform method comes in. Let's look at two attempts\n",
    "# to examine the mean for our heroes DataFrame"
   ]
  },
  {
   "cell_type": "code",
   "execution_count": 60,
   "metadata": {
    "collapsed": true
   },
   "outputs": [],
   "source": [
    "k = ['cat_a', 'cat_b', 'cat_a', 'cat_b', 'cat_a']"
   ]
  },
  {
   "cell_type": "code",
   "execution_count": 61,
   "metadata": {},
   "outputs": [
    {
     "data": {
      "text/html": [
       "<div>\n",
       "<style>\n",
       "    .dataframe thead tr:only-child th {\n",
       "        text-align: right;\n",
       "    }\n",
       "\n",
       "    .dataframe thead th {\n",
       "        text-align: left;\n",
       "    }\n",
       "\n",
       "    .dataframe tbody tr th {\n",
       "        vertical-align: top;\n",
       "    }\n",
       "</style>\n",
       "<table border=\"1\" class=\"dataframe\">\n",
       "  <thead>\n",
       "    <tr style=\"text-align: right;\">\n",
       "      <th></th>\n",
       "      <th>2011</th>\n",
       "      <th>2012</th>\n",
       "      <th>2013</th>\n",
       "      <th>2014</th>\n",
       "      <th>2015</th>\n",
       "    </tr>\n",
       "  </thead>\n",
       "  <tbody>\n",
       "    <tr>\n",
       "      <th>cat_a</th>\n",
       "      <td>475.333333</td>\n",
       "      <td>580.333333</td>\n",
       "      <td>553.666667</td>\n",
       "      <td>653.0</td>\n",
       "      <td>630.0</td>\n",
       "    </tr>\n",
       "    <tr>\n",
       "      <th>cat_b</th>\n",
       "      <td>457.000000</td>\n",
       "      <td>507.000000</td>\n",
       "      <td>478.000000</td>\n",
       "      <td>510.0</td>\n",
       "      <td>507.0</td>\n",
       "    </tr>\n",
       "  </tbody>\n",
       "</table>\n",
       "</div>"
      ],
      "text/plain": [
       "             2011        2012        2013   2014   2015\n",
       "cat_a  475.333333  580.333333  553.666667  653.0  630.0\n",
       "cat_b  457.000000  507.000000  478.000000  510.0  507.0"
      ]
     },
     "execution_count": 61,
     "metadata": {},
     "output_type": "execute_result"
    }
   ],
   "source": [
    "# Method 1\n",
    "\n",
    "heroes.groupby(k).mean()"
   ]
  },
  {
   "cell_type": "code",
   "execution_count": 63,
   "metadata": {},
   "outputs": [
    {
     "data": {
      "text/html": [
       "<div>\n",
       "<style>\n",
       "    .dataframe thead tr:only-child th {\n",
       "        text-align: right;\n",
       "    }\n",
       "\n",
       "    .dataframe thead th {\n",
       "        text-align: left;\n",
       "    }\n",
       "\n",
       "    .dataframe tbody tr th {\n",
       "        vertical-align: top;\n",
       "    }\n",
       "</style>\n",
       "<table border=\"1\" class=\"dataframe\">\n",
       "  <thead>\n",
       "    <tr style=\"text-align: right;\">\n",
       "      <th></th>\n",
       "      <th>2011</th>\n",
       "      <th>2012</th>\n",
       "      <th>2013</th>\n",
       "      <th>2014</th>\n",
       "      <th>2015</th>\n",
       "    </tr>\n",
       "  </thead>\n",
       "  <tbody>\n",
       "    <tr>\n",
       "      <th>clark</th>\n",
       "      <td>36.666667</td>\n",
       "      <td>32.666667</td>\n",
       "      <td>160.333333</td>\n",
       "      <td>162.0</td>\n",
       "      <td>286.0</td>\n",
       "    </tr>\n",
       "    <tr>\n",
       "      <th>bruce</th>\n",
       "      <td>44.000000</td>\n",
       "      <td>95.000000</td>\n",
       "      <td>67.000000</td>\n",
       "      <td>90.0</td>\n",
       "      <td>92.0</td>\n",
       "    </tr>\n",
       "    <tr>\n",
       "      <th>diana</th>\n",
       "      <td>36.666667</td>\n",
       "      <td>32.666667</td>\n",
       "      <td>160.333333</td>\n",
       "      <td>162.0</td>\n",
       "      <td>286.0</td>\n",
       "    </tr>\n",
       "    <tr>\n",
       "      <th>kara</th>\n",
       "      <td>44.000000</td>\n",
       "      <td>95.000000</td>\n",
       "      <td>67.000000</td>\n",
       "      <td>90.0</td>\n",
       "      <td>92.0</td>\n",
       "    </tr>\n",
       "    <tr>\n",
       "      <th>selina</th>\n",
       "      <td>36.666667</td>\n",
       "      <td>32.666667</td>\n",
       "      <td>160.333333</td>\n",
       "      <td>162.0</td>\n",
       "      <td>286.0</td>\n",
       "    </tr>\n",
       "  </tbody>\n",
       "</table>\n",
       "</div>"
      ],
      "text/plain": [
       "             2011       2012        2013   2014   2015\n",
       "clark   36.666667  32.666667  160.333333  162.0  286.0\n",
       "bruce   44.000000  95.000000   67.000000   90.0   92.0\n",
       "diana   36.666667  32.666667  160.333333  162.0  286.0\n",
       "kara    44.000000  95.000000   67.000000   90.0   92.0\n",
       "selina  36.666667  32.666667  160.333333  162.0  286.0"
      ]
     },
     "execution_count": 63,
     "metadata": {},
     "output_type": "execute_result"
    }
   ],
   "source": [
    "# Method 2\n",
    "\n",
    "heroes.groupby(k).transform(max_mean_diff)\n",
    "\n",
    "# NOTE: as before, any function that can be applied to the group can be fed\n",
    "# into the transform function, for example:\n",
    "# heroes.groupby(k).transform(max_mean_diff)"
   ]
  },
  {
   "cell_type": "code",
   "execution_count": null,
   "metadata": {
    "collapsed": true
   },
   "outputs": [],
   "source": [
    "# there is another fundamental way to apply functions to the data in a Pandas\n",
    "# object: using apply()\n",
    "# let's say we want to find the best performers in terms of grade changes across\n",
    "# each group"
   ]
  },
  {
   "cell_type": "code",
   "execution_count": 64,
   "metadata": {
    "collapsed": true
   },
   "outputs": [],
   "source": [
    "def best(df, n=10, column='gpa_pct'):\n",
    "    return df.sort_values(by=column, ascending=False)[:n]"
   ]
  },
  {
   "cell_type": "code",
   "execution_count": null,
   "metadata": {
    "collapsed": true
   },
   "outputs": [],
   "source": [
    "# if we simply apply this to the gpas DataFrame, as a whole, we will see the\n",
    "# most improved students and their characteristics, here we use n=7 to get the\n",
    "# top seven."
   ]
  },
  {
   "cell_type": "code",
   "execution_count": 65,
   "metadata": {
    "collapsed": true
   },
   "outputs": [],
   "source": [
    "df.sort_values?"
   ]
  },
  {
   "cell_type": "code",
   "execution_count": 66,
   "metadata": {},
   "outputs": [
    {
     "data": {
      "text/html": [
       "<div>\n",
       "<style>\n",
       "    .dataframe thead tr:only-child th {\n",
       "        text-align: right;\n",
       "    }\n",
       "\n",
       "    .dataframe thead th {\n",
       "        text-align: left;\n",
       "    }\n",
       "\n",
       "    .dataframe tbody tr th {\n",
       "        vertical-align: top;\n",
       "    }\n",
       "</style>\n",
       "<table border=\"1\" class=\"dataframe\">\n",
       "  <thead>\n",
       "    <tr style=\"text-align: right;\">\n",
       "      <th></th>\n",
       "      <th>gpa</th>\n",
       "      <th>gpa_change</th>\n",
       "      <th>gender</th>\n",
       "      <th>athlete</th>\n",
       "      <th>day</th>\n",
       "      <th>period</th>\n",
       "      <th>duration</th>\n",
       "      <th>gpa_pct</th>\n",
       "    </tr>\n",
       "  </thead>\n",
       "  <tbody>\n",
       "    <tr>\n",
       "      <th>5</th>\n",
       "      <td>76</td>\n",
       "      <td>3.610408</td>\n",
       "      <td>Male</td>\n",
       "      <td>yes</td>\n",
       "      <td>Thu</td>\n",
       "      <td>afternoon</td>\n",
       "      <td>3</td>\n",
       "      <td>0.047505</td>\n",
       "    </tr>\n",
       "    <tr>\n",
       "      <th>4</th>\n",
       "      <td>56</td>\n",
       "      <td>2.576343</td>\n",
       "      <td>Male</td>\n",
       "      <td>yes</td>\n",
       "      <td>Tue</td>\n",
       "      <td>morning</td>\n",
       "      <td>2</td>\n",
       "      <td>0.046006</td>\n",
       "    </tr>\n",
       "    <tr>\n",
       "      <th>6</th>\n",
       "      <td>90</td>\n",
       "      <td>3.919340</td>\n",
       "      <td>Male</td>\n",
       "      <td>yes</td>\n",
       "      <td>Mon</td>\n",
       "      <td>afternoon</td>\n",
       "      <td>2</td>\n",
       "      <td>0.043548</td>\n",
       "    </tr>\n",
       "    <tr>\n",
       "      <th>3</th>\n",
       "      <td>82</td>\n",
       "      <td>1.702488</td>\n",
       "      <td>Male</td>\n",
       "      <td>yes</td>\n",
       "      <td>Fri</td>\n",
       "      <td>afternoon</td>\n",
       "      <td>3</td>\n",
       "      <td>0.020762</td>\n",
       "    </tr>\n",
       "    <tr>\n",
       "      <th>2</th>\n",
       "      <td>73</td>\n",
       "      <td>1.309814</td>\n",
       "      <td>Male</td>\n",
       "      <td>yes</td>\n",
       "      <td>Sat</td>\n",
       "      <td>morning</td>\n",
       "      <td>3</td>\n",
       "      <td>0.017943</td>\n",
       "    </tr>\n",
       "    <tr>\n",
       "      <th>0</th>\n",
       "      <td>75</td>\n",
       "      <td>0.939395</td>\n",
       "      <td>Female</td>\n",
       "      <td>no</td>\n",
       "      <td>Tue</td>\n",
       "      <td>evening</td>\n",
       "      <td>2</td>\n",
       "      <td>0.012525</td>\n",
       "    </tr>\n",
       "    <tr>\n",
       "      <th>7</th>\n",
       "      <td>62</td>\n",
       "      <td>0.728715</td>\n",
       "      <td>Female</td>\n",
       "      <td>yes</td>\n",
       "      <td>Tue</td>\n",
       "      <td>evening</td>\n",
       "      <td>1</td>\n",
       "      <td>0.011753</td>\n",
       "    </tr>\n",
       "  </tbody>\n",
       "</table>\n",
       "</div>"
      ],
      "text/plain": [
       "   gpa  gpa_change  gender athlete  day     period  duration   gpa_pct\n",
       "5   76    3.610408    Male     yes  Thu  afternoon         3  0.047505\n",
       "4   56    2.576343    Male     yes  Tue    morning         2  0.046006\n",
       "6   90    3.919340    Male     yes  Mon  afternoon         2  0.043548\n",
       "3   82    1.702488    Male     yes  Fri  afternoon         3  0.020762\n",
       "2   73    1.309814    Male     yes  Sat    morning         3  0.017943\n",
       "0   75    0.939395  Female      no  Tue    evening         2  0.012525\n",
       "7   62    0.728715  Female     yes  Tue    evening         1  0.011753"
      ]
     },
     "execution_count": 66,
     "metadata": {},
     "output_type": "execute_result"
    }
   ],
   "source": [
    "best(gpas, n=7)"
   ]
  },
  {
   "cell_type": "code",
   "execution_count": null,
   "metadata": {
    "collapsed": true
   },
   "outputs": [],
   "source": [
    "# if we use a GroupBy and then apply the function to the GroupBy object"
   ]
  },
  {
   "cell_type": "code",
   "execution_count": 68,
   "metadata": {},
   "outputs": [
    {
     "data": {
      "text/html": [
       "<div>\n",
       "<style>\n",
       "    .dataframe thead tr:only-child th {\n",
       "        text-align: right;\n",
       "    }\n",
       "\n",
       "    .dataframe thead th {\n",
       "        text-align: left;\n",
       "    }\n",
       "\n",
       "    .dataframe tbody tr th {\n",
       "        vertical-align: top;\n",
       "    }\n",
       "</style>\n",
       "<table border=\"1\" class=\"dataframe\">\n",
       "  <thead>\n",
       "    <tr style=\"text-align: right;\">\n",
       "      <th></th>\n",
       "      <th></th>\n",
       "      <th>gpa</th>\n",
       "      <th>gpa_change</th>\n",
       "      <th>gender</th>\n",
       "      <th>athlete</th>\n",
       "      <th>day</th>\n",
       "      <th>period</th>\n",
       "      <th>duration</th>\n",
       "      <th>gpa_pct</th>\n",
       "    </tr>\n",
       "    <tr>\n",
       "      <th>athlete</th>\n",
       "      <th></th>\n",
       "      <th></th>\n",
       "      <th></th>\n",
       "      <th></th>\n",
       "      <th></th>\n",
       "      <th></th>\n",
       "      <th></th>\n",
       "      <th></th>\n",
       "      <th></th>\n",
       "    </tr>\n",
       "  </thead>\n",
       "  <tbody>\n",
       "    <tr>\n",
       "      <th rowspan=\"2\" valign=\"top\">no</th>\n",
       "      <th>0</th>\n",
       "      <td>75</td>\n",
       "      <td>0.939395</td>\n",
       "      <td>Female</td>\n",
       "      <td>no</td>\n",
       "      <td>Tue</td>\n",
       "      <td>evening</td>\n",
       "      <td>2</td>\n",
       "      <td>0.012525</td>\n",
       "    </tr>\n",
       "    <tr>\n",
       "      <th>8</th>\n",
       "      <td>78</td>\n",
       "      <td>0.832815</td>\n",
       "      <td>Male</td>\n",
       "      <td>no</td>\n",
       "      <td>Mon</td>\n",
       "      <td>morning</td>\n",
       "      <td>2</td>\n",
       "      <td>0.010677</td>\n",
       "    </tr>\n",
       "    <tr>\n",
       "      <th rowspan=\"2\" valign=\"top\">yes</th>\n",
       "      <th>6</th>\n",
       "      <td>90</td>\n",
       "      <td>3.919340</td>\n",
       "      <td>Male</td>\n",
       "      <td>yes</td>\n",
       "      <td>Mon</td>\n",
       "      <td>afternoon</td>\n",
       "      <td>2</td>\n",
       "      <td>0.043548</td>\n",
       "    </tr>\n",
       "    <tr>\n",
       "      <th>5</th>\n",
       "      <td>76</td>\n",
       "      <td>3.610408</td>\n",
       "      <td>Male</td>\n",
       "      <td>yes</td>\n",
       "      <td>Thu</td>\n",
       "      <td>afternoon</td>\n",
       "      <td>3</td>\n",
       "      <td>0.047505</td>\n",
       "    </tr>\n",
       "  </tbody>\n",
       "</table>\n",
       "</div>"
      ],
      "text/plain": [
       "           gpa  gpa_change  gender athlete  day     period  duration   gpa_pct\n",
       "athlete                                                                       \n",
       "no      0   75    0.939395  Female      no  Tue    evening         2  0.012525\n",
       "        8   78    0.832815    Male      no  Mon    morning         2  0.010677\n",
       "yes     6   90    3.919340    Male     yes  Mon  afternoon         2  0.043548\n",
       "        5   76    3.610408    Male     yes  Thu  afternoon         3  0.047505"
      ]
     },
     "execution_count": 68,
     "metadata": {},
     "output_type": "execute_result"
    }
   ],
   "source": [
    "# gpas.groupby('athlete').apply(best)\n",
    "gpas.groupby('athlete').apply(best, n=2, column='gpa_change')"
   ]
  },
  {
   "cell_type": "code",
   "execution_count": 69,
   "metadata": {},
   "outputs": [
    {
     "data": {
      "text/html": [
       "<div>\n",
       "<style>\n",
       "    .dataframe thead tr:only-child th {\n",
       "        text-align: right;\n",
       "    }\n",
       "\n",
       "    .dataframe thead th {\n",
       "        text-align: left;\n",
       "    }\n",
       "\n",
       "    .dataframe tbody tr th {\n",
       "        vertical-align: top;\n",
       "    }\n",
       "</style>\n",
       "<table border=\"1\" class=\"dataframe\">\n",
       "  <thead>\n",
       "    <tr style=\"text-align: right;\">\n",
       "      <th></th>\n",
       "      <th></th>\n",
       "      <th></th>\n",
       "      <th>duration</th>\n",
       "      <th>gpa_pct</th>\n",
       "      <th>gpa_change</th>\n",
       "    </tr>\n",
       "    <tr>\n",
       "      <th>athlete</th>\n",
       "      <th>gender</th>\n",
       "      <th></th>\n",
       "      <th></th>\n",
       "      <th></th>\n",
       "      <th></th>\n",
       "    </tr>\n",
       "  </thead>\n",
       "  <tbody>\n",
       "    <tr>\n",
       "      <th rowspan=\"2\" valign=\"top\">no</th>\n",
       "      <th>Female</th>\n",
       "      <th>0</th>\n",
       "      <td>2</td>\n",
       "      <td>0.012525</td>\n",
       "      <td>0.939395</td>\n",
       "    </tr>\n",
       "    <tr>\n",
       "      <th>Male</th>\n",
       "      <th>8</th>\n",
       "      <td>2</td>\n",
       "      <td>0.010677</td>\n",
       "      <td>0.832815</td>\n",
       "    </tr>\n",
       "    <tr>\n",
       "      <th rowspan=\"5\" valign=\"top\">yes</th>\n",
       "      <th rowspan=\"2\" valign=\"top\">Female</th>\n",
       "      <th>7</th>\n",
       "      <td>1</td>\n",
       "      <td>0.011753</td>\n",
       "      <td>0.728715</td>\n",
       "    </tr>\n",
       "    <tr>\n",
       "      <th>9</th>\n",
       "      <td>3</td>\n",
       "      <td>0.011474</td>\n",
       "      <td>0.654000</td>\n",
       "    </tr>\n",
       "    <tr>\n",
       "      <th rowspan=\"3\" valign=\"top\">Male</th>\n",
       "      <th>5</th>\n",
       "      <td>3</td>\n",
       "      <td>0.047505</td>\n",
       "      <td>3.610408</td>\n",
       "    </tr>\n",
       "    <tr>\n",
       "      <th>4</th>\n",
       "      <td>2</td>\n",
       "      <td>0.046006</td>\n",
       "      <td>2.576343</td>\n",
       "    </tr>\n",
       "    <tr>\n",
       "      <th>6</th>\n",
       "      <td>2</td>\n",
       "      <td>0.043548</td>\n",
       "      <td>3.919340</td>\n",
       "    </tr>\n",
       "  </tbody>\n",
       "</table>\n",
       "</div>"
      ],
      "text/plain": [
       "                  duration   gpa_pct  gpa_change\n",
       "athlete gender                                  \n",
       "no      Female 0         2  0.012525    0.939395\n",
       "        Male   8         2  0.010677    0.832815\n",
       "yes     Female 7         1  0.011753    0.728715\n",
       "               9         3  0.011474    0.654000\n",
       "        Male   5         3  0.047505    3.610408\n",
       "               4         2  0.046006    2.576343\n",
       "               6         2  0.043548    3.919340"
      ]
     },
     "execution_count": 69,
     "metadata": {},
     "output_type": "execute_result"
    }
   ],
   "source": [
    "gpas.groupby(['athlete', 'gender']).apply(best, n=3)[['duration',\n",
    "                                                      'gpa_pct',\n",
    "                                                      'gpa_change']]"
   ]
  },
  {
   "cell_type": "code",
   "execution_count": null,
   "metadata": {
    "collapsed": true
   },
   "outputs": [],
   "source": []
  },
  {
   "cell_type": "code",
   "execution_count": null,
   "metadata": {
    "collapsed": true
   },
   "outputs": [],
   "source": []
  },
  {
   "cell_type": "code",
   "execution_count": null,
   "metadata": {
    "collapsed": true
   },
   "outputs": [],
   "source": []
  },
  {
   "cell_type": "code",
   "execution_count": null,
   "metadata": {
    "collapsed": true
   },
   "outputs": [],
   "source": []
  },
  {
   "cell_type": "code",
   "execution_count": null,
   "metadata": {
    "collapsed": true
   },
   "outputs": [],
   "source": []
  },
  {
   "cell_type": "code",
   "execution_count": null,
   "metadata": {
    "collapsed": true
   },
   "outputs": [],
   "source": []
  },
  {
   "cell_type": "code",
   "execution_count": null,
   "metadata": {
    "collapsed": true
   },
   "outputs": [],
   "source": []
  },
  {
   "cell_type": "code",
   "execution_count": null,
   "metadata": {
    "collapsed": true
   },
   "outputs": [],
   "source": []
  },
  {
   "cell_type": "code",
   "execution_count": null,
   "metadata": {
    "collapsed": true
   },
   "outputs": [],
   "source": []
  },
  {
   "cell_type": "code",
   "execution_count": null,
   "metadata": {
    "collapsed": true
   },
   "outputs": [],
   "source": []
  },
  {
   "cell_type": "code",
   "execution_count": null,
   "metadata": {
    "collapsed": true
   },
   "outputs": [],
   "source": []
  },
  {
   "cell_type": "code",
   "execution_count": null,
   "metadata": {
    "collapsed": true
   },
   "outputs": [],
   "source": []
  },
  {
   "cell_type": "code",
   "execution_count": null,
   "metadata": {
    "collapsed": true
   },
   "outputs": [],
   "source": [
    "dfc = gpas[['gpa', 'gpa_change', 'gpa_pct']]\n",
    "gpabins = pd.cut(dfc.gpa_change, 10)\n",
    "gpabins"
   ]
  },
  {
   "cell_type": "code",
   "execution_count": null,
   "metadata": {
    "collapsed": true
   },
   "outputs": [],
   "source": [
    "def stat_summary(grp):\n",
    "    return {'min': grp.min(),\n",
    "            'max': grp.max(),\n",
    "            'median': grp.median(),\n",
    "            'std': grp.std()}\n",
    "\n",
    "groups = dfc.gpa_pct.groupby(gpabins)\n",
    "groups.apply(stat_summary)\n",
    "# groups.apply(stat_summary).unstack()"
   ]
  },
  {
   "cell_type": "code",
   "execution_count": null,
   "metadata": {
    "collapsed": true
   },
   "outputs": [],
   "source": [
    "# heroes2 = DataFrame([[1, 2, 3, 4, 5],\n",
    "#                     [2, 4, 6, 8, 10],\n",
    "#                     [1, 25, 50, 75, 100],\n",
    "#                     [1, 2, 3, 4, 100],\n",
    "#                     [100, 90, 80, 70, 60]], columns=[2011, 2012, 2013, 2014, 2015],\n",
    "#                     index=['clark', 'tony', 'diana', 'thor', 'jessica'])\n",
    "# \n",
    "# mapping = {2011: 'pre',\n",
    "#            2012: 'pre',\n",
    "#            2013: 'post',\n",
    "#            2014: 'post',\n",
    "#            2015: 'post',\n",
    "#            2016: 'future'}\n",
    "# \n",
    "# by_column2 = heroes.groupby(mapping, axis=1, sort=False)"
   ]
  }
 ],
 "metadata": {
  "kernelspec": {
   "display_name": "Python 3",
   "language": "python",
   "name": "python3"
  },
  "language_info": {
   "codemirror_mode": {
    "name": "ipython",
    "version": 3
   },
   "file_extension": ".py",
   "mimetype": "text/x-python",
   "name": "python",
   "nbconvert_exporter": "python",
   "pygments_lexer": "ipython3",
   "version": "3.6.1"
  }
 },
 "nbformat": 4,
 "nbformat_minor": 2
}
