{
 "cells": [
  {
   "cell_type": "markdown",
   "metadata": {},
   "source": [
    "# Welcome to the Dark Art of Coding:\n",
    "## Introduction to Python\n",
    "pandas: reading in files\n",
    "\n",
    "<img src='../images/dark_art_logo.600px.png' width='300' style=\"float:right\">"
   ]
  },
  {
   "cell_type": "markdown",
   "metadata": {},
   "source": [
    "# Importing pandas, etc\n",
    "---"
   ]
  },
  {
   "cell_type": "markdown",
   "metadata": {
    "collapsed": true
   },
   "source": [
    "When using pandas, it is common to import pandas as `pd` and to simply import the factory functions: `Series` and `DataFrames`"
   ]
  },
  {
   "cell_type": "code",
   "execution_count": 1,
   "metadata": {
    "collapsed": true
   },
   "outputs": [],
   "source": [
    "import pandas as pd\n",
    "from pandas import Series, DataFrame"
   ]
  },
  {
   "cell_type": "markdown",
   "metadata": {
    "collapsed": true
   },
   "source": [
    "Pandas is adept at reading in **many, many** data formats \n",
    "\n",
    "To see which ones, you can type pd.read and use **tab completion**\n",
    "\n",
    "```python\n",
    "pd.read<Press the tab key>\n",
    "```"
   ]
  },
  {
   "cell_type": "code",
   "execution_count": 4,
   "metadata": {},
   "outputs": [],
   "source": [
    "df = pd.read_clipboard()"
   ]
  },
  {
   "cell_type": "code",
   "execution_count": 6,
   "metadata": {},
   "outputs": [
    {
     "data": {
      "text/plain": [
       "0    cell 1A\n",
       "1    cell 1B\n",
       "2    cell 1C\n",
       "3    cell 1D\n",
       "Name: Column1, dtype: object"
      ]
     },
     "execution_count": 6,
     "metadata": {},
     "output_type": "execute_result"
    }
   ],
   "source": [
    "df.Column1"
   ]
  },
  {
   "cell_type": "markdown",
   "metadata": {},
   "source": [
    "# Reading from the clipboard\n",
    "---"
   ]
  },
  {
   "cell_type": "markdown",
   "metadata": {
    "collapsed": true
   },
   "source": [
    "Let's start by reading from the clipboard after we copy data from a table on a webpage.\n",
    "\n",
    "There is a sample file in the folder called:\n",
    "\n",
    "```bash\n",
    "sample_table.html\n",
    "```\n",
    "\n",
    "IF you open this file with your browser, you will see a table. Copying this table to the clipboard, allows you to read in the content to pandas directly.\n"
   ]
  },
  {
   "cell_type": "code",
   "execution_count": 7,
   "metadata": {},
   "outputs": [
    {
     "data": {
      "text/html": [
       "<div>\n",
       "<table border=\"1\" class=\"dataframe\">\n",
       "  <thead>\n",
       "    <tr style=\"text-align: right;\">\n",
       "      <th></th>\n",
       "      <th>Column1</th>\n",
       "      <th>Column2</th>\n",
       "      <th>Column3</th>\n",
       "      <th>Column4</th>\n",
       "      <th>Column5</th>\n",
       "    </tr>\n",
       "  </thead>\n",
       "  <tbody>\n",
       "    <tr>\n",
       "      <th>0</th>\n",
       "      <td>cell 1A</td>\n",
       "      <td>cell 2A</td>\n",
       "      <td>cell 3A</td>\n",
       "      <td>cell 4A</td>\n",
       "      <td>cell 5A</td>\n",
       "    </tr>\n",
       "    <tr>\n",
       "      <th>1</th>\n",
       "      <td>cell 1B</td>\n",
       "      <td>cell 2B</td>\n",
       "      <td>cell 3B</td>\n",
       "      <td>cell 4B</td>\n",
       "      <td>cell 5B</td>\n",
       "    </tr>\n",
       "    <tr>\n",
       "      <th>2</th>\n",
       "      <td>cell 1C</td>\n",
       "      <td>cell 2C</td>\n",
       "      <td>cell 3C</td>\n",
       "      <td>cell 4C</td>\n",
       "      <td>cell 5C</td>\n",
       "    </tr>\n",
       "    <tr>\n",
       "      <th>3</th>\n",
       "      <td>cell 1D</td>\n",
       "      <td>cell 2D</td>\n",
       "      <td>cell 3D</td>\n",
       "      <td>cell 4D</td>\n",
       "      <td>cell 5D</td>\n",
       "    </tr>\n",
       "  </tbody>\n",
       "</table>\n",
       "</div>"
      ],
      "text/plain": [
       "   Column1  Column2  Column3  Column4  Column5\n",
       "0  cell 1A  cell 2A  cell 3A  cell 4A  cell 5A\n",
       "1  cell 1B  cell 2B  cell 3B  cell 4B  cell 5B\n",
       "2  cell 1C  cell 2C  cell 3C  cell 4C  cell 5C\n",
       "3  cell 1D  cell 2D  cell 3D  cell 4D  cell 5D"
      ]
     },
     "execution_count": 7,
     "metadata": {},
     "output_type": "execute_result"
    }
   ],
   "source": [
    "webdata = pd.read_clipboard()\n",
    "webdata"
   ]
  },
  {
   "cell_type": "markdown",
   "metadata": {
    "collapsed": true
   },
   "source": [
    "This produces a DataFrame in memory. As with all DataFrames, you can access:\n",
    "\n",
    "* the columns\n",
    "* the rows\n",
    "* the `.attributes`\n",
    "* the `.methods()` \n",
    "\n",
    "Try these on your IPython interface:\n",
    "\n",
    "```python\n",
    "* webdata.C<press the tab key>\n",
    "* webdata.Column1\n",
    "```"
   ]
  },
  {
   "cell_type": "code",
   "execution_count": null,
   "metadata": {
    "collapsed": true
   },
   "outputs": [],
   "source": [
    "webdata.C"
   ]
  },
  {
   "cell_type": "markdown",
   "metadata": {},
   "source": [
    "# Reading from CSV\n",
    "---"
   ]
  },
  {
   "cell_type": "markdown",
   "metadata": {},
   "source": [
    "We will focus on `csv` and `sql` for remainder of this discussion.\n",
    "\n",
    "Let's dive into `csv` first.\n",
    "\n",
    "To read from `csv` files, we use the `.read_csv()` method."
   ]
  },
  {
   "cell_type": "code",
   "execution_count": 8,
   "metadata": {},
   "outputs": [
    {
     "data": {
      "text/html": [
       "<div>\n",
       "<table border=\"1\" class=\"dataframe\">\n",
       "  <thead>\n",
       "    <tr style=\"text-align: right;\">\n",
       "      <th></th>\n",
       "      <th>barry allen</th>\n",
       "      <th>ballen@jleague.org</th>\n",
       "      <th>246.167.32.21</th>\n",
       "      <th>253.36.206.4</th>\n",
       "      <th>2016-02-08T21:44:22</th>\n",
       "      <th>49.55854</th>\n",
       "      <th>8.87819</th>\n",
       "      <th>32171</th>\n",
       "    </tr>\n",
       "  </thead>\n",
       "  <tbody>\n",
       "    <tr>\n",
       "      <th>0</th>\n",
       "      <td>barbara gordon</td>\n",
       "      <td>bgordon@jleague.org</td>\n",
       "      <td>253.36.207.192</td>\n",
       "      <td>198.240.252.129</td>\n",
       "      <td>2016-02-07T21:44:28</td>\n",
       "      <td>48.14013</td>\n",
       "      <td>9.07396</td>\n",
       "      <td>34285</td>\n",
       "    </tr>\n",
       "    <tr>\n",
       "      <th>1</th>\n",
       "      <td>kyle rayner</td>\n",
       "      <td>krayner@jleague.org</td>\n",
       "      <td>208.66.182.10</td>\n",
       "      <td>102.230.226.99</td>\n",
       "      <td>2016-02-06T21:44:56</td>\n",
       "      <td>45.28336</td>\n",
       "      <td>10.38742</td>\n",
       "      <td>40287</td>\n",
       "    </tr>\n",
       "    <tr>\n",
       "      <th>2</th>\n",
       "      <td>dinah lance</td>\n",
       "      <td>dlance@jleague.org</td>\n",
       "      <td>246.167.32.76</td>\n",
       "      <td>7.36.164.133</td>\n",
       "      <td>2016-02-06T21:45:51</td>\n",
       "      <td>45.83448</td>\n",
       "      <td>8.70891</td>\n",
       "      <td>688291</td>\n",
       "    </tr>\n",
       "    <tr>\n",
       "      <th>3</th>\n",
       "      <td>arthur curry</td>\n",
       "      <td>acurry@jleague.org</td>\n",
       "      <td>253.36.207.215</td>\n",
       "      <td>7.36.164.0</td>\n",
       "      <td>2016-02-06T21:47:02</td>\n",
       "      <td>49.44709</td>\n",
       "      <td>8.05527</td>\n",
       "      <td>126609</td>\n",
       "    </tr>\n",
       "    <tr>\n",
       "      <th>4</th>\n",
       "      <td>kara zor-el</td>\n",
       "      <td>kzor-el@jleague.org</td>\n",
       "      <td>208.66.183.214</td>\n",
       "      <td>253.36.207.215</td>\n",
       "      <td>2016-02-06T21:47:26</td>\n",
       "      <td>46.22157</td>\n",
       "      <td>10.07309</td>\n",
       "      <td>862129</td>\n",
       "    </tr>\n",
       "    <tr>\n",
       "      <th>5</th>\n",
       "      <td>kara zor-el</td>\n",
       "      <td>kzor-el@jleague.org</td>\n",
       "      <td>208.66.183.214</td>\n",
       "      <td>198.240.252.173</td>\n",
       "      <td>2016-02-06T21:48:03</td>\n",
       "      <td>45.76911</td>\n",
       "      <td>10.33047</td>\n",
       "      <td>648640</td>\n",
       "    </tr>\n",
       "    <tr>\n",
       "      <th>6</th>\n",
       "      <td>hal jordan</td>\n",
       "      <td>hjordan@jleague.org</td>\n",
       "      <td>253.36.207.148</td>\n",
       "      <td>208.66.182.184</td>\n",
       "      <td>2016-02-06T21:49:36</td>\n",
       "      <td>47.99098</td>\n",
       "      <td>7.80398</td>\n",
       "      <td>496563</td>\n",
       "    </tr>\n",
       "    <tr>\n",
       "      <th>7</th>\n",
       "      <td>kara zor-el</td>\n",
       "      <td>kzor-el@jleague.org</td>\n",
       "      <td>253.36.207.148</td>\n",
       "      <td>26.28.209.95</td>\n",
       "      <td>2016-02-06T21:50:41</td>\n",
       "      <td>48.03181</td>\n",
       "      <td>10.01841</td>\n",
       "      <td>800746</td>\n",
       "    </tr>\n",
       "    <tr>\n",
       "      <th>8</th>\n",
       "      <td>john constantine</td>\n",
       "      <td>jconstantine@jleague.org</td>\n",
       "      <td>246.167.32.3</td>\n",
       "      <td>246.167.32.103</td>\n",
       "      <td>2016-02-06T21:52:17</td>\n",
       "      <td>48.63939</td>\n",
       "      <td>9.96064</td>\n",
       "      <td>859045</td>\n",
       "    </tr>\n",
       "  </tbody>\n",
       "</table>\n",
       "</div>"
      ],
      "text/plain": [
       "        barry allen        ballen@jleague.org   246.167.32.21  \\\n",
       "0    barbara gordon       bgordon@jleague.org  253.36.207.192   \n",
       "1       kyle rayner       krayner@jleague.org   208.66.182.10   \n",
       "2       dinah lance        dlance@jleague.org   246.167.32.76   \n",
       "3      arthur curry        acurry@jleague.org  253.36.207.215   \n",
       "4       kara zor-el       kzor-el@jleague.org  208.66.183.214   \n",
       "5       kara zor-el       kzor-el@jleague.org  208.66.183.214   \n",
       "6        hal jordan       hjordan@jleague.org  253.36.207.148   \n",
       "7       kara zor-el       kzor-el@jleague.org  253.36.207.148   \n",
       "8  john constantine  jconstantine@jleague.org    246.167.32.3   \n",
       "\n",
       "      253.36.206.4  2016-02-08T21:44:22  49.55854   8.87819   32171  \n",
       "0  198.240.252.129  2016-02-07T21:44:28  48.14013   9.07396   34285  \n",
       "1   102.230.226.99  2016-02-06T21:44:56  45.28336  10.38742   40287  \n",
       "2     7.36.164.133  2016-02-06T21:45:51  45.83448   8.70891  688291  \n",
       "3       7.36.164.0  2016-02-06T21:47:02  49.44709   8.05527  126609  \n",
       "4   253.36.207.215  2016-02-06T21:47:26  46.22157  10.07309  862129  \n",
       "5  198.240.252.173  2016-02-06T21:48:03  45.76911  10.33047  648640  \n",
       "6   208.66.182.184  2016-02-06T21:49:36  47.99098   7.80398  496563  \n",
       "7     26.28.209.95  2016-02-06T21:50:41  48.03181  10.01841  800746  \n",
       "8   246.167.32.103  2016-02-06T21:52:17  48.63939   9.96064  859045  "
      ]
     },
     "execution_count": 8,
     "metadata": {},
     "output_type": "execute_result"
    }
   ],
   "source": [
    "# In the following results, notice the column headers.\n",
    "# By default, pandas will use the first\n",
    "#     row as a header row...  \n",
    "#     thus 'barry allen' shows up a the header for column 1.\n",
    "# Maybe NOT what you want...\n",
    "\n",
    "data = pd.read_csv('log_file.csv')\n",
    "data"
   ]
  },
  {
   "cell_type": "code",
   "execution_count": 17,
   "metadata": {
    "collapsed": true
   },
   "outputs": [],
   "source": [
    "# If we include a list of names in the function\n",
    "#     call, pandas will use those as the headers,\n",
    "#     instead of the first row.\n",
    "\n",
    "named_cols = pd.read_csv('log_file.csv',\n",
    "                         names=['name', \n",
    "                                'email', \n",
    "                                'fmip', \n",
    "                                'toip',\n",
    "                                'datetime', \n",
    "                                'lat', \n",
    "                                'long', \n",
    "                                'payload'])"
   ]
  },
  {
   "cell_type": "code",
   "execution_count": 18,
   "metadata": {},
   "outputs": [
    {
     "name": "stdout",
     "output_type": "stream",
     "text": [
      "<class 'pandas.core.frame.DataFrame'>\n",
      "RangeIndex: 10 entries, 0 to 9\n",
      "Data columns (total 8 columns):\n",
      "name        10 non-null object\n",
      "email       10 non-null object\n",
      "fmip        10 non-null object\n",
      "toip        10 non-null object\n",
      "datetime    10 non-null object\n",
      "lat         10 non-null float64\n",
      "long        10 non-null float64\n",
      "payload     10 non-null int64\n",
      "dtypes: float64(2), int64(1), object(5)\n",
      "memory usage: 720.0+ bytes\n"
     ]
    }
   ],
   "source": [
    "# The .info() method shows us some details \n",
    "#     about our new DataFrame\n",
    "#     * The number and names of the columns\n",
    "#     * The datatypes for each column\n",
    "#     * etc\n",
    "\n",
    "named_cols.info()"
   ]
  },
  {
   "cell_type": "code",
   "execution_count": 19,
   "metadata": {},
   "outputs": [
    {
     "data": {
      "text/plain": [
       "0     246.167.32.21\n",
       "1    253.36.207.192\n",
       "2     208.66.182.10\n",
       "3     246.167.32.76\n",
       "4    253.36.207.215\n",
       "5    208.66.183.214\n",
       "6    208.66.183.214\n",
       "7    253.36.207.148\n",
       "8    253.36.207.148\n",
       "9      246.167.32.3\n",
       "Name: fmip, dtype: object"
      ]
     },
     "execution_count": 19,
     "metadata": {},
     "output_type": "execute_result"
    }
   ],
   "source": [
    "# If want to see a single column, we can use \n",
    "#     bracket notation \n",
    "#     or the simplified .column_name notation\n",
    "\n",
    "named_cols['fmip']"
   ]
  },
  {
   "cell_type": "code",
   "execution_count": 20,
   "metadata": {},
   "outputs": [
    {
     "data": {
      "text/plain": [
       "0     246.167.32.21\n",
       "1    253.36.207.192\n",
       "2     208.66.182.10\n",
       "3     246.167.32.76\n",
       "4    253.36.207.215\n",
       "5    208.66.183.214\n",
       "6    208.66.183.214\n",
       "7    253.36.207.148\n",
       "8    253.36.207.148\n",
       "9      246.167.32.3\n",
       "Name: fmip, dtype: object"
      ]
     },
     "execution_count": 20,
     "metadata": {},
     "output_type": "execute_result"
    }
   ],
   "source": [
    "named_cols.fmip"
   ]
  },
  {
   "cell_type": "markdown",
   "metadata": {
    "collapsed": true
   },
   "source": [
    "It is not necessary to ingest all the lines from a file. \n",
    "\n",
    "Presuming that certain lines lack useful information... \n",
    "\n",
    "* metadata\n",
    "* header lines\n",
    "* document data, etc.\n",
    "\n",
    "In this case, let's skip rows 0, 1, and 2 from the csv."
   ]
  },
  {
   "cell_type": "code",
   "execution_count": 23,
   "metadata": {},
   "outputs": [
    {
     "data": {
      "text/html": [
       "<div>\n",
       "<table border=\"1\" class=\"dataframe\">\n",
       "  <thead>\n",
       "    <tr style=\"text-align: right;\">\n",
       "      <th></th>\n",
       "      <th>name</th>\n",
       "      <th>email</th>\n",
       "      <th>fmip</th>\n",
       "      <th>toip</th>\n",
       "      <th>datetime</th>\n",
       "      <th>lat</th>\n",
       "      <th>long</th>\n",
       "      <th>payload</th>\n",
       "    </tr>\n",
       "  </thead>\n",
       "  <tbody>\n",
       "    <tr>\n",
       "      <th>0</th>\n",
       "      <td>barbara gordon</td>\n",
       "      <td>bgordon@jleague.org</td>\n",
       "      <td>253.36.207.192</td>\n",
       "      <td>198.240.252.129</td>\n",
       "      <td>2016-02-07T21:44:28</td>\n",
       "      <td>48.14013</td>\n",
       "      <td>9.07396</td>\n",
       "      <td>34285</td>\n",
       "    </tr>\n",
       "    <tr>\n",
       "      <th>1</th>\n",
       "      <td>kyle rayner</td>\n",
       "      <td>krayner@jleague.org</td>\n",
       "      <td>208.66.182.10</td>\n",
       "      <td>102.230.226.99</td>\n",
       "      <td>2016-02-06T21:44:56</td>\n",
       "      <td>45.28336</td>\n",
       "      <td>10.38742</td>\n",
       "      <td>40287</td>\n",
       "    </tr>\n",
       "    <tr>\n",
       "      <th>2</th>\n",
       "      <td>dinah lance</td>\n",
       "      <td>dlance@jleague.org</td>\n",
       "      <td>246.167.32.76</td>\n",
       "      <td>7.36.164.133</td>\n",
       "      <td>2016-02-06T21:45:51</td>\n",
       "      <td>45.83448</td>\n",
       "      <td>8.70891</td>\n",
       "      <td>688291</td>\n",
       "    </tr>\n",
       "    <tr>\n",
       "      <th>3</th>\n",
       "      <td>arthur curry</td>\n",
       "      <td>acurry@jleague.org</td>\n",
       "      <td>253.36.207.215</td>\n",
       "      <td>7.36.164.0</td>\n",
       "      <td>2016-02-06T21:47:02</td>\n",
       "      <td>49.44709</td>\n",
       "      <td>8.05527</td>\n",
       "      <td>126609</td>\n",
       "    </tr>\n",
       "  </tbody>\n",
       "</table>\n",
       "</div>"
      ],
      "text/plain": [
       "             name                email            fmip             toip  \\\n",
       "0  barbara gordon  bgordon@jleague.org  253.36.207.192  198.240.252.129   \n",
       "1     kyle rayner  krayner@jleague.org   208.66.182.10   102.230.226.99   \n",
       "2     dinah lance   dlance@jleague.org   246.167.32.76     7.36.164.133   \n",
       "3    arthur curry   acurry@jleague.org  253.36.207.215       7.36.164.0   \n",
       "\n",
       "              datetime       lat      long  payload  \n",
       "0  2016-02-07T21:44:28  48.14013   9.07396    34285  \n",
       "1  2016-02-06T21:44:56  45.28336  10.38742    40287  \n",
       "2  2016-02-06T21:45:51  45.83448   8.70891   688291  \n",
       "3  2016-02-06T21:47:02  49.44709   8.05527   126609  "
      ]
     },
     "execution_count": 23,
     "metadata": {},
     "output_type": "execute_result"
    }
   ],
   "source": [
    "skipped_rows = pd.read_csv('log_file_junk.csv', \n",
    "                           names=['name', 'email', 'fmip', 'toip',\n",
    "                                  'datetime', 'lat', 'long', 'payload'],\n",
    "                           skiprows=[0, 1, 2])\n",
    "\n",
    "skipped_rows"
   ]
  },
  {
   "cell_type": "markdown",
   "metadata": {},
   "source": [
    "You may receive files with alternate separators/delimiters. Pandas gives you tools to  \n",
    "deal with this situation. "
   ]
  },
  {
   "cell_type": "code",
   "execution_count": 24,
   "metadata": {},
   "outputs": [
    {
     "data": {
      "text/html": [
       "<div>\n",
       "<table border=\"1\" class=\"dataframe\">\n",
       "  <thead>\n",
       "    <tr style=\"text-align: right;\">\n",
       "      <th></th>\n",
       "      <th>name</th>\n",
       "      <th>email</th>\n",
       "      <th>fmip</th>\n",
       "      <th>toip</th>\n",
       "      <th>datetime</th>\n",
       "      <th>lat</th>\n",
       "      <th>long</th>\n",
       "      <th>payload</th>\n",
       "    </tr>\n",
       "  </thead>\n",
       "  <tbody>\n",
       "    <tr>\n",
       "      <th>0</th>\n",
       "      <td>barry allen</td>\n",
       "      <td>ballen@jleague.org</td>\n",
       "      <td>246.167.32.21</td>\n",
       "      <td>253.36.206.4</td>\n",
       "      <td>2016-02-08T21:44:22</td>\n",
       "      <td>49.55854</td>\n",
       "      <td>8.87819</td>\n",
       "      <td>32171</td>\n",
       "    </tr>\n",
       "    <tr>\n",
       "      <th>1</th>\n",
       "      <td>barbara gordon</td>\n",
       "      <td>bgordon@jleague.org</td>\n",
       "      <td>253.36.207.192</td>\n",
       "      <td>198.240.252.129</td>\n",
       "      <td>2016-02-07T21:44:28</td>\n",
       "      <td>48.14013</td>\n",
       "      <td>9.07396</td>\n",
       "      <td>34285</td>\n",
       "    </tr>\n",
       "    <tr>\n",
       "      <th>2</th>\n",
       "      <td>kyle rayner</td>\n",
       "      <td>krayner@jleague.org</td>\n",
       "      <td>208.66.182.10</td>\n",
       "      <td>102.230.226.99</td>\n",
       "      <td>2016-02-06T21:44:56</td>\n",
       "      <td>45.28336</td>\n",
       "      <td>10.38742</td>\n",
       "      <td>40287</td>\n",
       "    </tr>\n",
       "    <tr>\n",
       "      <th>3</th>\n",
       "      <td>dinah lance</td>\n",
       "      <td>dlance@jleague.org</td>\n",
       "      <td>246.167.32.76</td>\n",
       "      <td>7.36.164.133</td>\n",
       "      <td>2016-02-06T21:45:51</td>\n",
       "      <td>45.83448</td>\n",
       "      <td>8.70891</td>\n",
       "      <td>688291</td>\n",
       "    </tr>\n",
       "    <tr>\n",
       "      <th>4</th>\n",
       "      <td>arthur curry</td>\n",
       "      <td>acurry@jleague.org</td>\n",
       "      <td>253.36.207.215</td>\n",
       "      <td>7.36.164.0</td>\n",
       "      <td>2016-02-06T21:47:02</td>\n",
       "      <td>49.44709</td>\n",
       "      <td>8.05527</td>\n",
       "      <td>126609</td>\n",
       "    </tr>\n",
       "    <tr>\n",
       "      <th>5</th>\n",
       "      <td>kara zor-el</td>\n",
       "      <td>kzor-el@jleague.org</td>\n",
       "      <td>208.66.183.214</td>\n",
       "      <td>253.36.207.215</td>\n",
       "      <td>2016-02-06T21:47:26</td>\n",
       "      <td>46.22157</td>\n",
       "      <td>10.07309</td>\n",
       "      <td>862129</td>\n",
       "    </tr>\n",
       "    <tr>\n",
       "      <th>6</th>\n",
       "      <td>kara zor-el</td>\n",
       "      <td>kzor-el@jleague.org</td>\n",
       "      <td>208.66.183.214</td>\n",
       "      <td>198.240.252.173</td>\n",
       "      <td>2016-02-06T21:48:03</td>\n",
       "      <td>45.76911</td>\n",
       "      <td>10.33047</td>\n",
       "      <td>648640</td>\n",
       "    </tr>\n",
       "    <tr>\n",
       "      <th>7</th>\n",
       "      <td>hal jordan</td>\n",
       "      <td>hjordan@jleague.org</td>\n",
       "      <td>253.36.207.148</td>\n",
       "      <td>208.66.182.184</td>\n",
       "      <td>2016-02-06T21:49:36</td>\n",
       "      <td>47.99098</td>\n",
       "      <td>7.80398</td>\n",
       "      <td>496563</td>\n",
       "    </tr>\n",
       "    <tr>\n",
       "      <th>8</th>\n",
       "      <td>kara zor-el</td>\n",
       "      <td>kzor-el@jleague.org</td>\n",
       "      <td>253.36.207.148</td>\n",
       "      <td>26.28.209.95</td>\n",
       "      <td>2016-02-06T21:50:41</td>\n",
       "      <td>48.03181</td>\n",
       "      <td>10.01841</td>\n",
       "      <td>800746</td>\n",
       "    </tr>\n",
       "    <tr>\n",
       "      <th>9</th>\n",
       "      <td>john constantine</td>\n",
       "      <td>jconstantine@jleague.org</td>\n",
       "      <td>246.167.32.3</td>\n",
       "      <td>246.167.32.103</td>\n",
       "      <td>2016-02-06T21:52:17</td>\n",
       "      <td>48.63939</td>\n",
       "      <td>9.96064</td>\n",
       "      <td>859045</td>\n",
       "    </tr>\n",
       "  </tbody>\n",
       "</table>\n",
       "</div>"
      ],
      "text/plain": [
       "               name                     email            fmip  \\\n",
       "0       barry allen        ballen@jleague.org   246.167.32.21   \n",
       "1    barbara gordon       bgordon@jleague.org  253.36.207.192   \n",
       "2       kyle rayner       krayner@jleague.org   208.66.182.10   \n",
       "3       dinah lance        dlance@jleague.org   246.167.32.76   \n",
       "4      arthur curry        acurry@jleague.org  253.36.207.215   \n",
       "5       kara zor-el       kzor-el@jleague.org  208.66.183.214   \n",
       "6       kara zor-el       kzor-el@jleague.org  208.66.183.214   \n",
       "7        hal jordan       hjordan@jleague.org  253.36.207.148   \n",
       "8       kara zor-el       kzor-el@jleague.org  253.36.207.148   \n",
       "9  john constantine  jconstantine@jleague.org    246.167.32.3   \n",
       "\n",
       "              toip             datetime       lat      long  payload  \n",
       "0     253.36.206.4  2016-02-08T21:44:22  49.55854   8.87819    32171  \n",
       "1  198.240.252.129  2016-02-07T21:44:28  48.14013   9.07396    34285  \n",
       "2   102.230.226.99  2016-02-06T21:44:56  45.28336  10.38742    40287  \n",
       "3     7.36.164.133  2016-02-06T21:45:51  45.83448   8.70891   688291  \n",
       "4       7.36.164.0  2016-02-06T21:47:02  49.44709   8.05527   126609  \n",
       "5   253.36.207.215  2016-02-06T21:47:26  46.22157  10.07309   862129  \n",
       "6  198.240.252.173  2016-02-06T21:48:03  45.76911  10.33047   648640  \n",
       "7   208.66.182.184  2016-02-06T21:49:36  47.99098   7.80398   496563  \n",
       "8     26.28.209.95  2016-02-06T21:50:41  48.03181  10.01841   800746  \n",
       "9   246.167.32.103  2016-02-06T21:52:17  48.63939   9.96064   859045  "
      ]
     },
     "execution_count": 24,
     "metadata": {},
     "output_type": "execute_result"
    }
   ],
   "source": [
    "# This file uses a 'pipe' character as the separator.\n",
    "\n",
    "piped_data = pd.read_csv('log_file_pipes.csv',\n",
    "                         names=['name', 'email', 'fmip',\n",
    "                                'toip', 'datetime', 'lat',\n",
    "                                'long', 'payload'],\n",
    "                         sep='|')\n",
    "\n",
    "piped_data"
   ]
  },
  {
   "cell_type": "code",
   "execution_count": 26,
   "metadata": {},
   "outputs": [
    {
     "data": {
      "text/html": [
       "<div>\n",
       "<table border=\"1\" class=\"dataframe\">\n",
       "  <thead>\n",
       "    <tr style=\"text-align: right;\">\n",
       "      <th></th>\n",
       "      <th>name</th>\n",
       "      <th>email</th>\n",
       "      <th>fmip</th>\n",
       "      <th>toip</th>\n",
       "      <th>datetime</th>\n",
       "      <th>lat</th>\n",
       "      <th>long</th>\n",
       "      <th>payload</th>\n",
       "    </tr>\n",
       "  </thead>\n",
       "  <tbody>\n",
       "    <tr>\n",
       "      <th>7</th>\n",
       "      <td>hal jordan</td>\n",
       "      <td>hjordan@jleague.org</td>\n",
       "      <td>253.36.207.148</td>\n",
       "      <td>208.66.182.184</td>\n",
       "      <td>2016-02-06T21:49:36</td>\n",
       "      <td>47.99098</td>\n",
       "      <td>7.80398</td>\n",
       "      <td>496563</td>\n",
       "    </tr>\n",
       "    <tr>\n",
       "      <th>8</th>\n",
       "      <td>kara zor-el</td>\n",
       "      <td>kzor-el@jleague.org</td>\n",
       "      <td>253.36.207.148</td>\n",
       "      <td>26.28.209.95</td>\n",
       "      <td>2016-02-06T21:50:41</td>\n",
       "      <td>48.03181</td>\n",
       "      <td>10.01841</td>\n",
       "      <td>800746</td>\n",
       "    </tr>\n",
       "    <tr>\n",
       "      <th>9</th>\n",
       "      <td>john constantine</td>\n",
       "      <td>jconstantine@jleague.org</td>\n",
       "      <td>246.167.32.3</td>\n",
       "      <td>246.167.32.103</td>\n",
       "      <td>2016-02-06T21:52:17</td>\n",
       "      <td>48.63939</td>\n",
       "      <td>9.96064</td>\n",
       "      <td>859045</td>\n",
       "    </tr>\n",
       "  </tbody>\n",
       "</table>\n",
       "</div>"
      ],
      "text/plain": [
       "               name                     email            fmip            toip  \\\n",
       "7        hal jordan       hjordan@jleague.org  253.36.207.148  208.66.182.184   \n",
       "8       kara zor-el       kzor-el@jleague.org  253.36.207.148    26.28.209.95   \n",
       "9  john constantine  jconstantine@jleague.org    246.167.32.3  246.167.32.103   \n",
       "\n",
       "              datetime       lat      long  payload  \n",
       "7  2016-02-06T21:49:36  47.99098   7.80398   496563  \n",
       "8  2016-02-06T21:50:41  48.03181  10.01841   800746  \n",
       "9  2016-02-06T21:52:17  48.63939   9.96064   859045  "
      ]
     },
     "execution_count": 26,
     "metadata": {},
     "output_type": "execute_result"
    }
   ],
   "source": [
    "# This was a short file, but when you have thousands\n",
    "#     of rows, sometimes you simply want a quick look at \n",
    "#     samples of the data.\n",
    "\n",
    "# .tail() and .head() are good examples of this.\n",
    "\n",
    "piped_data.tail(3)"
   ]
  },
  {
   "cell_type": "code",
   "execution_count": 27,
   "metadata": {},
   "outputs": [
    {
     "data": {
      "text/html": [
       "<div>\n",
       "<table border=\"1\" class=\"dataframe\">\n",
       "  <thead>\n",
       "    <tr style=\"text-align: right;\">\n",
       "      <th></th>\n",
       "      <th>name</th>\n",
       "      <th>email</th>\n",
       "      <th>fmip</th>\n",
       "      <th>toip</th>\n",
       "      <th>datetime</th>\n",
       "      <th>lat</th>\n",
       "      <th>long</th>\n",
       "      <th>payload</th>\n",
       "    </tr>\n",
       "  </thead>\n",
       "  <tbody>\n",
       "    <tr>\n",
       "      <th>0</th>\n",
       "      <td>barry allen</td>\n",
       "      <td>ballen@jleague.org</td>\n",
       "      <td>246.167.32.21</td>\n",
       "      <td>253.36.206.4</td>\n",
       "      <td>2016-02-08T21:44:22</td>\n",
       "      <td>49.55854</td>\n",
       "      <td>8.87819</td>\n",
       "      <td>32171</td>\n",
       "    </tr>\n",
       "    <tr>\n",
       "      <th>1</th>\n",
       "      <td>barbara gordon</td>\n",
       "      <td>bgordon@jleague.org</td>\n",
       "      <td>253.36.207.192</td>\n",
       "      <td>198.240.252.129</td>\n",
       "      <td>2016-02-07T21:44:28</td>\n",
       "      <td>48.14013</td>\n",
       "      <td>9.07396</td>\n",
       "      <td>34285</td>\n",
       "    </tr>\n",
       "    <tr>\n",
       "      <th>2</th>\n",
       "      <td>kyle rayner</td>\n",
       "      <td>krayner@jleague.org</td>\n",
       "      <td>208.66.182.10</td>\n",
       "      <td>102.230.226.99</td>\n",
       "      <td>2016-02-06T21:44:56</td>\n",
       "      <td>45.28336</td>\n",
       "      <td>10.38742</td>\n",
       "      <td>40287</td>\n",
       "    </tr>\n",
       "    <tr>\n",
       "      <th>3</th>\n",
       "      <td>dinah lance</td>\n",
       "      <td>dlance@jleague.org</td>\n",
       "      <td>246.167.32.76</td>\n",
       "      <td>7.36.164.133</td>\n",
       "      <td>2016-02-06T21:45:51</td>\n",
       "      <td>45.83448</td>\n",
       "      <td>8.70891</td>\n",
       "      <td>688291</td>\n",
       "    </tr>\n",
       "  </tbody>\n",
       "</table>\n",
       "</div>"
      ],
      "text/plain": [
       "             name                email            fmip             toip  \\\n",
       "0     barry allen   ballen@jleague.org   246.167.32.21     253.36.206.4   \n",
       "1  barbara gordon  bgordon@jleague.org  253.36.207.192  198.240.252.129   \n",
       "2     kyle rayner  krayner@jleague.org   208.66.182.10   102.230.226.99   \n",
       "3     dinah lance   dlance@jleague.org   246.167.32.76     7.36.164.133   \n",
       "\n",
       "              datetime       lat      long  payload  \n",
       "0  2016-02-08T21:44:22  49.55854   8.87819    32171  \n",
       "1  2016-02-07T21:44:28  48.14013   9.07396    34285  \n",
       "2  2016-02-06T21:44:56  45.28336  10.38742    40287  \n",
       "3  2016-02-06T21:45:51  45.83448   8.70891   688291  "
      ]
     },
     "execution_count": 27,
     "metadata": {},
     "output_type": "execute_result"
    }
   ],
   "source": [
    "piped_data.head(4)"
   ]
  },
  {
   "cell_type": "markdown",
   "metadata": {},
   "source": [
    "## Indexing"
   ]
  },
  {
   "cell_type": "markdown",
   "metadata": {
    "collapsed": true
   },
   "source": [
    "When reading in data, `pandas` assigns a default index of `0..n`. Sometimes we want to use something different than the default indexing.\n",
    "\n",
    "We **can choose** a particular column to be used as an index.\n",
    "\n",
    "Here we chose to use the `datetime` column"
   ]
  },
  {
   "cell_type": "code",
   "execution_count": 28,
   "metadata": {},
   "outputs": [
    {
     "data": {
      "text/html": [
       "<div>\n",
       "<table border=\"1\" class=\"dataframe\">\n",
       "  <thead>\n",
       "    <tr style=\"text-align: right;\">\n",
       "      <th></th>\n",
       "      <th>name</th>\n",
       "      <th>email</th>\n",
       "      <th>fmip</th>\n",
       "      <th>toip</th>\n",
       "      <th>lat</th>\n",
       "      <th>long</th>\n",
       "      <th>payload</th>\n",
       "    </tr>\n",
       "    <tr>\n",
       "      <th>datetime</th>\n",
       "      <th></th>\n",
       "      <th></th>\n",
       "      <th></th>\n",
       "      <th></th>\n",
       "      <th></th>\n",
       "      <th></th>\n",
       "      <th></th>\n",
       "    </tr>\n",
       "  </thead>\n",
       "  <tbody>\n",
       "    <tr>\n",
       "      <th>2016-02-08T21:44:22</th>\n",
       "      <td>barry allen</td>\n",
       "      <td>ballen@jleague.org</td>\n",
       "      <td>246.167.32.21</td>\n",
       "      <td>253.36.206.4</td>\n",
       "      <td>49.55854</td>\n",
       "      <td>8.87819</td>\n",
       "      <td>32171</td>\n",
       "    </tr>\n",
       "    <tr>\n",
       "      <th>2016-02-07T21:44:28</th>\n",
       "      <td>barbara gordon</td>\n",
       "      <td>bgordon@jleague.org</td>\n",
       "      <td>253.36.207.192</td>\n",
       "      <td>198.240.252.129</td>\n",
       "      <td>48.14013</td>\n",
       "      <td>9.07396</td>\n",
       "      <td>34285</td>\n",
       "    </tr>\n",
       "    <tr>\n",
       "      <th>2016-02-06T21:44:56</th>\n",
       "      <td>kyle rayner</td>\n",
       "      <td>krayner@jleague.org</td>\n",
       "      <td>208.66.182.10</td>\n",
       "      <td>102.230.226.99</td>\n",
       "      <td>45.28336</td>\n",
       "      <td>10.38742</td>\n",
       "      <td>40287</td>\n",
       "    </tr>\n",
       "    <tr>\n",
       "      <th>2016-02-06T21:45:51</th>\n",
       "      <td>dinah lance</td>\n",
       "      <td>dlance@jleague.org</td>\n",
       "      <td>246.167.32.76</td>\n",
       "      <td>7.36.164.133</td>\n",
       "      <td>45.83448</td>\n",
       "      <td>8.70891</td>\n",
       "      <td>688291</td>\n",
       "    </tr>\n",
       "    <tr>\n",
       "      <th>2016-02-06T21:47:02</th>\n",
       "      <td>arthur curry</td>\n",
       "      <td>acurry@jleague.org</td>\n",
       "      <td>253.36.207.215</td>\n",
       "      <td>7.36.164.0</td>\n",
       "      <td>49.44709</td>\n",
       "      <td>8.05527</td>\n",
       "      <td>126609</td>\n",
       "    </tr>\n",
       "    <tr>\n",
       "      <th>2016-02-06T21:47:26</th>\n",
       "      <td>kara zor-el</td>\n",
       "      <td>kzor-el@jleague.org</td>\n",
       "      <td>208.66.183.214</td>\n",
       "      <td>253.36.207.215</td>\n",
       "      <td>46.22157</td>\n",
       "      <td>10.07309</td>\n",
       "      <td>862129</td>\n",
       "    </tr>\n",
       "    <tr>\n",
       "      <th>2016-02-06T21:48:03</th>\n",
       "      <td>kara zor-el</td>\n",
       "      <td>kzor-el@jleague.org</td>\n",
       "      <td>208.66.183.214</td>\n",
       "      <td>198.240.252.173</td>\n",
       "      <td>45.76911</td>\n",
       "      <td>10.33047</td>\n",
       "      <td>648640</td>\n",
       "    </tr>\n",
       "    <tr>\n",
       "      <th>2016-02-06T21:49:36</th>\n",
       "      <td>hal jordan</td>\n",
       "      <td>hjordan@jleague.org</td>\n",
       "      <td>253.36.207.148</td>\n",
       "      <td>208.66.182.184</td>\n",
       "      <td>47.99098</td>\n",
       "      <td>7.80398</td>\n",
       "      <td>496563</td>\n",
       "    </tr>\n",
       "    <tr>\n",
       "      <th>2016-02-06T21:50:41</th>\n",
       "      <td>kara zor-el</td>\n",
       "      <td>kzor-el@jleague.org</td>\n",
       "      <td>253.36.207.148</td>\n",
       "      <td>26.28.209.95</td>\n",
       "      <td>48.03181</td>\n",
       "      <td>10.01841</td>\n",
       "      <td>800746</td>\n",
       "    </tr>\n",
       "    <tr>\n",
       "      <th>2016-02-06T21:52:17</th>\n",
       "      <td>john constantine</td>\n",
       "      <td>jconstantine@jleague.org</td>\n",
       "      <td>246.167.32.3</td>\n",
       "      <td>246.167.32.103</td>\n",
       "      <td>48.63939</td>\n",
       "      <td>9.96064</td>\n",
       "      <td>859045</td>\n",
       "    </tr>\n",
       "  </tbody>\n",
       "</table>\n",
       "</div>"
      ],
      "text/plain": [
       "                                 name                     email  \\\n",
       "datetime                                                          \n",
       "2016-02-08T21:44:22       barry allen        ballen@jleague.org   \n",
       "2016-02-07T21:44:28    barbara gordon       bgordon@jleague.org   \n",
       "2016-02-06T21:44:56       kyle rayner       krayner@jleague.org   \n",
       "2016-02-06T21:45:51       dinah lance        dlance@jleague.org   \n",
       "2016-02-06T21:47:02      arthur curry        acurry@jleague.org   \n",
       "2016-02-06T21:47:26       kara zor-el       kzor-el@jleague.org   \n",
       "2016-02-06T21:48:03       kara zor-el       kzor-el@jleague.org   \n",
       "2016-02-06T21:49:36        hal jordan       hjordan@jleague.org   \n",
       "2016-02-06T21:50:41       kara zor-el       kzor-el@jleague.org   \n",
       "2016-02-06T21:52:17  john constantine  jconstantine@jleague.org   \n",
       "\n",
       "                               fmip             toip       lat      long  \\\n",
       "datetime                                                                   \n",
       "2016-02-08T21:44:22   246.167.32.21     253.36.206.4  49.55854   8.87819   \n",
       "2016-02-07T21:44:28  253.36.207.192  198.240.252.129  48.14013   9.07396   \n",
       "2016-02-06T21:44:56   208.66.182.10   102.230.226.99  45.28336  10.38742   \n",
       "2016-02-06T21:45:51   246.167.32.76     7.36.164.133  45.83448   8.70891   \n",
       "2016-02-06T21:47:02  253.36.207.215       7.36.164.0  49.44709   8.05527   \n",
       "2016-02-06T21:47:26  208.66.183.214   253.36.207.215  46.22157  10.07309   \n",
       "2016-02-06T21:48:03  208.66.183.214  198.240.252.173  45.76911  10.33047   \n",
       "2016-02-06T21:49:36  253.36.207.148   208.66.182.184  47.99098   7.80398   \n",
       "2016-02-06T21:50:41  253.36.207.148     26.28.209.95  48.03181  10.01841   \n",
       "2016-02-06T21:52:17    246.167.32.3   246.167.32.103  48.63939   9.96064   \n",
       "\n",
       "                     payload  \n",
       "datetime                      \n",
       "2016-02-08T21:44:22    32171  \n",
       "2016-02-07T21:44:28    34285  \n",
       "2016-02-06T21:44:56    40287  \n",
       "2016-02-06T21:45:51   688291  \n",
       "2016-02-06T21:47:02   126609  \n",
       "2016-02-06T21:47:26   862129  \n",
       "2016-02-06T21:48:03   648640  \n",
       "2016-02-06T21:49:36   496563  \n",
       "2016-02-06T21:50:41   800746  \n",
       "2016-02-06T21:52:17   859045  "
      ]
     },
     "execution_count": 28,
     "metadata": {},
     "output_type": "execute_result"
    }
   ],
   "source": [
    "import pandas as pd\n",
    "date_index = pd.read_csv('log_file.csv', \n",
    "                         names=['name', 'email', 'fmip', 'toip',\n",
    "                                'datetime', 'lat', 'long', 'payload'],\n",
    "                         index_col='datetime')\n",
    "\n",
    "date_index"
   ]
  },
  {
   "cell_type": "code",
   "execution_count": 29,
   "metadata": {},
   "outputs": [
    {
     "data": {
      "text/html": [
       "<div>\n",
       "<table border=\"1\" class=\"dataframe\">\n",
       "  <thead>\n",
       "    <tr style=\"text-align: right;\">\n",
       "      <th></th>\n",
       "      <th>name</th>\n",
       "      <th>email</th>\n",
       "      <th>fmip</th>\n",
       "      <th>toip</th>\n",
       "      <th>lat</th>\n",
       "      <th>long</th>\n",
       "      <th>payload</th>\n",
       "    </tr>\n",
       "    <tr>\n",
       "      <th>datetime</th>\n",
       "      <th></th>\n",
       "      <th></th>\n",
       "      <th></th>\n",
       "      <th></th>\n",
       "      <th></th>\n",
       "      <th></th>\n",
       "      <th></th>\n",
       "    </tr>\n",
       "  </thead>\n",
       "  <tbody>\n",
       "    <tr>\n",
       "      <th>2016-02-06T21:44:56</th>\n",
       "      <td>kyle rayner</td>\n",
       "      <td>krayner@jleague.org</td>\n",
       "      <td>208.66.182.10</td>\n",
       "      <td>102.230.226.99</td>\n",
       "      <td>45.28336</td>\n",
       "      <td>10.38742</td>\n",
       "      <td>40287</td>\n",
       "    </tr>\n",
       "    <tr>\n",
       "      <th>2016-02-06T21:45:51</th>\n",
       "      <td>dinah lance</td>\n",
       "      <td>dlance@jleague.org</td>\n",
       "      <td>246.167.32.76</td>\n",
       "      <td>7.36.164.133</td>\n",
       "      <td>45.83448</td>\n",
       "      <td>8.70891</td>\n",
       "      <td>688291</td>\n",
       "    </tr>\n",
       "    <tr>\n",
       "      <th>2016-02-06T21:47:02</th>\n",
       "      <td>arthur curry</td>\n",
       "      <td>acurry@jleague.org</td>\n",
       "      <td>253.36.207.215</td>\n",
       "      <td>7.36.164.0</td>\n",
       "      <td>49.44709</td>\n",
       "      <td>8.05527</td>\n",
       "      <td>126609</td>\n",
       "    </tr>\n",
       "    <tr>\n",
       "      <th>2016-02-06T21:47:26</th>\n",
       "      <td>kara zor-el</td>\n",
       "      <td>kzor-el@jleague.org</td>\n",
       "      <td>208.66.183.214</td>\n",
       "      <td>253.36.207.215</td>\n",
       "      <td>46.22157</td>\n",
       "      <td>10.07309</td>\n",
       "      <td>862129</td>\n",
       "    </tr>\n",
       "    <tr>\n",
       "      <th>2016-02-06T21:48:03</th>\n",
       "      <td>kara zor-el</td>\n",
       "      <td>kzor-el@jleague.org</td>\n",
       "      <td>208.66.183.214</td>\n",
       "      <td>198.240.252.173</td>\n",
       "      <td>45.76911</td>\n",
       "      <td>10.33047</td>\n",
       "      <td>648640</td>\n",
       "    </tr>\n",
       "    <tr>\n",
       "      <th>2016-02-06T21:49:36</th>\n",
       "      <td>hal jordan</td>\n",
       "      <td>hjordan@jleague.org</td>\n",
       "      <td>253.36.207.148</td>\n",
       "      <td>208.66.182.184</td>\n",
       "      <td>47.99098</td>\n",
       "      <td>7.80398</td>\n",
       "      <td>496563</td>\n",
       "    </tr>\n",
       "  </tbody>\n",
       "</table>\n",
       "</div>"
      ],
      "text/plain": [
       "                             name                email            fmip  \\\n",
       "datetime                                                                 \n",
       "2016-02-06T21:44:56   kyle rayner  krayner@jleague.org   208.66.182.10   \n",
       "2016-02-06T21:45:51   dinah lance   dlance@jleague.org   246.167.32.76   \n",
       "2016-02-06T21:47:02  arthur curry   acurry@jleague.org  253.36.207.215   \n",
       "2016-02-06T21:47:26   kara zor-el  kzor-el@jleague.org  208.66.183.214   \n",
       "2016-02-06T21:48:03   kara zor-el  kzor-el@jleague.org  208.66.183.214   \n",
       "2016-02-06T21:49:36    hal jordan  hjordan@jleague.org  253.36.207.148   \n",
       "\n",
       "                                toip       lat      long  payload  \n",
       "datetime                                                           \n",
       "2016-02-06T21:44:56   102.230.226.99  45.28336  10.38742    40287  \n",
       "2016-02-06T21:45:51     7.36.164.133  45.83448   8.70891   688291  \n",
       "2016-02-06T21:47:02       7.36.164.0  49.44709   8.05527   126609  \n",
       "2016-02-06T21:47:26   253.36.207.215  46.22157  10.07309   862129  \n",
       "2016-02-06T21:48:03  198.240.252.173  45.76911  10.33047   648640  \n",
       "2016-02-06T21:49:36   208.66.182.184  47.99098   7.80398   496563  "
      ]
     },
     "execution_count": 29,
     "metadata": {},
     "output_type": "execute_result"
    }
   ],
   "source": [
    "# If we have an index, we can select data from the DataFrame\n",
    "# based on the index. In this case, since we just made the\n",
    "# date/time our index, we can\n",
    "# easily select rows based on the date/time stamps\n",
    "\n",
    "date_index.loc['2016-02-06T21:44:56':'2016-02-06T21:49:36']\n"
   ]
  },
  {
   "cell_type": "markdown",
   "metadata": {},
   "source": [
    "# Experience Points!\n",
    "---"
   ]
  },
  {
   "cell_type": "markdown",
   "metadata": {},
   "source": [
    "In your **text editor** create a simple script called:\n",
    "\n",
    "```bash\n",
    "my_read_01.py```\n",
    "\n",
    "Execute your script in the **IPython interpreter** using the command:\n",
    "\n",
    "```bash\n",
    "run my_read_01.py```\n",
    "\n",
    "1. With a text editor look inside the file `log_file_sign.csv` and identify the delimiter.\n",
    "1. Open the file using the pandas `.read_csv()` method and the following:\n",
    "   * Assign the following names to the columns, in this order:<br><br>\n",
    "```\n",
    "name\n",
    "email\n",
    "fmip\n",
    "toip\n",
    "datetime\n",
    "lat\n",
    "long\n",
    "payload_size\n",
    "```<br><br>\n",
    "   * Assign the correct delimiter based on what you found\n",
    "   * Skip the even numbered rows using `range()` to count up to 1000 stepping by twos\n",
    "   * Index the DataFrame using the `datetime` column\n",
    "1. Display the data between the index `2016-01-29T22:27:34` and `2016-01-28T22:34:28`"
   ]
  },
  {
   "cell_type": "markdown",
   "metadata": {},
   "source": [
    "When you complete this exercise, please put your green post-it on your monitor. \n",
    "\n",
    "If you want to continue on at your own-pace, please feel free to do so.\n",
    "\n",
    "<img src='../images/green_sticky.300px.png' width='200' style='float:left'>"
   ]
  },
  {
   "cell_type": "code",
   "execution_count": null,
   "metadata": {
    "collapsed": true
   },
   "outputs": [],
   "source": [
    "import pandas as pd\n",
    "df = pd.read_csv('log_file_sign.csv',\n",
    "                 names=['name',\n",
    "                        'email',\n",
    "                        'fmip',\n",
    "                        'toip',\n",
    "                        'datetime',\n",
    "                        'lat',\n",
    "                        'long',\n",
    "                        'payload_size'],\n",
    "                sep='!',\n",
    "                index_col='datetime', \n",
    "                skiprows = range(0,1000,2))\n",
    "\n",
    "df.loc['2016-01-29T22:27:34':'2016-01-28T22:34:28']"
   ]
  },
  {
   "cell_type": "markdown",
   "metadata": {},
   "source": [
    "# Missing data\n",
    "---"
   ]
  },
  {
   "cell_type": "markdown",
   "metadata": {
    "collapsed": true
   },
   "source": [
    "Some files have missing data or markers indicating that data is not available."
   ]
  },
  {
   "cell_type": "code",
   "execution_count": null,
   "metadata": {
    "collapsed": true
   },
   "outputs": [],
   "source": [
    "data_na = pd.read_csv('log_file_na.csv', \n",
    "                      names=['name', 'email', 'fmip',\n",
    "                             'toip', 'datetime', 'lat',\n",
    "                             'long', 'payload'])\n",
    "\n",
    "data_na\n"
   ]
  },
  {
   "cell_type": "code",
   "execution_count": null,
   "metadata": {
    "collapsed": true
   },
   "outputs": [],
   "source": [
    "# You can drop any rows that contain NaN data:\n",
    "\n",
    "data_na.dropna()"
   ]
  },
  {
   "cell_type": "markdown",
   "metadata": {
    "collapsed": true
   },
   "source": [
    "Checking for NaN status and converting the particular values to an pandas NaN flag is a time consuming process that might not be optimal when loading data.\n",
    "\n",
    "You **can** turn this process off"
   ]
  },
  {
   "cell_type": "code",
   "execution_count": null,
   "metadata": {
    "collapsed": true
   },
   "outputs": [],
   "source": [
    "data_na = pd.read_csv('log_file_na.csv', \n",
    "                      names=['name', 'email', 'fmip',\n",
    "                             'toip', 'datetime', 'lat', \n",
    "                             'long', 'payload'],\n",
    "                      na_filter=False)\n",
    "\n",
    "data_na.head(20)"
   ]
  },
  {
   "cell_type": "markdown",
   "metadata": {
    "collapsed": true
   },
   "source": [
    "You can provide a list of particular values to use as na values. \n",
    "\n",
    "Some files or software will use sentinels or flag values to represent a null value.\n",
    "\n",
    "NOTE: in this case, pandas will combine the na_values you give with the built-in na values."
   ]
  },
  {
   "cell_type": "code",
   "execution_count": null,
   "metadata": {
    "collapsed": true
   },
   "outputs": [],
   "source": [
    "data_na = pd.read_csv('log_file_na.csv', \n",
    "                      names=['name', 'email', 'fmip',\n",
    "                             'toip', 'datetime', 'lat',\n",
    "                             'long', 'payload'],\n",
    "                      na_values=['', '9999'])\n",
    "data_na.head(20)"
   ]
  },
  {
   "cell_type": "code",
   "execution_count": null,
   "metadata": {
    "collapsed": true
   },
   "outputs": [],
   "source": [
    "data_na = pd.read_csv('log_file_na.csv', \n",
    "                      names=['name', 'email', 'fmip',\n",
    "                             'toip', 'datetime', 'lat',\n",
    "                             'long', 'payload'],\n",
    "                         na_values=['', '9999'],\n",
    "                         keep_default_na=False)\n",
    "\n",
    "data_na.head(20)"
   ]
  },
  {
   "cell_type": "code",
   "execution_count": null,
   "metadata": {
    "collapsed": true
   },
   "outputs": [],
   "source": [
    "# It is possible to tell pandas how many rows to read using:\n",
    "# nrows\n",
    "\n",
    "\n",
    "data_na = pd.read_csv('log_file_na.csv', \n",
    "                      names=['name', 'email', 'fmip',\n",
    "                             'toip', 'datetime', 'lat',\n",
    "                             'long', 'payload'],\n",
    "                      na_values=['', '9999'], \n",
    "                      keep_default_na=False,\n",
    "                      nrows=7)\n",
    "data_na"
   ]
  },
  {
   "cell_type": "code",
   "execution_count": null,
   "metadata": {
    "collapsed": true
   },
   "outputs": [],
   "source": [
    "# Sometimes the amount of data you need to process is \n",
    "#     too large to read into memory, so you need to process\n",
    "#     it portion by portion.\n",
    "# The chunksize argument allows you to identify how many\n",
    "#     rows to read in at a time\n",
    "\n",
    "data = pd.read_csv('log_file.csv', \n",
    "                   names=['name', 'email', 'fmip', \n",
    "                          'toip', 'datetime', 'lat',\n",
    "                          'long', 'payload'],\n",
    "                   chunksize=3)\n",
    "\n",
    "for chunk in data:\n",
    "    print('\\npre-processing')\n",
    "    print('more pre-processing')\n",
    "    print('even more pre-processing')\n",
    "    print(chunk)\n",
    "    print('post processing\\n')"
   ]
  },
  {
   "cell_type": "code",
   "execution_count": null,
   "metadata": {
    "collapsed": true
   },
   "outputs": [],
   "source": [
    "# If you want to convert data in one or more columns of your\n",
    "#     DataFrame, you can use functions to transform the data.\n",
    "\n",
    "# To convert multiple columns with different functions\n",
    "#     you can use dictionary to create a mapping that\n",
    "#     defines which conversion function(s)\n",
    "#     to use against which columns(s)"
   ]
  },
  {
   "cell_type": "code",
   "execution_count": null,
   "metadata": {
    "collapsed": true
   },
   "outputs": [],
   "source": [
    "def dsplitter(address):\n",
    "    userid, domain = address.split('@')\n",
    "    return domain\n",
    "\n",
    "def date_only(datetime):\n",
    "    return datetime.split('T')[0]"
   ]
  },
  {
   "cell_type": "code",
   "execution_count": null,
   "metadata": {
    "collapsed": true
   },
   "outputs": [],
   "source": [
    "data = pd.read_csv('log_file.csv', \n",
    "                   names=['name', 'email', 'fmip',\n",
    "                          'toip', 'datetime', 'lat',\n",
    "                          'long', 'payload'],\n",
    "                   converters={'email':dsplitter,\n",
    "                               'datetime':date_only})\n",
    "data"
   ]
  },
  {
   "cell_type": "code",
   "execution_count": null,
   "metadata": {
    "collapsed": true
   },
   "outputs": [],
   "source": [
    "# If you only want to retain certain columns, you can\n",
    "#     identify which columns to keep, using:\n",
    "# usecols\n",
    "\n",
    "\n",
    "data = pd.read_csv('log_file.csv', \n",
    "                   names=['name', 'email', 'fmip',\n",
    "                          'toip', 'datetime', 'lat',\n",
    "                          'long', 'payload'],\n",
    "                   usecols=['email', 'fmip', 'toip'])\n",
    "\n",
    "data"
   ]
  },
  {
   "cell_type": "markdown",
   "metadata": {},
   "source": [
    "# SQL\n",
    "---"
   ]
  },
  {
   "cell_type": "code",
   "execution_count": null,
   "metadata": {
    "collapsed": true
   },
   "outputs": [],
   "source": [
    "# pandas can read from sql databases easily...\n",
    "\n",
    "import sqlite3\n",
    "conn = sqlite3.connect('log_file.sql')\n",
    "cur = conn.cursor()\n",
    "\n",
    "df = pd.read_sql(\"SELECT * FROM superheroes\", conn)\n",
    "df.head()"
   ]
  },
  {
   "cell_type": "code",
   "execution_count": null,
   "metadata": {
    "collapsed": true
   },
   "outputs": [],
   "source": [
    "df1 = pd.read_sql('''SELECT datetime, email, lat, long FROM superheroes\n",
    "                          WHERE name LIKE \"%wayne%\"''', conn)\n",
    "df1.head()"
   ]
  },
  {
   "cell_type": "code",
   "execution_count": null,
   "metadata": {
    "collapsed": true
   },
   "outputs": [],
   "source": [
    "df2 = pd.read_sql('''SELECT datetime, email, lat, long\n",
    "                     FROM superheroes\n",
    "                     WHERE name LIKE \"%wayne%\"''',\n",
    "                  conn,\n",
    "                  index_col='datetime')\n",
    "df2.head()"
   ]
  },
  {
   "cell_type": "code",
   "execution_count": null,
   "metadata": {
    "collapsed": true
   },
   "outputs": [],
   "source": []
  },
  {
   "cell_type": "markdown",
   "metadata": {},
   "source": [
    "# Writing to disk\n",
    "---"
   ]
  },
  {
   "cell_type": "code",
   "execution_count": null,
   "metadata": {
    "collapsed": true
   },
   "outputs": [],
   "source": [
    "df2.to_csv('class_out.csv',\n",
    "           columns=['email', 'lat', 'long', 'name'],\n",
    "           header=True, sep='|')\n",
    "\n"
   ]
  },
  {
   "cell_type": "code",
   "execution_count": null,
   "metadata": {
    "collapsed": true
   },
   "outputs": [],
   "source": []
  },
  {
   "cell_type": "markdown",
   "metadata": {},
   "source": [
    "# Experience Points!\n",
    "---"
   ]
  },
  {
   "cell_type": "markdown",
   "metadata": {},
   "source": [
    "In your **text editor** create a simple script called:\n",
    "\n",
    "```bash\n",
    "my_read_02.py```\n",
    "\n",
    "Execute your script in the **IPython interpreter** using the command:\n",
    "\n",
    "```bash\n",
    "run my_read_02.py```\n",
    "\n",
    "1. Connect to the `superheroes` table in the sql database: `log_file.sql`\n",
    "1. Read from the connection using pandas `.read_sql()` method to create a DataFrame with these characteristics:\n",
    "    * Read in only the following columns: `email`, `lat`, `long`, and `datetime`\n",
    "    * Choose only the rows where the name contains the string `barry`\n",
    "1. Use DataFrame's `.head()` method to display just the first ten rows."
   ]
  },
  {
   "cell_type": "markdown",
   "metadata": {},
   "source": [
    "When you complete this exercise, please put your green post-it on your monitor. \n",
    "\n",
    "If you want to continue on at your own-pace, please feel free to do so.\n",
    "\n",
    "<img src='../images/green_sticky.300px.png' width='200' style='float:left'>"
   ]
  }
 ],
 "metadata": {
  "anaconda-cloud": {},
  "kernelspec": {
   "display_name": "Python [default]",
   "language": "python",
   "name": "python3"
  },
  "language_info": {
   "codemirror_mode": {
    "name": "ipython",
    "version": 3
   },
   "file_extension": ".py",
   "mimetype": "text/x-python",
   "name": "python",
   "nbconvert_exporter": "python",
   "pygments_lexer": "ipython3",
   "version": "3.5.3"
  }
 },
 "nbformat": 4,
 "nbformat_minor": 2
}
